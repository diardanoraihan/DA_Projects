{
 "cells": [
  {
   "cell_type": "markdown",
   "id": "1d2a7f1d",
   "metadata": {},
   "source": [
    "# Market to Revenue Analysis: Cross Correlation"
   ]
  },
  {
   "cell_type": "markdown",
   "id": "af661636",
   "metadata": {},
   "source": [
    "# Introduction"
   ]
  },
  {
   "cell_type": "markdown",
   "id": "baeba469",
   "metadata": {},
   "source": [
    "## Motivation"
   ]
  },
  {
   "cell_type": "code",
   "execution_count": null,
   "id": "953d2344",
   "metadata": {},
   "outputs": [],
   "source": []
  },
  {
   "cell_type": "markdown",
   "id": "de6177d3",
   "metadata": {},
   "source": [
    "## Objectives"
   ]
  },
  {
   "cell_type": "code",
   "execution_count": null,
   "id": "c148de5f",
   "metadata": {},
   "outputs": [],
   "source": []
  },
  {
   "cell_type": "markdown",
   "id": "9375354d",
   "metadata": {},
   "source": [
    "# Data Description"
   ]
  },
  {
   "cell_type": "markdown",
   "id": "301fceb1",
   "metadata": {},
   "source": [
    "## Load the Required Libaries"
   ]
  },
  {
   "cell_type": "code",
   "execution_count": 74,
   "id": "4b490fdf",
   "metadata": {},
   "outputs": [],
   "source": [
    "# import all the main libraries\n",
    "import pandas as pd\n",
    "import numpy as np\n",
    "import matplotlib.pyplot as plt\n",
    "import seaborn as sns\n",
    "import plotly.express as px\n",
    "\n",
    "# Display all the columns in pandas without being truncated\n",
    "pd.options.display.max_columns = None\n",
    "%config IPCompleter.greedy=True\n",
    "%config IPCompleter.use_jedi=False"
   ]
  },
  {
   "cell_type": "markdown",
   "id": "90c174a6",
   "metadata": {},
   "source": [
    "## Marketing Cost Data"
   ]
  },
  {
   "cell_type": "code",
   "execution_count": 75,
   "id": "663dc0e2",
   "metadata": {},
   "outputs": [
    {
     "data": {
      "text/html": [
       "<div>\n",
       "<style scoped>\n",
       "    .dataframe tbody tr th:only-of-type {\n",
       "        vertical-align: middle;\n",
       "    }\n",
       "\n",
       "    .dataframe tbody tr th {\n",
       "        vertical-align: top;\n",
       "    }\n",
       "\n",
       "    .dataframe thead th {\n",
       "        text-align: right;\n",
       "    }\n",
       "</style>\n",
       "<table border=\"1\" class=\"dataframe\">\n",
       "  <thead>\n",
       "    <tr style=\"text-align: right;\">\n",
       "      <th></th>\n",
       "      <th>date</th>\n",
       "      <th>type</th>\n",
       "      <th>cost</th>\n",
       "    </tr>\n",
       "  </thead>\n",
       "  <tbody>\n",
       "    <tr>\n",
       "      <th>0</th>\n",
       "      <td>2010-01-01</td>\n",
       "      <td>Brand Awareness</td>\n",
       "      <td>311.84</td>\n",
       "    </tr>\n",
       "    <tr>\n",
       "      <th>1</th>\n",
       "      <td>2010-01-09</td>\n",
       "      <td>Brand Awareness</td>\n",
       "      <td>72.76</td>\n",
       "    </tr>\n",
       "    <tr>\n",
       "      <th>2</th>\n",
       "      <td>2010-01-28</td>\n",
       "      <td>Brand Awareness</td>\n",
       "      <td>15592.05</td>\n",
       "    </tr>\n",
       "    <tr>\n",
       "      <th>3</th>\n",
       "      <td>2010-01-28</td>\n",
       "      <td>Advertising Conversion</td>\n",
       "      <td>6236.82</td>\n",
       "    </tr>\n",
       "    <tr>\n",
       "      <th>4</th>\n",
       "      <td>2010-02-05</td>\n",
       "      <td>Marketing Production</td>\n",
       "      <td>4959.93</td>\n",
       "    </tr>\n",
       "  </tbody>\n",
       "</table>\n",
       "</div>"
      ],
      "text/plain": [
       "        date                    type      cost\n",
       "0 2010-01-01         Brand Awareness    311.84\n",
       "1 2010-01-09         Brand Awareness     72.76\n",
       "2 2010-01-28         Brand Awareness  15592.05\n",
       "3 2010-01-28  Advertising Conversion   6236.82\n",
       "4 2010-02-05    Marketing Production   4959.93"
      ]
     },
     "execution_count": 75,
     "metadata": {},
     "output_type": "execute_result"
    }
   ],
   "source": [
    "import pandas as pd\n",
    "\n",
    "df_cost = pd.read_csv('Data/marketing_cost_dataset.csv')\n",
    "df_cost['date'] = pd.to_datetime(df_cost['date'], dayfirst=True)\n",
    "df_cost.head()"
   ]
  },
  {
   "cell_type": "code",
   "execution_count": 76,
   "id": "36e60ee6",
   "metadata": {},
   "outputs": [
    {
     "name": "stdout",
     "output_type": "stream",
     "text": [
      "<class 'pandas.core.frame.DataFrame'>\n",
      "RangeIndex: 115 entries, 0 to 114\n",
      "Data columns (total 3 columns):\n",
      " #   Column  Non-Null Count  Dtype         \n",
      "---  ------  --------------  -----         \n",
      " 0   date    115 non-null    datetime64[ns]\n",
      " 1   type    115 non-null    object        \n",
      " 2   cost    115 non-null    float64       \n",
      "dtypes: datetime64[ns](1), float64(1), object(1)\n",
      "memory usage: 2.8+ KB\n"
     ]
    }
   ],
   "source": [
    "df_cost.info()"
   ]
  },
  {
   "cell_type": "markdown",
   "id": "764a2f9f",
   "metadata": {},
   "source": [
    "## Sales Data"
   ]
  },
  {
   "cell_type": "code",
   "execution_count": 77,
   "id": "4d66de53",
   "metadata": {},
   "outputs": [
    {
     "data": {
      "text/html": [
       "<div>\n",
       "<style scoped>\n",
       "    .dataframe tbody tr th:only-of-type {\n",
       "        vertical-align: middle;\n",
       "    }\n",
       "\n",
       "    .dataframe tbody tr th {\n",
       "        vertical-align: top;\n",
       "    }\n",
       "\n",
       "    .dataframe thead th {\n",
       "        text-align: right;\n",
       "    }\n",
       "</style>\n",
       "<table border=\"1\" class=\"dataframe\">\n",
       "  <thead>\n",
       "    <tr style=\"text-align: right;\">\n",
       "      <th></th>\n",
       "      <th>date</th>\n",
       "      <th>revenue</th>\n",
       "    </tr>\n",
       "  </thead>\n",
       "  <tbody>\n",
       "    <tr>\n",
       "      <th>0</th>\n",
       "      <td>2010-03-22</td>\n",
       "      <td>2725.60</td>\n",
       "    </tr>\n",
       "    <tr>\n",
       "      <th>1</th>\n",
       "      <td>2010-03-23</td>\n",
       "      <td>8042.22</td>\n",
       "    </tr>\n",
       "    <tr>\n",
       "      <th>2</th>\n",
       "      <td>2010-03-24</td>\n",
       "      <td>4912.82</td>\n",
       "    </tr>\n",
       "    <tr>\n",
       "      <th>3</th>\n",
       "      <td>2010-03-25</td>\n",
       "      <td>11474.46</td>\n",
       "    </tr>\n",
       "    <tr>\n",
       "      <th>4</th>\n",
       "      <td>2010-03-26</td>\n",
       "      <td>9880.32</td>\n",
       "    </tr>\n",
       "  </tbody>\n",
       "</table>\n",
       "</div>"
      ],
      "text/plain": [
       "        date   revenue\n",
       "0 2010-03-22   2725.60\n",
       "1 2010-03-23   8042.22\n",
       "2 2010-03-24   4912.82\n",
       "3 2010-03-25  11474.46\n",
       "4 2010-03-26   9880.32"
      ]
     },
     "execution_count": 77,
     "metadata": {},
     "output_type": "execute_result"
    }
   ],
   "source": [
    "import pandas as pd\n",
    "\n",
    "df_sales = pd.read_csv('Data/sales_dataset.csv')\n",
    "df_sales['date'] = pd.to_datetime(df_sales['date'], dayfirst=True)\n",
    "df_sales.head()"
   ]
  },
  {
   "cell_type": "code",
   "execution_count": 78,
   "id": "ef34983e",
   "metadata": {},
   "outputs": [
    {
     "name": "stdout",
     "output_type": "stream",
     "text": [
      "<class 'pandas.core.frame.DataFrame'>\n",
      "RangeIndex: 257 entries, 0 to 256\n",
      "Data columns (total 2 columns):\n",
      " #   Column   Non-Null Count  Dtype         \n",
      "---  ------   --------------  -----         \n",
      " 0   date     257 non-null    datetime64[ns]\n",
      " 1   revenue  257 non-null    float64       \n",
      "dtypes: datetime64[ns](1), float64(1)\n",
      "memory usage: 4.1 KB\n"
     ]
    }
   ],
   "source": [
    "df_sales.info()"
   ]
  },
  {
   "cell_type": "markdown",
   "id": "8f553ff4",
   "metadata": {},
   "source": [
    "# Exploratory Data Analysis"
   ]
  },
  {
   "cell_type": "markdown",
   "id": "e6aa0235",
   "metadata": {},
   "source": [
    "## Cost Data"
   ]
  },
  {
   "cell_type": "markdown",
   "id": "1dd016a3",
   "metadata": {},
   "source": [
    "### Marketing Type vs Cost"
   ]
  },
  {
   "cell_type": "code",
   "execution_count": 79,
   "id": "8d66de46",
   "metadata": {},
   "outputs": [
    {
     "data": {
      "application/vnd.plotly.v1+json": {
       "config": {
        "plotlyServerURL": "https://plotly.com"
       },
       "data": [
        {
         "alignmentgroup": "True",
         "hovertemplate": "Type: %{y} <br>Cost: $%{x}",
         "legendgroup": "",
         "marker": {
          "color": "rgb(189,140,195)",
          "line": {
           "color": "rgb(107,1,125)"
          },
          "pattern": {
           "shape": ""
          }
         },
         "name": "",
         "offsetgroup": "",
         "orientation": "h",
         "showlegend": false,
         "text": [
          "0.11%",
          "2.86%",
          "5.00%",
          "7.61%",
          "16.39%",
          "32.01%",
          "36.02%"
         ],
         "textposition": "auto",
         "type": "bar",
         "x": [
          1871.05,
          50763.47,
          88885.4,
          135131.09,
          291201.58,
          568728.72,
          639981.75
         ],
         "xaxis": "x",
         "y": [
          "Marketing Research",
          "Miscellaneous",
          "Consultant",
          "Advertising Conversion",
          "Brand Awareness",
          "Sales Person",
          "Marketing Production"
         ],
         "yaxis": "y"
        }
       ],
       "layout": {
        "barmode": "relative",
        "legend": {
         "tracegroupgap": 0
        },
        "margin": {
         "t": 60
        },
        "template": {
         "data": {
          "bar": [
           {
            "error_x": {
             "color": "#2a3f5f"
            },
            "error_y": {
             "color": "#2a3f5f"
            },
            "marker": {
             "line": {
              "color": "#E5ECF6",
              "width": 0.5
             },
             "pattern": {
              "fillmode": "overlay",
              "size": 10,
              "solidity": 0.2
             }
            },
            "type": "bar"
           }
          ],
          "barpolar": [
           {
            "marker": {
             "line": {
              "color": "#E5ECF6",
              "width": 0.5
             },
             "pattern": {
              "fillmode": "overlay",
              "size": 10,
              "solidity": 0.2
             }
            },
            "type": "barpolar"
           }
          ],
          "carpet": [
           {
            "aaxis": {
             "endlinecolor": "#2a3f5f",
             "gridcolor": "white",
             "linecolor": "white",
             "minorgridcolor": "white",
             "startlinecolor": "#2a3f5f"
            },
            "baxis": {
             "endlinecolor": "#2a3f5f",
             "gridcolor": "white",
             "linecolor": "white",
             "minorgridcolor": "white",
             "startlinecolor": "#2a3f5f"
            },
            "type": "carpet"
           }
          ],
          "choropleth": [
           {
            "colorbar": {
             "outlinewidth": 0,
             "ticks": ""
            },
            "type": "choropleth"
           }
          ],
          "contour": [
           {
            "colorbar": {
             "outlinewidth": 0,
             "ticks": ""
            },
            "colorscale": [
             [
              0,
              "#0d0887"
             ],
             [
              0.1111111111111111,
              "#46039f"
             ],
             [
              0.2222222222222222,
              "#7201a8"
             ],
             [
              0.3333333333333333,
              "#9c179e"
             ],
             [
              0.4444444444444444,
              "#bd3786"
             ],
             [
              0.5555555555555556,
              "#d8576b"
             ],
             [
              0.6666666666666666,
              "#ed7953"
             ],
             [
              0.7777777777777778,
              "#fb9f3a"
             ],
             [
              0.8888888888888888,
              "#fdca26"
             ],
             [
              1,
              "#f0f921"
             ]
            ],
            "type": "contour"
           }
          ],
          "contourcarpet": [
           {
            "colorbar": {
             "outlinewidth": 0,
             "ticks": ""
            },
            "type": "contourcarpet"
           }
          ],
          "heatmap": [
           {
            "colorbar": {
             "outlinewidth": 0,
             "ticks": ""
            },
            "colorscale": [
             [
              0,
              "#0d0887"
             ],
             [
              0.1111111111111111,
              "#46039f"
             ],
             [
              0.2222222222222222,
              "#7201a8"
             ],
             [
              0.3333333333333333,
              "#9c179e"
             ],
             [
              0.4444444444444444,
              "#bd3786"
             ],
             [
              0.5555555555555556,
              "#d8576b"
             ],
             [
              0.6666666666666666,
              "#ed7953"
             ],
             [
              0.7777777777777778,
              "#fb9f3a"
             ],
             [
              0.8888888888888888,
              "#fdca26"
             ],
             [
              1,
              "#f0f921"
             ]
            ],
            "type": "heatmap"
           }
          ],
          "heatmapgl": [
           {
            "colorbar": {
             "outlinewidth": 0,
             "ticks": ""
            },
            "colorscale": [
             [
              0,
              "#0d0887"
             ],
             [
              0.1111111111111111,
              "#46039f"
             ],
             [
              0.2222222222222222,
              "#7201a8"
             ],
             [
              0.3333333333333333,
              "#9c179e"
             ],
             [
              0.4444444444444444,
              "#bd3786"
             ],
             [
              0.5555555555555556,
              "#d8576b"
             ],
             [
              0.6666666666666666,
              "#ed7953"
             ],
             [
              0.7777777777777778,
              "#fb9f3a"
             ],
             [
              0.8888888888888888,
              "#fdca26"
             ],
             [
              1,
              "#f0f921"
             ]
            ],
            "type": "heatmapgl"
           }
          ],
          "histogram": [
           {
            "marker": {
             "pattern": {
              "fillmode": "overlay",
              "size": 10,
              "solidity": 0.2
             }
            },
            "type": "histogram"
           }
          ],
          "histogram2d": [
           {
            "colorbar": {
             "outlinewidth": 0,
             "ticks": ""
            },
            "colorscale": [
             [
              0,
              "#0d0887"
             ],
             [
              0.1111111111111111,
              "#46039f"
             ],
             [
              0.2222222222222222,
              "#7201a8"
             ],
             [
              0.3333333333333333,
              "#9c179e"
             ],
             [
              0.4444444444444444,
              "#bd3786"
             ],
             [
              0.5555555555555556,
              "#d8576b"
             ],
             [
              0.6666666666666666,
              "#ed7953"
             ],
             [
              0.7777777777777778,
              "#fb9f3a"
             ],
             [
              0.8888888888888888,
              "#fdca26"
             ],
             [
              1,
              "#f0f921"
             ]
            ],
            "type": "histogram2d"
           }
          ],
          "histogram2dcontour": [
           {
            "colorbar": {
             "outlinewidth": 0,
             "ticks": ""
            },
            "colorscale": [
             [
              0,
              "#0d0887"
             ],
             [
              0.1111111111111111,
              "#46039f"
             ],
             [
              0.2222222222222222,
              "#7201a8"
             ],
             [
              0.3333333333333333,
              "#9c179e"
             ],
             [
              0.4444444444444444,
              "#bd3786"
             ],
             [
              0.5555555555555556,
              "#d8576b"
             ],
             [
              0.6666666666666666,
              "#ed7953"
             ],
             [
              0.7777777777777778,
              "#fb9f3a"
             ],
             [
              0.8888888888888888,
              "#fdca26"
             ],
             [
              1,
              "#f0f921"
             ]
            ],
            "type": "histogram2dcontour"
           }
          ],
          "mesh3d": [
           {
            "colorbar": {
             "outlinewidth": 0,
             "ticks": ""
            },
            "type": "mesh3d"
           }
          ],
          "parcoords": [
           {
            "line": {
             "colorbar": {
              "outlinewidth": 0,
              "ticks": ""
             }
            },
            "type": "parcoords"
           }
          ],
          "pie": [
           {
            "automargin": true,
            "type": "pie"
           }
          ],
          "scatter": [
           {
            "fillpattern": {
             "fillmode": "overlay",
             "size": 10,
             "solidity": 0.2
            },
            "type": "scatter"
           }
          ],
          "scatter3d": [
           {
            "line": {
             "colorbar": {
              "outlinewidth": 0,
              "ticks": ""
             }
            },
            "marker": {
             "colorbar": {
              "outlinewidth": 0,
              "ticks": ""
             }
            },
            "type": "scatter3d"
           }
          ],
          "scattercarpet": [
           {
            "marker": {
             "colorbar": {
              "outlinewidth": 0,
              "ticks": ""
             }
            },
            "type": "scattercarpet"
           }
          ],
          "scattergeo": [
           {
            "marker": {
             "colorbar": {
              "outlinewidth": 0,
              "ticks": ""
             }
            },
            "type": "scattergeo"
           }
          ],
          "scattergl": [
           {
            "marker": {
             "colorbar": {
              "outlinewidth": 0,
              "ticks": ""
             }
            },
            "type": "scattergl"
           }
          ],
          "scattermapbox": [
           {
            "marker": {
             "colorbar": {
              "outlinewidth": 0,
              "ticks": ""
             }
            },
            "type": "scattermapbox"
           }
          ],
          "scatterpolar": [
           {
            "marker": {
             "colorbar": {
              "outlinewidth": 0,
              "ticks": ""
             }
            },
            "type": "scatterpolar"
           }
          ],
          "scatterpolargl": [
           {
            "marker": {
             "colorbar": {
              "outlinewidth": 0,
              "ticks": ""
             }
            },
            "type": "scatterpolargl"
           }
          ],
          "scatterternary": [
           {
            "marker": {
             "colorbar": {
              "outlinewidth": 0,
              "ticks": ""
             }
            },
            "type": "scatterternary"
           }
          ],
          "surface": [
           {
            "colorbar": {
             "outlinewidth": 0,
             "ticks": ""
            },
            "colorscale": [
             [
              0,
              "#0d0887"
             ],
             [
              0.1111111111111111,
              "#46039f"
             ],
             [
              0.2222222222222222,
              "#7201a8"
             ],
             [
              0.3333333333333333,
              "#9c179e"
             ],
             [
              0.4444444444444444,
              "#bd3786"
             ],
             [
              0.5555555555555556,
              "#d8576b"
             ],
             [
              0.6666666666666666,
              "#ed7953"
             ],
             [
              0.7777777777777778,
              "#fb9f3a"
             ],
             [
              0.8888888888888888,
              "#fdca26"
             ],
             [
              1,
              "#f0f921"
             ]
            ],
            "type": "surface"
           }
          ],
          "table": [
           {
            "cells": {
             "fill": {
              "color": "#EBF0F8"
             },
             "line": {
              "color": "white"
             }
            },
            "header": {
             "fill": {
              "color": "#C8D4E3"
             },
             "line": {
              "color": "white"
             }
            },
            "type": "table"
           }
          ]
         },
         "layout": {
          "annotationdefaults": {
           "arrowcolor": "#2a3f5f",
           "arrowhead": 0,
           "arrowwidth": 1
          },
          "autotypenumbers": "strict",
          "coloraxis": {
           "colorbar": {
            "outlinewidth": 0,
            "ticks": ""
           }
          },
          "colorscale": {
           "diverging": [
            [
             0,
             "#8e0152"
            ],
            [
             0.1,
             "#c51b7d"
            ],
            [
             0.2,
             "#de77ae"
            ],
            [
             0.3,
             "#f1b6da"
            ],
            [
             0.4,
             "#fde0ef"
            ],
            [
             0.5,
             "#f7f7f7"
            ],
            [
             0.6,
             "#e6f5d0"
            ],
            [
             0.7,
             "#b8e186"
            ],
            [
             0.8,
             "#7fbc41"
            ],
            [
             0.9,
             "#4d9221"
            ],
            [
             1,
             "#276419"
            ]
           ],
           "sequential": [
            [
             0,
             "#0d0887"
            ],
            [
             0.1111111111111111,
             "#46039f"
            ],
            [
             0.2222222222222222,
             "#7201a8"
            ],
            [
             0.3333333333333333,
             "#9c179e"
            ],
            [
             0.4444444444444444,
             "#bd3786"
            ],
            [
             0.5555555555555556,
             "#d8576b"
            ],
            [
             0.6666666666666666,
             "#ed7953"
            ],
            [
             0.7777777777777778,
             "#fb9f3a"
            ],
            [
             0.8888888888888888,
             "#fdca26"
            ],
            [
             1,
             "#f0f921"
            ]
           ],
           "sequentialminus": [
            [
             0,
             "#0d0887"
            ],
            [
             0.1111111111111111,
             "#46039f"
            ],
            [
             0.2222222222222222,
             "#7201a8"
            ],
            [
             0.3333333333333333,
             "#9c179e"
            ],
            [
             0.4444444444444444,
             "#bd3786"
            ],
            [
             0.5555555555555556,
             "#d8576b"
            ],
            [
             0.6666666666666666,
             "#ed7953"
            ],
            [
             0.7777777777777778,
             "#fb9f3a"
            ],
            [
             0.8888888888888888,
             "#fdca26"
            ],
            [
             1,
             "#f0f921"
            ]
           ]
          },
          "colorway": [
           "#636efa",
           "#EF553B",
           "#00cc96",
           "#ab63fa",
           "#FFA15A",
           "#19d3f3",
           "#FF6692",
           "#B6E880",
           "#FF97FF",
           "#FECB52"
          ],
          "font": {
           "color": "#2a3f5f"
          },
          "geo": {
           "bgcolor": "white",
           "lakecolor": "white",
           "landcolor": "#E5ECF6",
           "showlakes": true,
           "showland": true,
           "subunitcolor": "white"
          },
          "hoverlabel": {
           "align": "left"
          },
          "hovermode": "closest",
          "mapbox": {
           "style": "light"
          },
          "paper_bgcolor": "white",
          "plot_bgcolor": "#E5ECF6",
          "polar": {
           "angularaxis": {
            "gridcolor": "white",
            "linecolor": "white",
            "ticks": ""
           },
           "bgcolor": "#E5ECF6",
           "radialaxis": {
            "gridcolor": "white",
            "linecolor": "white",
            "ticks": ""
           }
          },
          "scene": {
           "xaxis": {
            "backgroundcolor": "#E5ECF6",
            "gridcolor": "white",
            "gridwidth": 2,
            "linecolor": "white",
            "showbackground": true,
            "ticks": "",
            "zerolinecolor": "white"
           },
           "yaxis": {
            "backgroundcolor": "#E5ECF6",
            "gridcolor": "white",
            "gridwidth": 2,
            "linecolor": "white",
            "showbackground": true,
            "ticks": "",
            "zerolinecolor": "white"
           },
           "zaxis": {
            "backgroundcolor": "#E5ECF6",
            "gridcolor": "white",
            "gridwidth": 2,
            "linecolor": "white",
            "showbackground": true,
            "ticks": "",
            "zerolinecolor": "white"
           }
          },
          "shapedefaults": {
           "line": {
            "color": "#2a3f5f"
           }
          },
          "ternary": {
           "aaxis": {
            "gridcolor": "white",
            "linecolor": "white",
            "ticks": ""
           },
           "baxis": {
            "gridcolor": "white",
            "linecolor": "white",
            "ticks": ""
           },
           "bgcolor": "#E5ECF6",
           "caxis": {
            "gridcolor": "white",
            "linecolor": "white",
            "ticks": ""
           }
          },
          "title": {
           "x": 0.05
          },
          "xaxis": {
           "automargin": true,
           "gridcolor": "white",
           "linecolor": "white",
           "ticks": "",
           "title": {
            "standoff": 15
           },
           "zerolinecolor": "white",
           "zerolinewidth": 2
          },
          "yaxis": {
           "automargin": true,
           "gridcolor": "white",
           "linecolor": "white",
           "ticks": "",
           "title": {
            "standoff": 15
           },
           "zerolinecolor": "white",
           "zerolinewidth": 2
          }
         }
        },
        "xaxis": {
         "anchor": "y",
         "domain": [
          0,
          1
         ],
         "title": {
          "text": "Marketing Cost (USD)"
         }
        },
        "yaxis": {
         "anchor": "x",
         "domain": [
          0,
          1
         ],
         "title": {
          "text": "Marketing Type"
         }
        }
       }
      },
      "text/html": [
       "<div>                            <div id=\"5e0879d8-8cac-46d2-bc64-5460df8d1a34\" class=\"plotly-graph-div\" style=\"height:525px; width:100%;\"></div>            <script type=\"text/javascript\">                require([\"plotly\"], function(Plotly) {                    window.PLOTLYENV=window.PLOTLYENV || {};                                    if (document.getElementById(\"5e0879d8-8cac-46d2-bc64-5460df8d1a34\")) {                    Plotly.newPlot(                        \"5e0879d8-8cac-46d2-bc64-5460df8d1a34\",                        [{\"alignmentgroup\":\"True\",\"hovertemplate\":\"Type: %{y} <br>Cost: $%{x}\",\"legendgroup\":\"\",\"marker\":{\"color\":\"rgb(189,140,195)\",\"pattern\":{\"shape\":\"\"},\"line\":{\"color\":\"rgb(107,1,125)\"}},\"name\":\"\",\"offsetgroup\":\"\",\"orientation\":\"h\",\"showlegend\":false,\"text\":[\"0.11%\",\"2.86%\",\"5.00%\",\"7.61%\",\"16.39%\",\"32.01%\",\"36.02%\"],\"textposition\":\"auto\",\"x\":[1871.05,50763.47,88885.4,135131.09,291201.58,568728.72,639981.75],\"xaxis\":\"x\",\"y\":[\"Marketing Research\",\"Miscellaneous\",\"Consultant\",\"Advertising Conversion\",\"Brand Awareness\",\"Sales Person\",\"Marketing Production\"],\"yaxis\":\"y\",\"type\":\"bar\"}],                        {\"template\":{\"data\":{\"histogram2dcontour\":[{\"type\":\"histogram2dcontour\",\"colorbar\":{\"outlinewidth\":0,\"ticks\":\"\"},\"colorscale\":[[0.0,\"#0d0887\"],[0.1111111111111111,\"#46039f\"],[0.2222222222222222,\"#7201a8\"],[0.3333333333333333,\"#9c179e\"],[0.4444444444444444,\"#bd3786\"],[0.5555555555555556,\"#d8576b\"],[0.6666666666666666,\"#ed7953\"],[0.7777777777777778,\"#fb9f3a\"],[0.8888888888888888,\"#fdca26\"],[1.0,\"#f0f921\"]]}],\"choropleth\":[{\"type\":\"choropleth\",\"colorbar\":{\"outlinewidth\":0,\"ticks\":\"\"}}],\"histogram2d\":[{\"type\":\"histogram2d\",\"colorbar\":{\"outlinewidth\":0,\"ticks\":\"\"},\"colorscale\":[[0.0,\"#0d0887\"],[0.1111111111111111,\"#46039f\"],[0.2222222222222222,\"#7201a8\"],[0.3333333333333333,\"#9c179e\"],[0.4444444444444444,\"#bd3786\"],[0.5555555555555556,\"#d8576b\"],[0.6666666666666666,\"#ed7953\"],[0.7777777777777778,\"#fb9f3a\"],[0.8888888888888888,\"#fdca26\"],[1.0,\"#f0f921\"]]}],\"heatmap\":[{\"type\":\"heatmap\",\"colorbar\":{\"outlinewidth\":0,\"ticks\":\"\"},\"colorscale\":[[0.0,\"#0d0887\"],[0.1111111111111111,\"#46039f\"],[0.2222222222222222,\"#7201a8\"],[0.3333333333333333,\"#9c179e\"],[0.4444444444444444,\"#bd3786\"],[0.5555555555555556,\"#d8576b\"],[0.6666666666666666,\"#ed7953\"],[0.7777777777777778,\"#fb9f3a\"],[0.8888888888888888,\"#fdca26\"],[1.0,\"#f0f921\"]]}],\"heatmapgl\":[{\"type\":\"heatmapgl\",\"colorbar\":{\"outlinewidth\":0,\"ticks\":\"\"},\"colorscale\":[[0.0,\"#0d0887\"],[0.1111111111111111,\"#46039f\"],[0.2222222222222222,\"#7201a8\"],[0.3333333333333333,\"#9c179e\"],[0.4444444444444444,\"#bd3786\"],[0.5555555555555556,\"#d8576b\"],[0.6666666666666666,\"#ed7953\"],[0.7777777777777778,\"#fb9f3a\"],[0.8888888888888888,\"#fdca26\"],[1.0,\"#f0f921\"]]}],\"contourcarpet\":[{\"type\":\"contourcarpet\",\"colorbar\":{\"outlinewidth\":0,\"ticks\":\"\"}}],\"contour\":[{\"type\":\"contour\",\"colorbar\":{\"outlinewidth\":0,\"ticks\":\"\"},\"colorscale\":[[0.0,\"#0d0887\"],[0.1111111111111111,\"#46039f\"],[0.2222222222222222,\"#7201a8\"],[0.3333333333333333,\"#9c179e\"],[0.4444444444444444,\"#bd3786\"],[0.5555555555555556,\"#d8576b\"],[0.6666666666666666,\"#ed7953\"],[0.7777777777777778,\"#fb9f3a\"],[0.8888888888888888,\"#fdca26\"],[1.0,\"#f0f921\"]]}],\"surface\":[{\"type\":\"surface\",\"colorbar\":{\"outlinewidth\":0,\"ticks\":\"\"},\"colorscale\":[[0.0,\"#0d0887\"],[0.1111111111111111,\"#46039f\"],[0.2222222222222222,\"#7201a8\"],[0.3333333333333333,\"#9c179e\"],[0.4444444444444444,\"#bd3786\"],[0.5555555555555556,\"#d8576b\"],[0.6666666666666666,\"#ed7953\"],[0.7777777777777778,\"#fb9f3a\"],[0.8888888888888888,\"#fdca26\"],[1.0,\"#f0f921\"]]}],\"mesh3d\":[{\"type\":\"mesh3d\",\"colorbar\":{\"outlinewidth\":0,\"ticks\":\"\"}}],\"scatter\":[{\"fillpattern\":{\"fillmode\":\"overlay\",\"size\":10,\"solidity\":0.2},\"type\":\"scatter\"}],\"parcoords\":[{\"type\":\"parcoords\",\"line\":{\"colorbar\":{\"outlinewidth\":0,\"ticks\":\"\"}}}],\"scatterpolargl\":[{\"type\":\"scatterpolargl\",\"marker\":{\"colorbar\":{\"outlinewidth\":0,\"ticks\":\"\"}}}],\"bar\":[{\"error_x\":{\"color\":\"#2a3f5f\"},\"error_y\":{\"color\":\"#2a3f5f\"},\"marker\":{\"line\":{\"color\":\"#E5ECF6\",\"width\":0.5},\"pattern\":{\"fillmode\":\"overlay\",\"size\":10,\"solidity\":0.2}},\"type\":\"bar\"}],\"scattergeo\":[{\"type\":\"scattergeo\",\"marker\":{\"colorbar\":{\"outlinewidth\":0,\"ticks\":\"\"}}}],\"scatterpolar\":[{\"type\":\"scatterpolar\",\"marker\":{\"colorbar\":{\"outlinewidth\":0,\"ticks\":\"\"}}}],\"histogram\":[{\"marker\":{\"pattern\":{\"fillmode\":\"overlay\",\"size\":10,\"solidity\":0.2}},\"type\":\"histogram\"}],\"scattergl\":[{\"type\":\"scattergl\",\"marker\":{\"colorbar\":{\"outlinewidth\":0,\"ticks\":\"\"}}}],\"scatter3d\":[{\"type\":\"scatter3d\",\"line\":{\"colorbar\":{\"outlinewidth\":0,\"ticks\":\"\"}},\"marker\":{\"colorbar\":{\"outlinewidth\":0,\"ticks\":\"\"}}}],\"scattermapbox\":[{\"type\":\"scattermapbox\",\"marker\":{\"colorbar\":{\"outlinewidth\":0,\"ticks\":\"\"}}}],\"scatterternary\":[{\"type\":\"scatterternary\",\"marker\":{\"colorbar\":{\"outlinewidth\":0,\"ticks\":\"\"}}}],\"scattercarpet\":[{\"type\":\"scattercarpet\",\"marker\":{\"colorbar\":{\"outlinewidth\":0,\"ticks\":\"\"}}}],\"carpet\":[{\"aaxis\":{\"endlinecolor\":\"#2a3f5f\",\"gridcolor\":\"white\",\"linecolor\":\"white\",\"minorgridcolor\":\"white\",\"startlinecolor\":\"#2a3f5f\"},\"baxis\":{\"endlinecolor\":\"#2a3f5f\",\"gridcolor\":\"white\",\"linecolor\":\"white\",\"minorgridcolor\":\"white\",\"startlinecolor\":\"#2a3f5f\"},\"type\":\"carpet\"}],\"table\":[{\"cells\":{\"fill\":{\"color\":\"#EBF0F8\"},\"line\":{\"color\":\"white\"}},\"header\":{\"fill\":{\"color\":\"#C8D4E3\"},\"line\":{\"color\":\"white\"}},\"type\":\"table\"}],\"barpolar\":[{\"marker\":{\"line\":{\"color\":\"#E5ECF6\",\"width\":0.5},\"pattern\":{\"fillmode\":\"overlay\",\"size\":10,\"solidity\":0.2}},\"type\":\"barpolar\"}],\"pie\":[{\"automargin\":true,\"type\":\"pie\"}]},\"layout\":{\"autotypenumbers\":\"strict\",\"colorway\":[\"#636efa\",\"#EF553B\",\"#00cc96\",\"#ab63fa\",\"#FFA15A\",\"#19d3f3\",\"#FF6692\",\"#B6E880\",\"#FF97FF\",\"#FECB52\"],\"font\":{\"color\":\"#2a3f5f\"},\"hovermode\":\"closest\",\"hoverlabel\":{\"align\":\"left\"},\"paper_bgcolor\":\"white\",\"plot_bgcolor\":\"#E5ECF6\",\"polar\":{\"bgcolor\":\"#E5ECF6\",\"angularaxis\":{\"gridcolor\":\"white\",\"linecolor\":\"white\",\"ticks\":\"\"},\"radialaxis\":{\"gridcolor\":\"white\",\"linecolor\":\"white\",\"ticks\":\"\"}},\"ternary\":{\"bgcolor\":\"#E5ECF6\",\"aaxis\":{\"gridcolor\":\"white\",\"linecolor\":\"white\",\"ticks\":\"\"},\"baxis\":{\"gridcolor\":\"white\",\"linecolor\":\"white\",\"ticks\":\"\"},\"caxis\":{\"gridcolor\":\"white\",\"linecolor\":\"white\",\"ticks\":\"\"}},\"coloraxis\":{\"colorbar\":{\"outlinewidth\":0,\"ticks\":\"\"}},\"colorscale\":{\"sequential\":[[0.0,\"#0d0887\"],[0.1111111111111111,\"#46039f\"],[0.2222222222222222,\"#7201a8\"],[0.3333333333333333,\"#9c179e\"],[0.4444444444444444,\"#bd3786\"],[0.5555555555555556,\"#d8576b\"],[0.6666666666666666,\"#ed7953\"],[0.7777777777777778,\"#fb9f3a\"],[0.8888888888888888,\"#fdca26\"],[1.0,\"#f0f921\"]],\"sequentialminus\":[[0.0,\"#0d0887\"],[0.1111111111111111,\"#46039f\"],[0.2222222222222222,\"#7201a8\"],[0.3333333333333333,\"#9c179e\"],[0.4444444444444444,\"#bd3786\"],[0.5555555555555556,\"#d8576b\"],[0.6666666666666666,\"#ed7953\"],[0.7777777777777778,\"#fb9f3a\"],[0.8888888888888888,\"#fdca26\"],[1.0,\"#f0f921\"]],\"diverging\":[[0,\"#8e0152\"],[0.1,\"#c51b7d\"],[0.2,\"#de77ae\"],[0.3,\"#f1b6da\"],[0.4,\"#fde0ef\"],[0.5,\"#f7f7f7\"],[0.6,\"#e6f5d0\"],[0.7,\"#b8e186\"],[0.8,\"#7fbc41\"],[0.9,\"#4d9221\"],[1,\"#276419\"]]},\"xaxis\":{\"gridcolor\":\"white\",\"linecolor\":\"white\",\"ticks\":\"\",\"title\":{\"standoff\":15},\"zerolinecolor\":\"white\",\"automargin\":true,\"zerolinewidth\":2},\"yaxis\":{\"gridcolor\":\"white\",\"linecolor\":\"white\",\"ticks\":\"\",\"title\":{\"standoff\":15},\"zerolinecolor\":\"white\",\"automargin\":true,\"zerolinewidth\":2},\"scene\":{\"xaxis\":{\"backgroundcolor\":\"#E5ECF6\",\"gridcolor\":\"white\",\"linecolor\":\"white\",\"showbackground\":true,\"ticks\":\"\",\"zerolinecolor\":\"white\",\"gridwidth\":2},\"yaxis\":{\"backgroundcolor\":\"#E5ECF6\",\"gridcolor\":\"white\",\"linecolor\":\"white\",\"showbackground\":true,\"ticks\":\"\",\"zerolinecolor\":\"white\",\"gridwidth\":2},\"zaxis\":{\"backgroundcolor\":\"#E5ECF6\",\"gridcolor\":\"white\",\"linecolor\":\"white\",\"showbackground\":true,\"ticks\":\"\",\"zerolinecolor\":\"white\",\"gridwidth\":2}},\"shapedefaults\":{\"line\":{\"color\":\"#2a3f5f\"}},\"annotationdefaults\":{\"arrowcolor\":\"#2a3f5f\",\"arrowhead\":0,\"arrowwidth\":1},\"geo\":{\"bgcolor\":\"white\",\"landcolor\":\"#E5ECF6\",\"subunitcolor\":\"white\",\"showland\":true,\"showlakes\":true,\"lakecolor\":\"white\"},\"title\":{\"x\":0.05},\"mapbox\":{\"style\":\"light\"}}},\"xaxis\":{\"anchor\":\"y\",\"domain\":[0.0,1.0],\"title\":{\"text\":\"Marketing Cost (USD)\"}},\"yaxis\":{\"anchor\":\"x\",\"domain\":[0.0,1.0],\"title\":{\"text\":\"Marketing Type\"}},\"legend\":{\"tracegroupgap\":0},\"margin\":{\"t\":60},\"barmode\":\"relative\"},                        {\"responsive\": true}                    ).then(function(){\n",
       "                            \n",
       "var gd = document.getElementById('5e0879d8-8cac-46d2-bc64-5460df8d1a34');\n",
       "var x = new MutationObserver(function (mutations, observer) {{\n",
       "        var display = window.getComputedStyle(gd).display;\n",
       "        if (!display || display === 'none') {{\n",
       "            console.log([gd, 'removed!']);\n",
       "            Plotly.purge(gd);\n",
       "            observer.disconnect();\n",
       "        }}\n",
       "}});\n",
       "\n",
       "// Listen for the removal of the full notebook cells\n",
       "var notebookContainer = gd.closest('#notebook-container');\n",
       "if (notebookContainer) {{\n",
       "    x.observe(notebookContainer, {childList: true});\n",
       "}}\n",
       "\n",
       "// Listen for the clearing of the current output cell\n",
       "var outputEl = gd.closest('.output');\n",
       "if (outputEl) {{\n",
       "    x.observe(outputEl, {childList: true});\n",
       "}}\n",
       "\n",
       "                        })                };                });            </script>        </div>"
      ]
     },
     "metadata": {},
     "output_type": "display_data"
    }
   ],
   "source": [
    "# group marketing cost data by marketing type\n",
    "df_cost_by_type = df_cost.groupby(['type'])['cost'].sum().reset_index().sort_values('cost', ascending=True)\n",
    "\n",
    "# calculate the percentage of each marketing cost\n",
    "df_cost_by_type['pct'] = df_cost_by_type['cost'].apply(lambda x: 100*x/df_cost_by_type['cost'].sum())\n",
    "\n",
    "# using plotly express to generate the horizontal bar chart\n",
    "fig = px.bar(data_frame = df_cost_by_type,\n",
    "             x='cost', \n",
    "             y='type', \n",
    "             orientation = 'h', \n",
    "             text = df_cost_by_type['pct'].apply(lambda x: '{0:.2f}%'.format(x)))\n",
    "\n",
    "fig.update_layout(xaxis_title_text = 'Marketing Cost (USD)', \n",
    "                  yaxis_title_text = 'Marketing Type')\n",
    "\n",
    "fig.update_traces(hovertemplate='Type: %{y} <br>Cost: $%{x}')\n",
    "fig.update_traces(marker_color='rgb(189,140,195)', marker_line_color='rgb(107,1,125)')\n",
    "\n",
    "fig.show()"
   ]
  },
  {
   "cell_type": "markdown",
   "id": "6720597d",
   "metadata": {},
   "source": [
    "### Marketing Cost over Time"
   ]
  },
  {
   "cell_type": "code",
   "execution_count": 80,
   "id": "acac6b36",
   "metadata": {},
   "outputs": [],
   "source": [
    "df_cost_by_date = df_cost.groupby(['date'])['cost'].sum().reset_index()"
   ]
  },
  {
   "cell_type": "code",
   "execution_count": 81,
   "id": "bab22a19",
   "metadata": {
    "scrolled": false
   },
   "outputs": [
    {
     "data": {
      "application/vnd.plotly.v1+json": {
       "config": {
        "plotlyServerURL": "https://plotly.com"
       },
       "data": [
        {
         "hovertemplate": "date=%{x}<br>cost=%{y}<extra></extra>",
         "legendgroup": "",
         "line": {
          "color": "#636efa",
          "dash": "solid"
         },
         "marker": {
          "symbol": "circle"
         },
         "mode": "markers+lines",
         "name": "",
         "orientation": "v",
         "showlegend": false,
         "type": "scatter",
         "x": [
          "2010-01-01T00:00:00",
          "2010-01-09T00:00:00",
          "2010-01-28T00:00:00",
          "2010-02-05T00:00:00",
          "2010-02-07T00:00:00",
          "2010-02-11T00:00:00",
          "2010-02-19T00:00:00",
          "2010-02-21T00:00:00",
          "2010-02-25T00:00:00",
          "2010-03-02T00:00:00",
          "2010-03-03T00:00:00",
          "2010-03-04T00:00:00",
          "2010-03-08T00:00:00",
          "2010-03-09T00:00:00",
          "2010-03-10T00:00:00",
          "2010-03-14T00:00:00",
          "2010-03-16T00:00:00",
          "2010-03-22T00:00:00",
          "2010-03-24T00:00:00",
          "2010-03-30T00:00:00",
          "2010-04-01T00:00:00",
          "2010-04-08T00:00:00",
          "2010-04-16T00:00:00",
          "2010-04-19T00:00:00",
          "2010-04-22T00:00:00",
          "2010-04-27T00:00:00",
          "2010-04-28T00:00:00",
          "2010-04-30T00:00:00",
          "2010-05-03T00:00:00",
          "2010-05-06T00:00:00",
          "2010-05-10T00:00:00",
          "2010-05-13T00:00:00",
          "2010-05-20T00:00:00",
          "2010-05-27T00:00:00",
          "2010-06-02T00:00:00",
          "2010-06-03T00:00:00",
          "2010-06-15T00:00:00",
          "2010-06-23T00:00:00",
          "2010-06-30T00:00:00",
          "2010-07-01T00:00:00",
          "2010-07-12T00:00:00",
          "2010-07-22T00:00:00",
          "2010-07-26T00:00:00",
          "2010-07-29T00:00:00",
          "2010-08-04T00:00:00",
          "2010-08-11T00:00:00",
          "2010-08-16T00:00:00",
          "2010-08-17T00:00:00",
          "2010-08-19T00:00:00",
          "2010-08-23T00:00:00",
          "2010-08-25T00:00:00",
          "2010-08-26T00:00:00",
          "2010-08-30T00:00:00",
          "2010-09-02T00:00:00",
          "2010-09-03T00:00:00",
          "2010-09-09T00:00:00",
          "2010-09-15T00:00:00",
          "2010-09-22T00:00:00",
          "2010-09-24T00:00:00",
          "2010-09-30T00:00:00",
          "2010-10-06T00:00:00",
          "2010-10-12T00:00:00",
          "2010-10-13T00:00:00",
          "2010-10-14T00:00:00",
          "2010-10-19T00:00:00",
          "2010-10-24T00:00:00",
          "2010-10-31T00:00:00",
          "2010-11-02T00:00:00",
          "2010-11-04T00:00:00",
          "2010-11-07T00:00:00",
          "2010-11-16T00:00:00",
          "2010-11-18T00:00:00",
          "2010-11-23T00:00:00",
          "2010-12-04T00:00:00",
          "2010-12-11T00:00:00",
          "2010-12-14T00:00:00",
          "2010-12-18T00:00:00",
          "2010-12-23T00:00:00",
          "2010-12-25T00:00:00"
         ],
         "xaxis": "x",
         "y": [
          311.84,
          72.76,
          21828.87,
          4959.93,
          428.65,
          428.64,
          36108.05,
          106.61,
          20789.4,
          831.58,
          2404.1099999999997,
          20082.56,
          1024.8,
          1247.36,
          15592.05,
          41795.24,
          3068.52,
          121480.2,
          2078.94,
          155.92,
          1322.87,
          10794.91,
          43078.46,
          575.71,
          22847.55,
          1871.05,
          5332.48,
          22479.15,
          3072.85,
          137210.01,
          415.79,
          2443.38,
          48473.509999999995,
          1871.05,
          21828.87,
          6651.4,
          82807.68,
          33961.01,
          21793,
          21793,
          36163.15,
          65279.81,
          1767.1,
          19625.19,
          100342.72,
          40788.8,
          4789.67,
          1299.34,
          2148.68,
          2338.81,
          249.47,
          124.74,
          1808.68,
          58762.56999999999,
          51973.49,
          2307.62,
          35783.45,
          42827.670000000006,
          79727.33,
          1715.13,
          353.42,
          10394.7,
          50298.21,
          7421.81,
          481.97,
          55098.13,
          138317.74,
          9022.6,
          4241.03,
          16631.52,
          1767.1,
          19018.75,
          5515.55,
          31184.09,
          9355.23,
          59927.51,
          9355.23,
          3580.06,
          9355.23
         ],
         "yaxis": "y"
        }
       ],
       "layout": {
        "hovermode": "x unified",
        "legend": {
         "tracegroupgap": 0
        },
        "margin": {
         "t": 60
        },
        "template": {
         "data": {
          "bar": [
           {
            "error_x": {
             "color": "#2a3f5f"
            },
            "error_y": {
             "color": "#2a3f5f"
            },
            "marker": {
             "line": {
              "color": "#E5ECF6",
              "width": 0.5
             },
             "pattern": {
              "fillmode": "overlay",
              "size": 10,
              "solidity": 0.2
             }
            },
            "type": "bar"
           }
          ],
          "barpolar": [
           {
            "marker": {
             "line": {
              "color": "#E5ECF6",
              "width": 0.5
             },
             "pattern": {
              "fillmode": "overlay",
              "size": 10,
              "solidity": 0.2
             }
            },
            "type": "barpolar"
           }
          ],
          "carpet": [
           {
            "aaxis": {
             "endlinecolor": "#2a3f5f",
             "gridcolor": "white",
             "linecolor": "white",
             "minorgridcolor": "white",
             "startlinecolor": "#2a3f5f"
            },
            "baxis": {
             "endlinecolor": "#2a3f5f",
             "gridcolor": "white",
             "linecolor": "white",
             "minorgridcolor": "white",
             "startlinecolor": "#2a3f5f"
            },
            "type": "carpet"
           }
          ],
          "choropleth": [
           {
            "colorbar": {
             "outlinewidth": 0,
             "ticks": ""
            },
            "type": "choropleth"
           }
          ],
          "contour": [
           {
            "colorbar": {
             "outlinewidth": 0,
             "ticks": ""
            },
            "colorscale": [
             [
              0,
              "#0d0887"
             ],
             [
              0.1111111111111111,
              "#46039f"
             ],
             [
              0.2222222222222222,
              "#7201a8"
             ],
             [
              0.3333333333333333,
              "#9c179e"
             ],
             [
              0.4444444444444444,
              "#bd3786"
             ],
             [
              0.5555555555555556,
              "#d8576b"
             ],
             [
              0.6666666666666666,
              "#ed7953"
             ],
             [
              0.7777777777777778,
              "#fb9f3a"
             ],
             [
              0.8888888888888888,
              "#fdca26"
             ],
             [
              1,
              "#f0f921"
             ]
            ],
            "type": "contour"
           }
          ],
          "contourcarpet": [
           {
            "colorbar": {
             "outlinewidth": 0,
             "ticks": ""
            },
            "type": "contourcarpet"
           }
          ],
          "heatmap": [
           {
            "colorbar": {
             "outlinewidth": 0,
             "ticks": ""
            },
            "colorscale": [
             [
              0,
              "#0d0887"
             ],
             [
              0.1111111111111111,
              "#46039f"
             ],
             [
              0.2222222222222222,
              "#7201a8"
             ],
             [
              0.3333333333333333,
              "#9c179e"
             ],
             [
              0.4444444444444444,
              "#bd3786"
             ],
             [
              0.5555555555555556,
              "#d8576b"
             ],
             [
              0.6666666666666666,
              "#ed7953"
             ],
             [
              0.7777777777777778,
              "#fb9f3a"
             ],
             [
              0.8888888888888888,
              "#fdca26"
             ],
             [
              1,
              "#f0f921"
             ]
            ],
            "type": "heatmap"
           }
          ],
          "heatmapgl": [
           {
            "colorbar": {
             "outlinewidth": 0,
             "ticks": ""
            },
            "colorscale": [
             [
              0,
              "#0d0887"
             ],
             [
              0.1111111111111111,
              "#46039f"
             ],
             [
              0.2222222222222222,
              "#7201a8"
             ],
             [
              0.3333333333333333,
              "#9c179e"
             ],
             [
              0.4444444444444444,
              "#bd3786"
             ],
             [
              0.5555555555555556,
              "#d8576b"
             ],
             [
              0.6666666666666666,
              "#ed7953"
             ],
             [
              0.7777777777777778,
              "#fb9f3a"
             ],
             [
              0.8888888888888888,
              "#fdca26"
             ],
             [
              1,
              "#f0f921"
             ]
            ],
            "type": "heatmapgl"
           }
          ],
          "histogram": [
           {
            "marker": {
             "pattern": {
              "fillmode": "overlay",
              "size": 10,
              "solidity": 0.2
             }
            },
            "type": "histogram"
           }
          ],
          "histogram2d": [
           {
            "colorbar": {
             "outlinewidth": 0,
             "ticks": ""
            },
            "colorscale": [
             [
              0,
              "#0d0887"
             ],
             [
              0.1111111111111111,
              "#46039f"
             ],
             [
              0.2222222222222222,
              "#7201a8"
             ],
             [
              0.3333333333333333,
              "#9c179e"
             ],
             [
              0.4444444444444444,
              "#bd3786"
             ],
             [
              0.5555555555555556,
              "#d8576b"
             ],
             [
              0.6666666666666666,
              "#ed7953"
             ],
             [
              0.7777777777777778,
              "#fb9f3a"
             ],
             [
              0.8888888888888888,
              "#fdca26"
             ],
             [
              1,
              "#f0f921"
             ]
            ],
            "type": "histogram2d"
           }
          ],
          "histogram2dcontour": [
           {
            "colorbar": {
             "outlinewidth": 0,
             "ticks": ""
            },
            "colorscale": [
             [
              0,
              "#0d0887"
             ],
             [
              0.1111111111111111,
              "#46039f"
             ],
             [
              0.2222222222222222,
              "#7201a8"
             ],
             [
              0.3333333333333333,
              "#9c179e"
             ],
             [
              0.4444444444444444,
              "#bd3786"
             ],
             [
              0.5555555555555556,
              "#d8576b"
             ],
             [
              0.6666666666666666,
              "#ed7953"
             ],
             [
              0.7777777777777778,
              "#fb9f3a"
             ],
             [
              0.8888888888888888,
              "#fdca26"
             ],
             [
              1,
              "#f0f921"
             ]
            ],
            "type": "histogram2dcontour"
           }
          ],
          "mesh3d": [
           {
            "colorbar": {
             "outlinewidth": 0,
             "ticks": ""
            },
            "type": "mesh3d"
           }
          ],
          "parcoords": [
           {
            "line": {
             "colorbar": {
              "outlinewidth": 0,
              "ticks": ""
             }
            },
            "type": "parcoords"
           }
          ],
          "pie": [
           {
            "automargin": true,
            "type": "pie"
           }
          ],
          "scatter": [
           {
            "fillpattern": {
             "fillmode": "overlay",
             "size": 10,
             "solidity": 0.2
            },
            "type": "scatter"
           }
          ],
          "scatter3d": [
           {
            "line": {
             "colorbar": {
              "outlinewidth": 0,
              "ticks": ""
             }
            },
            "marker": {
             "colorbar": {
              "outlinewidth": 0,
              "ticks": ""
             }
            },
            "type": "scatter3d"
           }
          ],
          "scattercarpet": [
           {
            "marker": {
             "colorbar": {
              "outlinewidth": 0,
              "ticks": ""
             }
            },
            "type": "scattercarpet"
           }
          ],
          "scattergeo": [
           {
            "marker": {
             "colorbar": {
              "outlinewidth": 0,
              "ticks": ""
             }
            },
            "type": "scattergeo"
           }
          ],
          "scattergl": [
           {
            "marker": {
             "colorbar": {
              "outlinewidth": 0,
              "ticks": ""
             }
            },
            "type": "scattergl"
           }
          ],
          "scattermapbox": [
           {
            "marker": {
             "colorbar": {
              "outlinewidth": 0,
              "ticks": ""
             }
            },
            "type": "scattermapbox"
           }
          ],
          "scatterpolar": [
           {
            "marker": {
             "colorbar": {
              "outlinewidth": 0,
              "ticks": ""
             }
            },
            "type": "scatterpolar"
           }
          ],
          "scatterpolargl": [
           {
            "marker": {
             "colorbar": {
              "outlinewidth": 0,
              "ticks": ""
             }
            },
            "type": "scatterpolargl"
           }
          ],
          "scatterternary": [
           {
            "marker": {
             "colorbar": {
              "outlinewidth": 0,
              "ticks": ""
             }
            },
            "type": "scatterternary"
           }
          ],
          "surface": [
           {
            "colorbar": {
             "outlinewidth": 0,
             "ticks": ""
            },
            "colorscale": [
             [
              0,
              "#0d0887"
             ],
             [
              0.1111111111111111,
              "#46039f"
             ],
             [
              0.2222222222222222,
              "#7201a8"
             ],
             [
              0.3333333333333333,
              "#9c179e"
             ],
             [
              0.4444444444444444,
              "#bd3786"
             ],
             [
              0.5555555555555556,
              "#d8576b"
             ],
             [
              0.6666666666666666,
              "#ed7953"
             ],
             [
              0.7777777777777778,
              "#fb9f3a"
             ],
             [
              0.8888888888888888,
              "#fdca26"
             ],
             [
              1,
              "#f0f921"
             ]
            ],
            "type": "surface"
           }
          ],
          "table": [
           {
            "cells": {
             "fill": {
              "color": "#EBF0F8"
             },
             "line": {
              "color": "white"
             }
            },
            "header": {
             "fill": {
              "color": "#C8D4E3"
             },
             "line": {
              "color": "white"
             }
            },
            "type": "table"
           }
          ]
         },
         "layout": {
          "annotationdefaults": {
           "arrowcolor": "#2a3f5f",
           "arrowhead": 0,
           "arrowwidth": 1
          },
          "autotypenumbers": "strict",
          "coloraxis": {
           "colorbar": {
            "outlinewidth": 0,
            "ticks": ""
           }
          },
          "colorscale": {
           "diverging": [
            [
             0,
             "#8e0152"
            ],
            [
             0.1,
             "#c51b7d"
            ],
            [
             0.2,
             "#de77ae"
            ],
            [
             0.3,
             "#f1b6da"
            ],
            [
             0.4,
             "#fde0ef"
            ],
            [
             0.5,
             "#f7f7f7"
            ],
            [
             0.6,
             "#e6f5d0"
            ],
            [
             0.7,
             "#b8e186"
            ],
            [
             0.8,
             "#7fbc41"
            ],
            [
             0.9,
             "#4d9221"
            ],
            [
             1,
             "#276419"
            ]
           ],
           "sequential": [
            [
             0,
             "#0d0887"
            ],
            [
             0.1111111111111111,
             "#46039f"
            ],
            [
             0.2222222222222222,
             "#7201a8"
            ],
            [
             0.3333333333333333,
             "#9c179e"
            ],
            [
             0.4444444444444444,
             "#bd3786"
            ],
            [
             0.5555555555555556,
             "#d8576b"
            ],
            [
             0.6666666666666666,
             "#ed7953"
            ],
            [
             0.7777777777777778,
             "#fb9f3a"
            ],
            [
             0.8888888888888888,
             "#fdca26"
            ],
            [
             1,
             "#f0f921"
            ]
           ],
           "sequentialminus": [
            [
             0,
             "#0d0887"
            ],
            [
             0.1111111111111111,
             "#46039f"
            ],
            [
             0.2222222222222222,
             "#7201a8"
            ],
            [
             0.3333333333333333,
             "#9c179e"
            ],
            [
             0.4444444444444444,
             "#bd3786"
            ],
            [
             0.5555555555555556,
             "#d8576b"
            ],
            [
             0.6666666666666666,
             "#ed7953"
            ],
            [
             0.7777777777777778,
             "#fb9f3a"
            ],
            [
             0.8888888888888888,
             "#fdca26"
            ],
            [
             1,
             "#f0f921"
            ]
           ]
          },
          "colorway": [
           "#636efa",
           "#EF553B",
           "#00cc96",
           "#ab63fa",
           "#FFA15A",
           "#19d3f3",
           "#FF6692",
           "#B6E880",
           "#FF97FF",
           "#FECB52"
          ],
          "font": {
           "color": "#2a3f5f"
          },
          "geo": {
           "bgcolor": "white",
           "lakecolor": "white",
           "landcolor": "#E5ECF6",
           "showlakes": true,
           "showland": true,
           "subunitcolor": "white"
          },
          "hoverlabel": {
           "align": "left"
          },
          "hovermode": "closest",
          "mapbox": {
           "style": "light"
          },
          "paper_bgcolor": "white",
          "plot_bgcolor": "#E5ECF6",
          "polar": {
           "angularaxis": {
            "gridcolor": "white",
            "linecolor": "white",
            "ticks": ""
           },
           "bgcolor": "#E5ECF6",
           "radialaxis": {
            "gridcolor": "white",
            "linecolor": "white",
            "ticks": ""
           }
          },
          "scene": {
           "xaxis": {
            "backgroundcolor": "#E5ECF6",
            "gridcolor": "white",
            "gridwidth": 2,
            "linecolor": "white",
            "showbackground": true,
            "ticks": "",
            "zerolinecolor": "white"
           },
           "yaxis": {
            "backgroundcolor": "#E5ECF6",
            "gridcolor": "white",
            "gridwidth": 2,
            "linecolor": "white",
            "showbackground": true,
            "ticks": "",
            "zerolinecolor": "white"
           },
           "zaxis": {
            "backgroundcolor": "#E5ECF6",
            "gridcolor": "white",
            "gridwidth": 2,
            "linecolor": "white",
            "showbackground": true,
            "ticks": "",
            "zerolinecolor": "white"
           }
          },
          "shapedefaults": {
           "line": {
            "color": "#2a3f5f"
           }
          },
          "ternary": {
           "aaxis": {
            "gridcolor": "white",
            "linecolor": "white",
            "ticks": ""
           },
           "baxis": {
            "gridcolor": "white",
            "linecolor": "white",
            "ticks": ""
           },
           "bgcolor": "#E5ECF6",
           "caxis": {
            "gridcolor": "white",
            "linecolor": "white",
            "ticks": ""
           }
          },
          "title": {
           "x": 0.05
          },
          "xaxis": {
           "automargin": true,
           "gridcolor": "white",
           "linecolor": "white",
           "ticks": "",
           "title": {
            "standoff": 15
           },
           "zerolinecolor": "white",
           "zerolinewidth": 2
          },
          "yaxis": {
           "automargin": true,
           "gridcolor": "white",
           "linecolor": "white",
           "ticks": "",
           "title": {
            "standoff": 15
           },
           "zerolinecolor": "white",
           "zerolinewidth": 2
          }
         }
        },
        "xaxis": {
         "anchor": "y",
         "domain": [
          0,
          1
         ],
         "title": {
          "text": "Date"
         }
        },
        "yaxis": {
         "anchor": "x",
         "domain": [
          0,
          1
         ],
         "title": {
          "text": "Marketing Cost in USD"
         }
        }
       }
      },
      "text/html": [
       "<div>                            <div id=\"6ecb0142-7292-4de5-9b33-0f35e8c6b519\" class=\"plotly-graph-div\" style=\"height:525px; width:100%;\"></div>            <script type=\"text/javascript\">                require([\"plotly\"], function(Plotly) {                    window.PLOTLYENV=window.PLOTLYENV || {};                                    if (document.getElementById(\"6ecb0142-7292-4de5-9b33-0f35e8c6b519\")) {                    Plotly.newPlot(                        \"6ecb0142-7292-4de5-9b33-0f35e8c6b519\",                        [{\"hovertemplate\":\"date=%{x}<br>cost=%{y}<extra></extra>\",\"legendgroup\":\"\",\"line\":{\"color\":\"#636efa\",\"dash\":\"solid\"},\"marker\":{\"symbol\":\"circle\"},\"mode\":\"markers+lines\",\"name\":\"\",\"orientation\":\"v\",\"showlegend\":false,\"x\":[\"2010-01-01T00:00:00\",\"2010-01-09T00:00:00\",\"2010-01-28T00:00:00\",\"2010-02-05T00:00:00\",\"2010-02-07T00:00:00\",\"2010-02-11T00:00:00\",\"2010-02-19T00:00:00\",\"2010-02-21T00:00:00\",\"2010-02-25T00:00:00\",\"2010-03-02T00:00:00\",\"2010-03-03T00:00:00\",\"2010-03-04T00:00:00\",\"2010-03-08T00:00:00\",\"2010-03-09T00:00:00\",\"2010-03-10T00:00:00\",\"2010-03-14T00:00:00\",\"2010-03-16T00:00:00\",\"2010-03-22T00:00:00\",\"2010-03-24T00:00:00\",\"2010-03-30T00:00:00\",\"2010-04-01T00:00:00\",\"2010-04-08T00:00:00\",\"2010-04-16T00:00:00\",\"2010-04-19T00:00:00\",\"2010-04-22T00:00:00\",\"2010-04-27T00:00:00\",\"2010-04-28T00:00:00\",\"2010-04-30T00:00:00\",\"2010-05-03T00:00:00\",\"2010-05-06T00:00:00\",\"2010-05-10T00:00:00\",\"2010-05-13T00:00:00\",\"2010-05-20T00:00:00\",\"2010-05-27T00:00:00\",\"2010-06-02T00:00:00\",\"2010-06-03T00:00:00\",\"2010-06-15T00:00:00\",\"2010-06-23T00:00:00\",\"2010-06-30T00:00:00\",\"2010-07-01T00:00:00\",\"2010-07-12T00:00:00\",\"2010-07-22T00:00:00\",\"2010-07-26T00:00:00\",\"2010-07-29T00:00:00\",\"2010-08-04T00:00:00\",\"2010-08-11T00:00:00\",\"2010-08-16T00:00:00\",\"2010-08-17T00:00:00\",\"2010-08-19T00:00:00\",\"2010-08-23T00:00:00\",\"2010-08-25T00:00:00\",\"2010-08-26T00:00:00\",\"2010-08-30T00:00:00\",\"2010-09-02T00:00:00\",\"2010-09-03T00:00:00\",\"2010-09-09T00:00:00\",\"2010-09-15T00:00:00\",\"2010-09-22T00:00:00\",\"2010-09-24T00:00:00\",\"2010-09-30T00:00:00\",\"2010-10-06T00:00:00\",\"2010-10-12T00:00:00\",\"2010-10-13T00:00:00\",\"2010-10-14T00:00:00\",\"2010-10-19T00:00:00\",\"2010-10-24T00:00:00\",\"2010-10-31T00:00:00\",\"2010-11-02T00:00:00\",\"2010-11-04T00:00:00\",\"2010-11-07T00:00:00\",\"2010-11-16T00:00:00\",\"2010-11-18T00:00:00\",\"2010-11-23T00:00:00\",\"2010-12-04T00:00:00\",\"2010-12-11T00:00:00\",\"2010-12-14T00:00:00\",\"2010-12-18T00:00:00\",\"2010-12-23T00:00:00\",\"2010-12-25T00:00:00\"],\"xaxis\":\"x\",\"y\":[311.84,72.76,21828.87,4959.93,428.65,428.64,36108.05,106.61,20789.4,831.58,2404.1099999999997,20082.56,1024.8,1247.36,15592.05,41795.24,3068.52,121480.2,2078.94,155.92,1322.87,10794.91,43078.46,575.71,22847.55,1871.05,5332.48,22479.15,3072.85,137210.01,415.79,2443.38,48473.509999999995,1871.05,21828.87,6651.4,82807.68,33961.01,21793.0,21793.0,36163.15,65279.81,1767.1,19625.19,100342.72,40788.8,4789.67,1299.34,2148.68,2338.81,249.47,124.74,1808.68,58762.56999999999,51973.49,2307.62,35783.45,42827.670000000006,79727.33,1715.13,353.42,10394.7,50298.21,7421.81,481.97,55098.13,138317.74,9022.6,4241.03,16631.52,1767.1,19018.75,5515.55,31184.09,9355.23,59927.51,9355.23,3580.06,9355.23],\"yaxis\":\"y\",\"type\":\"scatter\"}],                        {\"template\":{\"data\":{\"histogram2dcontour\":[{\"type\":\"histogram2dcontour\",\"colorbar\":{\"outlinewidth\":0,\"ticks\":\"\"},\"colorscale\":[[0.0,\"#0d0887\"],[0.1111111111111111,\"#46039f\"],[0.2222222222222222,\"#7201a8\"],[0.3333333333333333,\"#9c179e\"],[0.4444444444444444,\"#bd3786\"],[0.5555555555555556,\"#d8576b\"],[0.6666666666666666,\"#ed7953\"],[0.7777777777777778,\"#fb9f3a\"],[0.8888888888888888,\"#fdca26\"],[1.0,\"#f0f921\"]]}],\"choropleth\":[{\"type\":\"choropleth\",\"colorbar\":{\"outlinewidth\":0,\"ticks\":\"\"}}],\"histogram2d\":[{\"type\":\"histogram2d\",\"colorbar\":{\"outlinewidth\":0,\"ticks\":\"\"},\"colorscale\":[[0.0,\"#0d0887\"],[0.1111111111111111,\"#46039f\"],[0.2222222222222222,\"#7201a8\"],[0.3333333333333333,\"#9c179e\"],[0.4444444444444444,\"#bd3786\"],[0.5555555555555556,\"#d8576b\"],[0.6666666666666666,\"#ed7953\"],[0.7777777777777778,\"#fb9f3a\"],[0.8888888888888888,\"#fdca26\"],[1.0,\"#f0f921\"]]}],\"heatmap\":[{\"type\":\"heatmap\",\"colorbar\":{\"outlinewidth\":0,\"ticks\":\"\"},\"colorscale\":[[0.0,\"#0d0887\"],[0.1111111111111111,\"#46039f\"],[0.2222222222222222,\"#7201a8\"],[0.3333333333333333,\"#9c179e\"],[0.4444444444444444,\"#bd3786\"],[0.5555555555555556,\"#d8576b\"],[0.6666666666666666,\"#ed7953\"],[0.7777777777777778,\"#fb9f3a\"],[0.8888888888888888,\"#fdca26\"],[1.0,\"#f0f921\"]]}],\"heatmapgl\":[{\"type\":\"heatmapgl\",\"colorbar\":{\"outlinewidth\":0,\"ticks\":\"\"},\"colorscale\":[[0.0,\"#0d0887\"],[0.1111111111111111,\"#46039f\"],[0.2222222222222222,\"#7201a8\"],[0.3333333333333333,\"#9c179e\"],[0.4444444444444444,\"#bd3786\"],[0.5555555555555556,\"#d8576b\"],[0.6666666666666666,\"#ed7953\"],[0.7777777777777778,\"#fb9f3a\"],[0.8888888888888888,\"#fdca26\"],[1.0,\"#f0f921\"]]}],\"contourcarpet\":[{\"type\":\"contourcarpet\",\"colorbar\":{\"outlinewidth\":0,\"ticks\":\"\"}}],\"contour\":[{\"type\":\"contour\",\"colorbar\":{\"outlinewidth\":0,\"ticks\":\"\"},\"colorscale\":[[0.0,\"#0d0887\"],[0.1111111111111111,\"#46039f\"],[0.2222222222222222,\"#7201a8\"],[0.3333333333333333,\"#9c179e\"],[0.4444444444444444,\"#bd3786\"],[0.5555555555555556,\"#d8576b\"],[0.6666666666666666,\"#ed7953\"],[0.7777777777777778,\"#fb9f3a\"],[0.8888888888888888,\"#fdca26\"],[1.0,\"#f0f921\"]]}],\"surface\":[{\"type\":\"surface\",\"colorbar\":{\"outlinewidth\":0,\"ticks\":\"\"},\"colorscale\":[[0.0,\"#0d0887\"],[0.1111111111111111,\"#46039f\"],[0.2222222222222222,\"#7201a8\"],[0.3333333333333333,\"#9c179e\"],[0.4444444444444444,\"#bd3786\"],[0.5555555555555556,\"#d8576b\"],[0.6666666666666666,\"#ed7953\"],[0.7777777777777778,\"#fb9f3a\"],[0.8888888888888888,\"#fdca26\"],[1.0,\"#f0f921\"]]}],\"mesh3d\":[{\"type\":\"mesh3d\",\"colorbar\":{\"outlinewidth\":0,\"ticks\":\"\"}}],\"scatter\":[{\"fillpattern\":{\"fillmode\":\"overlay\",\"size\":10,\"solidity\":0.2},\"type\":\"scatter\"}],\"parcoords\":[{\"type\":\"parcoords\",\"line\":{\"colorbar\":{\"outlinewidth\":0,\"ticks\":\"\"}}}],\"scatterpolargl\":[{\"type\":\"scatterpolargl\",\"marker\":{\"colorbar\":{\"outlinewidth\":0,\"ticks\":\"\"}}}],\"bar\":[{\"error_x\":{\"color\":\"#2a3f5f\"},\"error_y\":{\"color\":\"#2a3f5f\"},\"marker\":{\"line\":{\"color\":\"#E5ECF6\",\"width\":0.5},\"pattern\":{\"fillmode\":\"overlay\",\"size\":10,\"solidity\":0.2}},\"type\":\"bar\"}],\"scattergeo\":[{\"type\":\"scattergeo\",\"marker\":{\"colorbar\":{\"outlinewidth\":0,\"ticks\":\"\"}}}],\"scatterpolar\":[{\"type\":\"scatterpolar\",\"marker\":{\"colorbar\":{\"outlinewidth\":0,\"ticks\":\"\"}}}],\"histogram\":[{\"marker\":{\"pattern\":{\"fillmode\":\"overlay\",\"size\":10,\"solidity\":0.2}},\"type\":\"histogram\"}],\"scattergl\":[{\"type\":\"scattergl\",\"marker\":{\"colorbar\":{\"outlinewidth\":0,\"ticks\":\"\"}}}],\"scatter3d\":[{\"type\":\"scatter3d\",\"line\":{\"colorbar\":{\"outlinewidth\":0,\"ticks\":\"\"}},\"marker\":{\"colorbar\":{\"outlinewidth\":0,\"ticks\":\"\"}}}],\"scattermapbox\":[{\"type\":\"scattermapbox\",\"marker\":{\"colorbar\":{\"outlinewidth\":0,\"ticks\":\"\"}}}],\"scatterternary\":[{\"type\":\"scatterternary\",\"marker\":{\"colorbar\":{\"outlinewidth\":0,\"ticks\":\"\"}}}],\"scattercarpet\":[{\"type\":\"scattercarpet\",\"marker\":{\"colorbar\":{\"outlinewidth\":0,\"ticks\":\"\"}}}],\"carpet\":[{\"aaxis\":{\"endlinecolor\":\"#2a3f5f\",\"gridcolor\":\"white\",\"linecolor\":\"white\",\"minorgridcolor\":\"white\",\"startlinecolor\":\"#2a3f5f\"},\"baxis\":{\"endlinecolor\":\"#2a3f5f\",\"gridcolor\":\"white\",\"linecolor\":\"white\",\"minorgridcolor\":\"white\",\"startlinecolor\":\"#2a3f5f\"},\"type\":\"carpet\"}],\"table\":[{\"cells\":{\"fill\":{\"color\":\"#EBF0F8\"},\"line\":{\"color\":\"white\"}},\"header\":{\"fill\":{\"color\":\"#C8D4E3\"},\"line\":{\"color\":\"white\"}},\"type\":\"table\"}],\"barpolar\":[{\"marker\":{\"line\":{\"color\":\"#E5ECF6\",\"width\":0.5},\"pattern\":{\"fillmode\":\"overlay\",\"size\":10,\"solidity\":0.2}},\"type\":\"barpolar\"}],\"pie\":[{\"automargin\":true,\"type\":\"pie\"}]},\"layout\":{\"autotypenumbers\":\"strict\",\"colorway\":[\"#636efa\",\"#EF553B\",\"#00cc96\",\"#ab63fa\",\"#FFA15A\",\"#19d3f3\",\"#FF6692\",\"#B6E880\",\"#FF97FF\",\"#FECB52\"],\"font\":{\"color\":\"#2a3f5f\"},\"hovermode\":\"closest\",\"hoverlabel\":{\"align\":\"left\"},\"paper_bgcolor\":\"white\",\"plot_bgcolor\":\"#E5ECF6\",\"polar\":{\"bgcolor\":\"#E5ECF6\",\"angularaxis\":{\"gridcolor\":\"white\",\"linecolor\":\"white\",\"ticks\":\"\"},\"radialaxis\":{\"gridcolor\":\"white\",\"linecolor\":\"white\",\"ticks\":\"\"}},\"ternary\":{\"bgcolor\":\"#E5ECF6\",\"aaxis\":{\"gridcolor\":\"white\",\"linecolor\":\"white\",\"ticks\":\"\"},\"baxis\":{\"gridcolor\":\"white\",\"linecolor\":\"white\",\"ticks\":\"\"},\"caxis\":{\"gridcolor\":\"white\",\"linecolor\":\"white\",\"ticks\":\"\"}},\"coloraxis\":{\"colorbar\":{\"outlinewidth\":0,\"ticks\":\"\"}},\"colorscale\":{\"sequential\":[[0.0,\"#0d0887\"],[0.1111111111111111,\"#46039f\"],[0.2222222222222222,\"#7201a8\"],[0.3333333333333333,\"#9c179e\"],[0.4444444444444444,\"#bd3786\"],[0.5555555555555556,\"#d8576b\"],[0.6666666666666666,\"#ed7953\"],[0.7777777777777778,\"#fb9f3a\"],[0.8888888888888888,\"#fdca26\"],[1.0,\"#f0f921\"]],\"sequentialminus\":[[0.0,\"#0d0887\"],[0.1111111111111111,\"#46039f\"],[0.2222222222222222,\"#7201a8\"],[0.3333333333333333,\"#9c179e\"],[0.4444444444444444,\"#bd3786\"],[0.5555555555555556,\"#d8576b\"],[0.6666666666666666,\"#ed7953\"],[0.7777777777777778,\"#fb9f3a\"],[0.8888888888888888,\"#fdca26\"],[1.0,\"#f0f921\"]],\"diverging\":[[0,\"#8e0152\"],[0.1,\"#c51b7d\"],[0.2,\"#de77ae\"],[0.3,\"#f1b6da\"],[0.4,\"#fde0ef\"],[0.5,\"#f7f7f7\"],[0.6,\"#e6f5d0\"],[0.7,\"#b8e186\"],[0.8,\"#7fbc41\"],[0.9,\"#4d9221\"],[1,\"#276419\"]]},\"xaxis\":{\"gridcolor\":\"white\",\"linecolor\":\"white\",\"ticks\":\"\",\"title\":{\"standoff\":15},\"zerolinecolor\":\"white\",\"automargin\":true,\"zerolinewidth\":2},\"yaxis\":{\"gridcolor\":\"white\",\"linecolor\":\"white\",\"ticks\":\"\",\"title\":{\"standoff\":15},\"zerolinecolor\":\"white\",\"automargin\":true,\"zerolinewidth\":2},\"scene\":{\"xaxis\":{\"backgroundcolor\":\"#E5ECF6\",\"gridcolor\":\"white\",\"linecolor\":\"white\",\"showbackground\":true,\"ticks\":\"\",\"zerolinecolor\":\"white\",\"gridwidth\":2},\"yaxis\":{\"backgroundcolor\":\"#E5ECF6\",\"gridcolor\":\"white\",\"linecolor\":\"white\",\"showbackground\":true,\"ticks\":\"\",\"zerolinecolor\":\"white\",\"gridwidth\":2},\"zaxis\":{\"backgroundcolor\":\"#E5ECF6\",\"gridcolor\":\"white\",\"linecolor\":\"white\",\"showbackground\":true,\"ticks\":\"\",\"zerolinecolor\":\"white\",\"gridwidth\":2}},\"shapedefaults\":{\"line\":{\"color\":\"#2a3f5f\"}},\"annotationdefaults\":{\"arrowcolor\":\"#2a3f5f\",\"arrowhead\":0,\"arrowwidth\":1},\"geo\":{\"bgcolor\":\"white\",\"landcolor\":\"#E5ECF6\",\"subunitcolor\":\"white\",\"showland\":true,\"showlakes\":true,\"lakecolor\":\"white\"},\"title\":{\"x\":0.05},\"mapbox\":{\"style\":\"light\"}}},\"xaxis\":{\"anchor\":\"y\",\"domain\":[0.0,1.0],\"title\":{\"text\":\"Date\"}},\"yaxis\":{\"anchor\":\"x\",\"domain\":[0.0,1.0],\"title\":{\"text\":\"Marketing Cost in USD\"}},\"legend\":{\"tracegroupgap\":0},\"margin\":{\"t\":60},\"hovermode\":\"x unified\"},                        {\"responsive\": true}                    ).then(function(){\n",
       "                            \n",
       "var gd = document.getElementById('6ecb0142-7292-4de5-9b33-0f35e8c6b519');\n",
       "var x = new MutationObserver(function (mutations, observer) {{\n",
       "        var display = window.getComputedStyle(gd).display;\n",
       "        if (!display || display === 'none') {{\n",
       "            console.log([gd, 'removed!']);\n",
       "            Plotly.purge(gd);\n",
       "            observer.disconnect();\n",
       "        }}\n",
       "}});\n",
       "\n",
       "// Listen for the removal of the full notebook cells\n",
       "var notebookContainer = gd.closest('#notebook-container');\n",
       "if (notebookContainer) {{\n",
       "    x.observe(notebookContainer, {childList: true});\n",
       "}}\n",
       "\n",
       "// Listen for the clearing of the current output cell\n",
       "var outputEl = gd.closest('.output');\n",
       "if (outputEl) {{\n",
       "    x.observe(outputEl, {childList: true});\n",
       "}}\n",
       "\n",
       "                        })                };                });            </script>        </div>"
      ]
     },
     "metadata": {},
     "output_type": "display_data"
    }
   ],
   "source": [
    "fig = px.line(data_frame = df_cost_by_date, x='date', y='cost' ,markers = True)\n",
    "\n",
    "fig.update_layout(xaxis_title_text = 'Date', yaxis_title_text = 'Marketing Cost in USD', hovermode = 'x unified')\n",
    "\n",
    "fig.show()"
   ]
  },
  {
   "cell_type": "markdown",
   "id": "1cd2f75f",
   "metadata": {},
   "source": [
    "## Merging Data"
   ]
  },
  {
   "cell_type": "code",
   "execution_count": 175,
   "id": "57733af4",
   "metadata": {},
   "outputs": [
    {
     "data": {
      "text/html": [
       "<div>\n",
       "<style scoped>\n",
       "    .dataframe tbody tr th:only-of-type {\n",
       "        vertical-align: middle;\n",
       "    }\n",
       "\n",
       "    .dataframe tbody tr th {\n",
       "        vertical-align: top;\n",
       "    }\n",
       "\n",
       "    .dataframe thead th {\n",
       "        text-align: right;\n",
       "    }\n",
       "</style>\n",
       "<table border=\"1\" class=\"dataframe\">\n",
       "  <thead>\n",
       "    <tr style=\"text-align: right;\">\n",
       "      <th></th>\n",
       "      <th>date</th>\n",
       "      <th>type</th>\n",
       "      <th>cost</th>\n",
       "      <th>revenue</th>\n",
       "    </tr>\n",
       "  </thead>\n",
       "  <tbody>\n",
       "    <tr>\n",
       "      <th>0</th>\n",
       "      <td>2010-01-01</td>\n",
       "      <td>Brand Awareness</td>\n",
       "      <td>311.84</td>\n",
       "      <td>0.0</td>\n",
       "    </tr>\n",
       "    <tr>\n",
       "      <th>1</th>\n",
       "      <td>2010-01-02</td>\n",
       "      <td>0</td>\n",
       "      <td>0.00</td>\n",
       "      <td>0.0</td>\n",
       "    </tr>\n",
       "    <tr>\n",
       "      <th>2</th>\n",
       "      <td>2010-01-03</td>\n",
       "      <td>0</td>\n",
       "      <td>0.00</td>\n",
       "      <td>0.0</td>\n",
       "    </tr>\n",
       "    <tr>\n",
       "      <th>3</th>\n",
       "      <td>2010-01-04</td>\n",
       "      <td>0</td>\n",
       "      <td>0.00</td>\n",
       "      <td>0.0</td>\n",
       "    </tr>\n",
       "    <tr>\n",
       "      <th>4</th>\n",
       "      <td>2010-01-05</td>\n",
       "      <td>0</td>\n",
       "      <td>0.00</td>\n",
       "      <td>0.0</td>\n",
       "    </tr>\n",
       "  </tbody>\n",
       "</table>\n",
       "</div>"
      ],
      "text/plain": [
       "        date             type    cost  revenue\n",
       "0 2010-01-01  Brand Awareness  311.84      0.0\n",
       "1 2010-01-02                0    0.00      0.0\n",
       "2 2010-01-03                0    0.00      0.0\n",
       "3 2010-01-04                0    0.00      0.0\n",
       "4 2010-01-05                0    0.00      0.0"
      ]
     },
     "execution_count": 175,
     "metadata": {},
     "output_type": "execute_result"
    }
   ],
   "source": [
    "df_main = pd.DataFrame(data = pd.date_range(start = '2010-01-01', end = '2010-12-25'), columns=['date'])\n",
    "\n",
    "df_main = df_main.join(df_cost.set_index('date'), on = 'date').join(df_sales.set_index('date'), on = 'date')\n",
    "\n",
    "df_main = df_main.replace(np.NaN, 0)\n",
    "\n",
    "df_main.head()"
   ]
  },
  {
   "cell_type": "markdown",
   "id": "c034b9b2",
   "metadata": {},
   "source": [
    "### Visualize with `px`"
   ]
  },
  {
   "cell_type": "code",
   "execution_count": 176,
   "id": "fc6c1602",
   "metadata": {},
   "outputs": [
    {
     "data": {
      "application/vnd.plotly.v1+json": {
       "config": {
        "plotlyServerURL": "https://plotly.com"
       },
       "data": [
        {
         "hovertemplate": "variable=cost<br>date=%{x}<br>value=%{y}<extra></extra>",
         "legendgroup": "cost",
         "line": {
          "color": "#636efa",
          "dash": "solid"
         },
         "marker": {
          "symbol": "circle"
         },
         "mode": "lines",
         "name": "cost",
         "orientation": "v",
         "showlegend": true,
         "type": "scatter",
         "x": [
          "2010-01-01T00:00:00",
          "2010-01-02T00:00:00",
          "2010-01-03T00:00:00",
          "2010-01-04T00:00:00",
          "2010-01-05T00:00:00",
          "2010-01-06T00:00:00",
          "2010-01-07T00:00:00",
          "2010-01-08T00:00:00",
          "2010-01-09T00:00:00",
          "2010-01-10T00:00:00",
          "2010-01-11T00:00:00",
          "2010-01-12T00:00:00",
          "2010-01-13T00:00:00",
          "2010-01-14T00:00:00",
          "2010-01-15T00:00:00",
          "2010-01-16T00:00:00",
          "2010-01-17T00:00:00",
          "2010-01-18T00:00:00",
          "2010-01-19T00:00:00",
          "2010-01-20T00:00:00",
          "2010-01-21T00:00:00",
          "2010-01-22T00:00:00",
          "2010-01-23T00:00:00",
          "2010-01-24T00:00:00",
          "2010-01-25T00:00:00",
          "2010-01-26T00:00:00",
          "2010-01-27T00:00:00",
          "2010-01-28T00:00:00",
          "2010-01-28T00:00:00",
          "2010-01-29T00:00:00",
          "2010-01-30T00:00:00",
          "2010-01-31T00:00:00",
          "2010-02-01T00:00:00",
          "2010-02-02T00:00:00",
          "2010-02-03T00:00:00",
          "2010-02-04T00:00:00",
          "2010-02-05T00:00:00",
          "2010-02-06T00:00:00",
          "2010-02-07T00:00:00",
          "2010-02-08T00:00:00",
          "2010-02-09T00:00:00",
          "2010-02-10T00:00:00",
          "2010-02-11T00:00:00",
          "2010-02-11T00:00:00",
          "2010-02-12T00:00:00",
          "2010-02-13T00:00:00",
          "2010-02-14T00:00:00",
          "2010-02-15T00:00:00",
          "2010-02-16T00:00:00",
          "2010-02-17T00:00:00",
          "2010-02-18T00:00:00",
          "2010-02-19T00:00:00",
          "2010-02-19T00:00:00",
          "2010-02-19T00:00:00",
          "2010-02-20T00:00:00",
          "2010-02-21T00:00:00",
          "2010-02-22T00:00:00",
          "2010-02-23T00:00:00",
          "2010-02-24T00:00:00",
          "2010-02-25T00:00:00",
          "2010-02-26T00:00:00",
          "2010-02-27T00:00:00",
          "2010-02-28T00:00:00",
          "2010-03-01T00:00:00",
          "2010-03-02T00:00:00",
          "2010-03-03T00:00:00",
          "2010-03-03T00:00:00",
          "2010-03-04T00:00:00",
          "2010-03-05T00:00:00",
          "2010-03-06T00:00:00",
          "2010-03-07T00:00:00",
          "2010-03-08T00:00:00",
          "2010-03-09T00:00:00",
          "2010-03-10T00:00:00",
          "2010-03-11T00:00:00",
          "2010-03-12T00:00:00",
          "2010-03-13T00:00:00",
          "2010-03-14T00:00:00",
          "2010-03-15T00:00:00",
          "2010-03-16T00:00:00",
          "2010-03-16T00:00:00",
          "2010-03-17T00:00:00",
          "2010-03-18T00:00:00",
          "2010-03-19T00:00:00",
          "2010-03-20T00:00:00",
          "2010-03-21T00:00:00",
          "2010-03-22T00:00:00",
          "2010-03-22T00:00:00",
          "2010-03-22T00:00:00",
          "2010-03-23T00:00:00",
          "2010-03-24T00:00:00",
          "2010-03-25T00:00:00",
          "2010-03-26T00:00:00",
          "2010-03-27T00:00:00",
          "2010-03-28T00:00:00",
          "2010-03-29T00:00:00",
          "2010-03-30T00:00:00",
          "2010-03-31T00:00:00",
          "2010-04-01T00:00:00",
          "2010-04-02T00:00:00",
          "2010-04-03T00:00:00",
          "2010-04-04T00:00:00",
          "2010-04-05T00:00:00",
          "2010-04-06T00:00:00",
          "2010-04-07T00:00:00",
          "2010-04-08T00:00:00",
          "2010-04-08T00:00:00",
          "2010-04-09T00:00:00",
          "2010-04-10T00:00:00",
          "2010-04-11T00:00:00",
          "2010-04-12T00:00:00",
          "2010-04-13T00:00:00",
          "2010-04-14T00:00:00",
          "2010-04-15T00:00:00",
          "2010-04-16T00:00:00",
          "2010-04-17T00:00:00",
          "2010-04-18T00:00:00",
          "2010-04-19T00:00:00",
          "2010-04-20T00:00:00",
          "2010-04-21T00:00:00",
          "2010-04-22T00:00:00",
          "2010-04-23T00:00:00",
          "2010-04-24T00:00:00",
          "2010-04-25T00:00:00",
          "2010-04-26T00:00:00",
          "2010-04-27T00:00:00",
          "2010-04-28T00:00:00",
          "2010-04-29T00:00:00",
          "2010-04-30T00:00:00",
          "2010-04-30T00:00:00",
          "2010-04-30T00:00:00",
          "2010-04-30T00:00:00",
          "2010-04-30T00:00:00",
          "2010-04-30T00:00:00",
          "2010-05-01T00:00:00",
          "2010-05-02T00:00:00",
          "2010-05-03T00:00:00",
          "2010-05-04T00:00:00",
          "2010-05-05T00:00:00",
          "2010-05-06T00:00:00",
          "2010-05-06T00:00:00",
          "2010-05-07T00:00:00",
          "2010-05-08T00:00:00",
          "2010-05-09T00:00:00",
          "2010-05-10T00:00:00",
          "2010-05-11T00:00:00",
          "2010-05-12T00:00:00",
          "2010-05-13T00:00:00",
          "2010-05-14T00:00:00",
          "2010-05-15T00:00:00",
          "2010-05-16T00:00:00",
          "2010-05-17T00:00:00",
          "2010-05-18T00:00:00",
          "2010-05-19T00:00:00",
          "2010-05-20T00:00:00",
          "2010-05-20T00:00:00",
          "2010-05-21T00:00:00",
          "2010-05-22T00:00:00",
          "2010-05-23T00:00:00",
          "2010-05-24T00:00:00",
          "2010-05-25T00:00:00",
          "2010-05-26T00:00:00",
          "2010-05-27T00:00:00",
          "2010-05-28T00:00:00",
          "2010-05-29T00:00:00",
          "2010-05-30T00:00:00",
          "2010-05-31T00:00:00",
          "2010-06-01T00:00:00",
          "2010-06-02T00:00:00",
          "2010-06-03T00:00:00",
          "2010-06-03T00:00:00",
          "2010-06-04T00:00:00",
          "2010-06-05T00:00:00",
          "2010-06-06T00:00:00",
          "2010-06-07T00:00:00",
          "2010-06-08T00:00:00",
          "2010-06-09T00:00:00",
          "2010-06-10T00:00:00",
          "2010-06-11T00:00:00",
          "2010-06-12T00:00:00",
          "2010-06-13T00:00:00",
          "2010-06-14T00:00:00",
          "2010-06-15T00:00:00",
          "2010-06-15T00:00:00",
          "2010-06-15T00:00:00",
          "2010-06-16T00:00:00",
          "2010-06-17T00:00:00",
          "2010-06-18T00:00:00",
          "2010-06-19T00:00:00",
          "2010-06-20T00:00:00",
          "2010-06-21T00:00:00",
          "2010-06-22T00:00:00",
          "2010-06-23T00:00:00",
          "2010-06-23T00:00:00",
          "2010-06-24T00:00:00",
          "2010-06-25T00:00:00",
          "2010-06-26T00:00:00",
          "2010-06-27T00:00:00",
          "2010-06-28T00:00:00",
          "2010-06-29T00:00:00",
          "2010-06-30T00:00:00",
          "2010-06-30T00:00:00",
          "2010-07-01T00:00:00",
          "2010-07-02T00:00:00",
          "2010-07-03T00:00:00",
          "2010-07-04T00:00:00",
          "2010-07-05T00:00:00",
          "2010-07-06T00:00:00",
          "2010-07-07T00:00:00",
          "2010-07-08T00:00:00",
          "2010-07-09T00:00:00",
          "2010-07-10T00:00:00",
          "2010-07-11T00:00:00",
          "2010-07-12T00:00:00",
          "2010-07-13T00:00:00",
          "2010-07-14T00:00:00",
          "2010-07-15T00:00:00",
          "2010-07-16T00:00:00",
          "2010-07-17T00:00:00",
          "2010-07-18T00:00:00",
          "2010-07-19T00:00:00",
          "2010-07-20T00:00:00",
          "2010-07-21T00:00:00",
          "2010-07-22T00:00:00",
          "2010-07-22T00:00:00",
          "2010-07-23T00:00:00",
          "2010-07-24T00:00:00",
          "2010-07-25T00:00:00",
          "2010-07-26T00:00:00",
          "2010-07-27T00:00:00",
          "2010-07-28T00:00:00",
          "2010-07-29T00:00:00",
          "2010-07-30T00:00:00",
          "2010-07-31T00:00:00",
          "2010-08-01T00:00:00",
          "2010-08-02T00:00:00",
          "2010-08-03T00:00:00",
          "2010-08-04T00:00:00",
          "2010-08-05T00:00:00",
          "2010-08-06T00:00:00",
          "2010-08-07T00:00:00",
          "2010-08-08T00:00:00",
          "2010-08-09T00:00:00",
          "2010-08-10T00:00:00",
          "2010-08-11T00:00:00",
          "2010-08-11T00:00:00",
          "2010-08-12T00:00:00",
          "2010-08-13T00:00:00",
          "2010-08-14T00:00:00",
          "2010-08-15T00:00:00",
          "2010-08-16T00:00:00",
          "2010-08-17T00:00:00",
          "2010-08-18T00:00:00",
          "2010-08-19T00:00:00",
          "2010-08-19T00:00:00",
          "2010-08-20T00:00:00",
          "2010-08-21T00:00:00",
          "2010-08-22T00:00:00",
          "2010-08-23T00:00:00",
          "2010-08-23T00:00:00",
          "2010-08-24T00:00:00",
          "2010-08-25T00:00:00",
          "2010-08-26T00:00:00",
          "2010-08-27T00:00:00",
          "2010-08-28T00:00:00",
          "2010-08-29T00:00:00",
          "2010-08-30T00:00:00",
          "2010-08-31T00:00:00",
          "2010-09-01T00:00:00",
          "2010-09-02T00:00:00",
          "2010-09-02T00:00:00",
          "2010-09-02T00:00:00",
          "2010-09-03T00:00:00",
          "2010-09-04T00:00:00",
          "2010-09-05T00:00:00",
          "2010-09-06T00:00:00",
          "2010-09-07T00:00:00",
          "2010-09-08T00:00:00",
          "2010-09-09T00:00:00",
          "2010-09-10T00:00:00",
          "2010-09-11T00:00:00",
          "2010-09-12T00:00:00",
          "2010-09-13T00:00:00",
          "2010-09-14T00:00:00",
          "2010-09-15T00:00:00",
          "2010-09-16T00:00:00",
          "2010-09-17T00:00:00",
          "2010-09-18T00:00:00",
          "2010-09-19T00:00:00",
          "2010-09-20T00:00:00",
          "2010-09-21T00:00:00",
          "2010-09-22T00:00:00",
          "2010-09-22T00:00:00",
          "2010-09-23T00:00:00",
          "2010-09-24T00:00:00",
          "2010-09-24T00:00:00",
          "2010-09-24T00:00:00",
          "2010-09-25T00:00:00",
          "2010-09-26T00:00:00",
          "2010-09-27T00:00:00",
          "2010-09-28T00:00:00",
          "2010-09-29T00:00:00",
          "2010-09-30T00:00:00",
          "2010-09-30T00:00:00",
          "2010-10-01T00:00:00",
          "2010-10-02T00:00:00",
          "2010-10-03T00:00:00",
          "2010-10-04T00:00:00",
          "2010-10-05T00:00:00",
          "2010-10-06T00:00:00",
          "2010-10-07T00:00:00",
          "2010-10-08T00:00:00",
          "2010-10-09T00:00:00",
          "2010-10-10T00:00:00",
          "2010-10-11T00:00:00",
          "2010-10-12T00:00:00",
          "2010-10-13T00:00:00",
          "2010-10-13T00:00:00",
          "2010-10-13T00:00:00",
          "2010-10-13T00:00:00",
          "2010-10-13T00:00:00",
          "2010-10-14T00:00:00",
          "2010-10-15T00:00:00",
          "2010-10-16T00:00:00",
          "2010-10-17T00:00:00",
          "2010-10-18T00:00:00",
          "2010-10-19T00:00:00",
          "2010-10-20T00:00:00",
          "2010-10-21T00:00:00",
          "2010-10-22T00:00:00",
          "2010-10-23T00:00:00",
          "2010-10-24T00:00:00",
          "2010-10-24T00:00:00",
          "2010-10-25T00:00:00",
          "2010-10-26T00:00:00",
          "2010-10-27T00:00:00",
          "2010-10-28T00:00:00",
          "2010-10-29T00:00:00",
          "2010-10-30T00:00:00",
          "2010-10-31T00:00:00",
          "2010-10-31T00:00:00",
          "2010-10-31T00:00:00",
          "2010-11-01T00:00:00",
          "2010-11-02T00:00:00",
          "2010-11-03T00:00:00",
          "2010-11-04T00:00:00",
          "2010-11-04T00:00:00",
          "2010-11-05T00:00:00",
          "2010-11-06T00:00:00",
          "2010-11-07T00:00:00",
          "2010-11-08T00:00:00",
          "2010-11-09T00:00:00",
          "2010-11-10T00:00:00",
          "2010-11-11T00:00:00",
          "2010-11-12T00:00:00",
          "2010-11-13T00:00:00",
          "2010-11-14T00:00:00",
          "2010-11-15T00:00:00",
          "2010-11-16T00:00:00",
          "2010-11-17T00:00:00",
          "2010-11-18T00:00:00",
          "2010-11-18T00:00:00",
          "2010-11-19T00:00:00",
          "2010-11-20T00:00:00",
          "2010-11-21T00:00:00",
          "2010-11-22T00:00:00",
          "2010-11-23T00:00:00",
          "2010-11-24T00:00:00",
          "2010-11-25T00:00:00",
          "2010-11-26T00:00:00",
          "2010-11-27T00:00:00",
          "2010-11-28T00:00:00",
          "2010-11-29T00:00:00",
          "2010-11-30T00:00:00",
          "2010-11-30T00:00:00",
          "2010-12-01T00:00:00",
          "2010-12-02T00:00:00",
          "2010-12-03T00:00:00",
          "2010-12-04T00:00:00",
          "2010-12-05T00:00:00",
          "2010-12-06T00:00:00",
          "2010-12-07T00:00:00",
          "2010-12-08T00:00:00",
          "2010-12-09T00:00:00",
          "2010-12-10T00:00:00",
          "2010-12-11T00:00:00",
          "2010-12-12T00:00:00",
          "2010-12-13T00:00:00",
          "2010-12-14T00:00:00",
          "2010-12-15T00:00:00",
          "2010-12-16T00:00:00",
          "2010-12-17T00:00:00",
          "2010-12-18T00:00:00",
          "2010-12-19T00:00:00",
          "2010-12-20T00:00:00",
          "2010-12-21T00:00:00",
          "2010-12-22T00:00:00",
          "2010-12-23T00:00:00",
          "2010-12-23T00:00:00",
          "2010-12-24T00:00:00",
          "2010-12-25T00:00:00"
         ],
         "xaxis": "x",
         "y": [
          311.84,
          0,
          0,
          0,
          0,
          0,
          0,
          0,
          72.76,
          0,
          0,
          0,
          0,
          0,
          0,
          0,
          0,
          0,
          0,
          0,
          0,
          0,
          0,
          0,
          0,
          0,
          0,
          15592.05,
          6236.82,
          0,
          0,
          0,
          0,
          0,
          0,
          0,
          4959.93,
          0,
          428.65,
          0,
          0,
          0,
          128.59,
          300.05,
          0,
          0,
          0,
          0,
          0,
          0,
          0,
          490.42,
          20789.4,
          14828.23,
          0,
          106.61,
          0,
          0,
          0,
          20789.4,
          0,
          0,
          0,
          0,
          831.58,
          533.06,
          1871.05,
          20082.56,
          0,
          0,
          0,
          1024.8,
          1247.36,
          15592.05,
          0,
          0,
          0,
          41795.24,
          0,
          1197.47,
          1871.05,
          0,
          0,
          0,
          0,
          0,
          93552.28,
          7138.52,
          20789.4,
          0,
          2078.94,
          0,
          0,
          0,
          0,
          0,
          155.92,
          0,
          1322.87,
          0,
          0,
          0,
          0,
          0,
          0,
          103.95,
          10690.96,
          0,
          0,
          0,
          0,
          0,
          0,
          0,
          43078.46,
          0,
          0,
          575.71,
          0,
          0,
          22847.55,
          0,
          0,
          0,
          0,
          1871.05,
          5332.48,
          0,
          410.4,
          410.4,
          20789.4,
          20789.4,
          1279.35,
          1279.35,
          0,
          0,
          3072.85,
          0,
          0,
          93552.28,
          43657.73,
          0,
          0,
          0,
          415.79,
          0,
          0,
          2443.38,
          0,
          0,
          0,
          0,
          0,
          0,
          4157.88,
          44315.63,
          0,
          0,
          0,
          0,
          0,
          0,
          1871.05,
          0,
          0,
          0,
          0,
          0,
          21828.87,
          2909.31,
          3742.09,
          0,
          0,
          0,
          0,
          0,
          0,
          0,
          0,
          0,
          0,
          0,
          38838.02,
          583.14,
          43386.52,
          0,
          0,
          0,
          0,
          0,
          0,
          0,
          1217.71,
          32743.3,
          0,
          0,
          0,
          0,
          0,
          0,
          21793,
          21793,
          21793,
          0,
          0,
          0,
          0,
          0,
          0,
          0,
          0,
          0,
          0,
          36163.15,
          0,
          0,
          0,
          0,
          0,
          0,
          0,
          0,
          0,
          21793,
          43486.81,
          0,
          0,
          0,
          1767.1,
          0,
          0,
          19625.19,
          0,
          0,
          0,
          0,
          0,
          100342.72,
          0,
          0,
          0,
          0,
          0,
          0,
          38917.75,
          1871.05,
          0,
          0,
          0,
          0,
          4789.67,
          1299.34,
          0,
          277.63,
          1871.05,
          0,
          0,
          0,
          259.87,
          2078.94,
          0,
          249.47,
          124.74,
          0,
          0,
          0,
          1808.68,
          0,
          0,
          17183.78,
          3118.41,
          38460.38,
          51973.49,
          0,
          0,
          0,
          0,
          0,
          2307.62,
          0,
          0,
          0,
          0,
          0,
          35783.45,
          0,
          0,
          0,
          0,
          0,
          0,
          122.87,
          42704.8,
          0,
          41578.79,
          1767.1,
          36381.44,
          0,
          0,
          0,
          0,
          0,
          1715.13,
          1715.13,
          0,
          0,
          0,
          0,
          0,
          353.42,
          0,
          0,
          0,
          0,
          0,
          10394.7,
          386.09,
          664.07,
          207.89,
          8359.42,
          40680.74,
          7421.81,
          0,
          0,
          0,
          0,
          481.97,
          0,
          0,
          0,
          0,
          16637.75,
          38460.38,
          0,
          0,
          0,
          0,
          0,
          0,
          113027.44,
          8658.78,
          16631.52,
          0,
          9022.6,
          0,
          3035.25,
          1205.78,
          0,
          0,
          16631.52,
          0,
          0,
          0,
          0,
          0,
          0,
          0,
          0,
          1767.1,
          0,
          18710.46,
          308.29,
          0,
          0,
          0,
          0,
          5515.55,
          0,
          0,
          0,
          0,
          0,
          0,
          0,
          0,
          0,
          0,
          0,
          31184.09,
          0,
          0,
          0,
          0,
          0,
          0,
          9355.23,
          0,
          0,
          59927.51,
          0,
          0,
          0,
          9355.23,
          0,
          0,
          0,
          0,
          3462.5,
          117.56,
          0,
          9355.23
         ],
         "yaxis": "y"
        },
        {
         "hovertemplate": "variable=revenue<br>date=%{x}<br>value=%{y}<extra></extra>",
         "legendgroup": "revenue",
         "line": {
          "color": "#EF553B",
          "dash": "solid"
         },
         "marker": {
          "symbol": "circle"
         },
         "mode": "lines",
         "name": "revenue",
         "orientation": "v",
         "showlegend": true,
         "type": "scatter",
         "x": [
          "2010-01-01T00:00:00",
          "2010-01-02T00:00:00",
          "2010-01-03T00:00:00",
          "2010-01-04T00:00:00",
          "2010-01-05T00:00:00",
          "2010-01-06T00:00:00",
          "2010-01-07T00:00:00",
          "2010-01-08T00:00:00",
          "2010-01-09T00:00:00",
          "2010-01-10T00:00:00",
          "2010-01-11T00:00:00",
          "2010-01-12T00:00:00",
          "2010-01-13T00:00:00",
          "2010-01-14T00:00:00",
          "2010-01-15T00:00:00",
          "2010-01-16T00:00:00",
          "2010-01-17T00:00:00",
          "2010-01-18T00:00:00",
          "2010-01-19T00:00:00",
          "2010-01-20T00:00:00",
          "2010-01-21T00:00:00",
          "2010-01-22T00:00:00",
          "2010-01-23T00:00:00",
          "2010-01-24T00:00:00",
          "2010-01-25T00:00:00",
          "2010-01-26T00:00:00",
          "2010-01-27T00:00:00",
          "2010-01-28T00:00:00",
          "2010-01-28T00:00:00",
          "2010-01-29T00:00:00",
          "2010-01-30T00:00:00",
          "2010-01-31T00:00:00",
          "2010-02-01T00:00:00",
          "2010-02-02T00:00:00",
          "2010-02-03T00:00:00",
          "2010-02-04T00:00:00",
          "2010-02-05T00:00:00",
          "2010-02-06T00:00:00",
          "2010-02-07T00:00:00",
          "2010-02-08T00:00:00",
          "2010-02-09T00:00:00",
          "2010-02-10T00:00:00",
          "2010-02-11T00:00:00",
          "2010-02-11T00:00:00",
          "2010-02-12T00:00:00",
          "2010-02-13T00:00:00",
          "2010-02-14T00:00:00",
          "2010-02-15T00:00:00",
          "2010-02-16T00:00:00",
          "2010-02-17T00:00:00",
          "2010-02-18T00:00:00",
          "2010-02-19T00:00:00",
          "2010-02-19T00:00:00",
          "2010-02-19T00:00:00",
          "2010-02-20T00:00:00",
          "2010-02-21T00:00:00",
          "2010-02-22T00:00:00",
          "2010-02-23T00:00:00",
          "2010-02-24T00:00:00",
          "2010-02-25T00:00:00",
          "2010-02-26T00:00:00",
          "2010-02-27T00:00:00",
          "2010-02-28T00:00:00",
          "2010-03-01T00:00:00",
          "2010-03-02T00:00:00",
          "2010-03-03T00:00:00",
          "2010-03-03T00:00:00",
          "2010-03-04T00:00:00",
          "2010-03-05T00:00:00",
          "2010-03-06T00:00:00",
          "2010-03-07T00:00:00",
          "2010-03-08T00:00:00",
          "2010-03-09T00:00:00",
          "2010-03-10T00:00:00",
          "2010-03-11T00:00:00",
          "2010-03-12T00:00:00",
          "2010-03-13T00:00:00",
          "2010-03-14T00:00:00",
          "2010-03-15T00:00:00",
          "2010-03-16T00:00:00",
          "2010-03-16T00:00:00",
          "2010-03-17T00:00:00",
          "2010-03-18T00:00:00",
          "2010-03-19T00:00:00",
          "2010-03-20T00:00:00",
          "2010-03-21T00:00:00",
          "2010-03-22T00:00:00",
          "2010-03-22T00:00:00",
          "2010-03-22T00:00:00",
          "2010-03-23T00:00:00",
          "2010-03-24T00:00:00",
          "2010-03-25T00:00:00",
          "2010-03-26T00:00:00",
          "2010-03-27T00:00:00",
          "2010-03-28T00:00:00",
          "2010-03-29T00:00:00",
          "2010-03-30T00:00:00",
          "2010-03-31T00:00:00",
          "2010-04-01T00:00:00",
          "2010-04-02T00:00:00",
          "2010-04-03T00:00:00",
          "2010-04-04T00:00:00",
          "2010-04-05T00:00:00",
          "2010-04-06T00:00:00",
          "2010-04-07T00:00:00",
          "2010-04-08T00:00:00",
          "2010-04-08T00:00:00",
          "2010-04-09T00:00:00",
          "2010-04-10T00:00:00",
          "2010-04-11T00:00:00",
          "2010-04-12T00:00:00",
          "2010-04-13T00:00:00",
          "2010-04-14T00:00:00",
          "2010-04-15T00:00:00",
          "2010-04-16T00:00:00",
          "2010-04-17T00:00:00",
          "2010-04-18T00:00:00",
          "2010-04-19T00:00:00",
          "2010-04-20T00:00:00",
          "2010-04-21T00:00:00",
          "2010-04-22T00:00:00",
          "2010-04-23T00:00:00",
          "2010-04-24T00:00:00",
          "2010-04-25T00:00:00",
          "2010-04-26T00:00:00",
          "2010-04-27T00:00:00",
          "2010-04-28T00:00:00",
          "2010-04-29T00:00:00",
          "2010-04-30T00:00:00",
          "2010-04-30T00:00:00",
          "2010-04-30T00:00:00",
          "2010-04-30T00:00:00",
          "2010-04-30T00:00:00",
          "2010-04-30T00:00:00",
          "2010-05-01T00:00:00",
          "2010-05-02T00:00:00",
          "2010-05-03T00:00:00",
          "2010-05-04T00:00:00",
          "2010-05-05T00:00:00",
          "2010-05-06T00:00:00",
          "2010-05-06T00:00:00",
          "2010-05-07T00:00:00",
          "2010-05-08T00:00:00",
          "2010-05-09T00:00:00",
          "2010-05-10T00:00:00",
          "2010-05-11T00:00:00",
          "2010-05-12T00:00:00",
          "2010-05-13T00:00:00",
          "2010-05-14T00:00:00",
          "2010-05-15T00:00:00",
          "2010-05-16T00:00:00",
          "2010-05-17T00:00:00",
          "2010-05-18T00:00:00",
          "2010-05-19T00:00:00",
          "2010-05-20T00:00:00",
          "2010-05-20T00:00:00",
          "2010-05-21T00:00:00",
          "2010-05-22T00:00:00",
          "2010-05-23T00:00:00",
          "2010-05-24T00:00:00",
          "2010-05-25T00:00:00",
          "2010-05-26T00:00:00",
          "2010-05-27T00:00:00",
          "2010-05-28T00:00:00",
          "2010-05-29T00:00:00",
          "2010-05-30T00:00:00",
          "2010-05-31T00:00:00",
          "2010-06-01T00:00:00",
          "2010-06-02T00:00:00",
          "2010-06-03T00:00:00",
          "2010-06-03T00:00:00",
          "2010-06-04T00:00:00",
          "2010-06-05T00:00:00",
          "2010-06-06T00:00:00",
          "2010-06-07T00:00:00",
          "2010-06-08T00:00:00",
          "2010-06-09T00:00:00",
          "2010-06-10T00:00:00",
          "2010-06-11T00:00:00",
          "2010-06-12T00:00:00",
          "2010-06-13T00:00:00",
          "2010-06-14T00:00:00",
          "2010-06-15T00:00:00",
          "2010-06-15T00:00:00",
          "2010-06-15T00:00:00",
          "2010-06-16T00:00:00",
          "2010-06-17T00:00:00",
          "2010-06-18T00:00:00",
          "2010-06-19T00:00:00",
          "2010-06-20T00:00:00",
          "2010-06-21T00:00:00",
          "2010-06-22T00:00:00",
          "2010-06-23T00:00:00",
          "2010-06-23T00:00:00",
          "2010-06-24T00:00:00",
          "2010-06-25T00:00:00",
          "2010-06-26T00:00:00",
          "2010-06-27T00:00:00",
          "2010-06-28T00:00:00",
          "2010-06-29T00:00:00",
          "2010-06-30T00:00:00",
          "2010-06-30T00:00:00",
          "2010-07-01T00:00:00",
          "2010-07-02T00:00:00",
          "2010-07-03T00:00:00",
          "2010-07-04T00:00:00",
          "2010-07-05T00:00:00",
          "2010-07-06T00:00:00",
          "2010-07-07T00:00:00",
          "2010-07-08T00:00:00",
          "2010-07-09T00:00:00",
          "2010-07-10T00:00:00",
          "2010-07-11T00:00:00",
          "2010-07-12T00:00:00",
          "2010-07-13T00:00:00",
          "2010-07-14T00:00:00",
          "2010-07-15T00:00:00",
          "2010-07-16T00:00:00",
          "2010-07-17T00:00:00",
          "2010-07-18T00:00:00",
          "2010-07-19T00:00:00",
          "2010-07-20T00:00:00",
          "2010-07-21T00:00:00",
          "2010-07-22T00:00:00",
          "2010-07-22T00:00:00",
          "2010-07-23T00:00:00",
          "2010-07-24T00:00:00",
          "2010-07-25T00:00:00",
          "2010-07-26T00:00:00",
          "2010-07-27T00:00:00",
          "2010-07-28T00:00:00",
          "2010-07-29T00:00:00",
          "2010-07-30T00:00:00",
          "2010-07-31T00:00:00",
          "2010-08-01T00:00:00",
          "2010-08-02T00:00:00",
          "2010-08-03T00:00:00",
          "2010-08-04T00:00:00",
          "2010-08-05T00:00:00",
          "2010-08-06T00:00:00",
          "2010-08-07T00:00:00",
          "2010-08-08T00:00:00",
          "2010-08-09T00:00:00",
          "2010-08-10T00:00:00",
          "2010-08-11T00:00:00",
          "2010-08-11T00:00:00",
          "2010-08-12T00:00:00",
          "2010-08-13T00:00:00",
          "2010-08-14T00:00:00",
          "2010-08-15T00:00:00",
          "2010-08-16T00:00:00",
          "2010-08-17T00:00:00",
          "2010-08-18T00:00:00",
          "2010-08-19T00:00:00",
          "2010-08-19T00:00:00",
          "2010-08-20T00:00:00",
          "2010-08-21T00:00:00",
          "2010-08-22T00:00:00",
          "2010-08-23T00:00:00",
          "2010-08-23T00:00:00",
          "2010-08-24T00:00:00",
          "2010-08-25T00:00:00",
          "2010-08-26T00:00:00",
          "2010-08-27T00:00:00",
          "2010-08-28T00:00:00",
          "2010-08-29T00:00:00",
          "2010-08-30T00:00:00",
          "2010-08-31T00:00:00",
          "2010-09-01T00:00:00",
          "2010-09-02T00:00:00",
          "2010-09-02T00:00:00",
          "2010-09-02T00:00:00",
          "2010-09-03T00:00:00",
          "2010-09-04T00:00:00",
          "2010-09-05T00:00:00",
          "2010-09-06T00:00:00",
          "2010-09-07T00:00:00",
          "2010-09-08T00:00:00",
          "2010-09-09T00:00:00",
          "2010-09-10T00:00:00",
          "2010-09-11T00:00:00",
          "2010-09-12T00:00:00",
          "2010-09-13T00:00:00",
          "2010-09-14T00:00:00",
          "2010-09-15T00:00:00",
          "2010-09-16T00:00:00",
          "2010-09-17T00:00:00",
          "2010-09-18T00:00:00",
          "2010-09-19T00:00:00",
          "2010-09-20T00:00:00",
          "2010-09-21T00:00:00",
          "2010-09-22T00:00:00",
          "2010-09-22T00:00:00",
          "2010-09-23T00:00:00",
          "2010-09-24T00:00:00",
          "2010-09-24T00:00:00",
          "2010-09-24T00:00:00",
          "2010-09-25T00:00:00",
          "2010-09-26T00:00:00",
          "2010-09-27T00:00:00",
          "2010-09-28T00:00:00",
          "2010-09-29T00:00:00",
          "2010-09-30T00:00:00",
          "2010-09-30T00:00:00",
          "2010-10-01T00:00:00",
          "2010-10-02T00:00:00",
          "2010-10-03T00:00:00",
          "2010-10-04T00:00:00",
          "2010-10-05T00:00:00",
          "2010-10-06T00:00:00",
          "2010-10-07T00:00:00",
          "2010-10-08T00:00:00",
          "2010-10-09T00:00:00",
          "2010-10-10T00:00:00",
          "2010-10-11T00:00:00",
          "2010-10-12T00:00:00",
          "2010-10-13T00:00:00",
          "2010-10-13T00:00:00",
          "2010-10-13T00:00:00",
          "2010-10-13T00:00:00",
          "2010-10-13T00:00:00",
          "2010-10-14T00:00:00",
          "2010-10-15T00:00:00",
          "2010-10-16T00:00:00",
          "2010-10-17T00:00:00",
          "2010-10-18T00:00:00",
          "2010-10-19T00:00:00",
          "2010-10-20T00:00:00",
          "2010-10-21T00:00:00",
          "2010-10-22T00:00:00",
          "2010-10-23T00:00:00",
          "2010-10-24T00:00:00",
          "2010-10-24T00:00:00",
          "2010-10-25T00:00:00",
          "2010-10-26T00:00:00",
          "2010-10-27T00:00:00",
          "2010-10-28T00:00:00",
          "2010-10-29T00:00:00",
          "2010-10-30T00:00:00",
          "2010-10-31T00:00:00",
          "2010-10-31T00:00:00",
          "2010-10-31T00:00:00",
          "2010-11-01T00:00:00",
          "2010-11-02T00:00:00",
          "2010-11-03T00:00:00",
          "2010-11-04T00:00:00",
          "2010-11-04T00:00:00",
          "2010-11-05T00:00:00",
          "2010-11-06T00:00:00",
          "2010-11-07T00:00:00",
          "2010-11-08T00:00:00",
          "2010-11-09T00:00:00",
          "2010-11-10T00:00:00",
          "2010-11-11T00:00:00",
          "2010-11-12T00:00:00",
          "2010-11-13T00:00:00",
          "2010-11-14T00:00:00",
          "2010-11-15T00:00:00",
          "2010-11-16T00:00:00",
          "2010-11-17T00:00:00",
          "2010-11-18T00:00:00",
          "2010-11-18T00:00:00",
          "2010-11-19T00:00:00",
          "2010-11-20T00:00:00",
          "2010-11-21T00:00:00",
          "2010-11-22T00:00:00",
          "2010-11-23T00:00:00",
          "2010-11-24T00:00:00",
          "2010-11-25T00:00:00",
          "2010-11-26T00:00:00",
          "2010-11-27T00:00:00",
          "2010-11-28T00:00:00",
          "2010-11-29T00:00:00",
          "2010-11-30T00:00:00",
          "2010-11-30T00:00:00",
          "2010-12-01T00:00:00",
          "2010-12-02T00:00:00",
          "2010-12-03T00:00:00",
          "2010-12-04T00:00:00",
          "2010-12-05T00:00:00",
          "2010-12-06T00:00:00",
          "2010-12-07T00:00:00",
          "2010-12-08T00:00:00",
          "2010-12-09T00:00:00",
          "2010-12-10T00:00:00",
          "2010-12-11T00:00:00",
          "2010-12-12T00:00:00",
          "2010-12-13T00:00:00",
          "2010-12-14T00:00:00",
          "2010-12-15T00:00:00",
          "2010-12-16T00:00:00",
          "2010-12-17T00:00:00",
          "2010-12-18T00:00:00",
          "2010-12-19T00:00:00",
          "2010-12-20T00:00:00",
          "2010-12-21T00:00:00",
          "2010-12-22T00:00:00",
          "2010-12-23T00:00:00",
          "2010-12-23T00:00:00",
          "2010-12-24T00:00:00",
          "2010-12-25T00:00:00"
         ],
         "xaxis": "x",
         "y": [
          0,
          0,
          0,
          0,
          0,
          0,
          0,
          0,
          0,
          0,
          0,
          0,
          0,
          0,
          0,
          0,
          0,
          0,
          0,
          0,
          0,
          0,
          0,
          0,
          0,
          0,
          0,
          0,
          0,
          0,
          0,
          0,
          0,
          0,
          0,
          0,
          0,
          0,
          0,
          0,
          0,
          0,
          0,
          0,
          0,
          0,
          0,
          0,
          0,
          0,
          0,
          0,
          0,
          0,
          0,
          0,
          0,
          0,
          0,
          0,
          0,
          0,
          0,
          0,
          0,
          0,
          0,
          0,
          0,
          0,
          0,
          0,
          0,
          0,
          0,
          0,
          0,
          0,
          0,
          0,
          0,
          0,
          0,
          0,
          0,
          0,
          2725.6,
          2725.6,
          2725.6,
          8042.22,
          4912.82,
          11474.46,
          9880.32,
          23519.48,
          37751.31,
          40033.21,
          43048.58,
          28971.33,
          16352.79,
          35293.69,
          43843.17,
          32553.82,
          29768.96,
          23795.71,
          17968.16,
          15347.34,
          15347.34,
          21978.67,
          13493.23,
          13579.57,
          27202.11,
          21094.1,
          6524.39,
          4369.95,
          17062.62,
          10964.03,
          10982.17,
          23881.78,
          22624.78,
          5893.33,
          7013.49,
          13443.05,
          8964.97,
          16911.84,
          14330.93,
          17918.56,
          14578.25,
          5431.91,
          13839.65,
          18571.95,
          13839.65,
          18571.95,
          13839.65,
          18571.95,
          14130.73,
          19165.28,
          13590.66,
          9595.3,
          9370.38,
          16718.43,
          16718.43,
          14444.5,
          12988.68,
          16526.97,
          20332.58,
          11069.04,
          6513.29,
          20920.41,
          8310.06,
          7074.62,
          5718.66,
          7189.41,
          3262.42,
          5381.02,
          214726.09,
          214726.09,
          123472.85,
          74765.45,
          54568.63,
          48044.4,
          27649.79,
          30592.6,
          72146.51,
          72304.28,
          45484.84,
          64384.51,
          0,
          43672.67,
          26799.37,
          26899.92,
          26899.92,
          44451.57,
          37365.35,
          25937.34,
          25819.13,
          26253.03,
          18138.64,
          22564.17,
          39523.63,
          26380.93,
          18955.15,
          11036.66,
          22947.24,
          22947.24,
          22947.24,
          5621.49,
          6031.8,
          13405.22,
          10555.45,
          7923.42,
          12591.05,
          13335.26,
          3256.45,
          3256.45,
          5638.23,
          20428.93,
          16756.73,
          14936.45,
          24726.17,
          38056.69,
          7157.08,
          8572.61,
          14270.48,
          11122.72,
          11424.98,
          10691.66,
          6857.27,
          2735.43,
          5222.47,
          12077.69,
          12636.5,
          13903.56,
          21013.45,
          8981.32,
          2806.79,
          5102.59,
          16017.47,
          13064.98,
          8535.82,
          6017.73,
          5183.35,
          5108.49,
          3662.21,
          13644.03,
          13644.03,
          7180.09,
          7233.81,
          10595.94,
          17042.25,
          18126.87,
          23475.51,
          42938.02,
          15958.63,
          0,
          15216.13,
          18170.7,
          20517.45,
          6342.49,
          5968.22,
          26827.4,
          15774.77,
          10300.58,
          15499.92,
          14482.26,
          12539.21,
          12539.21,
          6841.4,
          23580.4,
          13947.88,
          17449.46,
          13641.69,
          11885.84,
          4918.95,
          6407.61,
          6407.61,
          11562.75,
          16451.18,
          9614.44,
          10168.32,
          10168.32,
          7890.33,
          4814.44,
          10613.82,
          26959.55,
          34452.8,
          32913.19,
          20066.15,
          12027.18,
          4578.94,
          17259.92,
          17259.92,
          17259.92,
          28754.79,
          23665.37,
          21778.06,
          21520.5,
          26138.35,
          13873.36,
          15680.56,
          41601.2,
          25049.11,
          21873.94,
          13004.08,
          15089.14,
          7411.38,
          11024.78,
          15911.76,
          14014.45,
          23142.65,
          14556.33,
          13014.73,
          5222.61,
          5222.61,
          6899.57,
          17989.35,
          17989.35,
          17989.35,
          22739.78,
          18660.24,
          25011.43,
          40833.9,
          13045.83,
          8217.8,
          29324.93,
          15611.18,
          22616.41,
          25702.93,
          16921.72,
          5354.2,
          11724.1,
          17774.04,
          10076.73,
          8417.69,
          20350.95,
          27348.67,
          12054.23,
          4949.87,
          4949.87,
          4949.87,
          4949.87,
          4949.87,
          25964.27,
          37810.36,
          16739.76,
          23163.93,
          15118.33,
          9238.2,
          13002.42,
          14258.33,
          15102.5,
          22190.97,
          12760.05,
          12760.05,
          22799.5,
          21965.84,
          18161.91,
          35205.45,
          0,
          0,
          0,
          0,
          0,
          34733.47,
          24720.61,
          13639.96,
          26832.49,
          26832.49,
          9129.23,
          7678.68,
          32395.74,
          13329.4,
          13705.89,
          32209.12,
          25634.99,
          37318.24,
          70641.97,
          56330.64,
          50377.07,
          72923.04,
          55851.44,
          44080.28,
          44080.28,
          24173.42,
          23261.46,
          76548.51,
          41996.8,
          36425.82,
          40982.8,
          94402.74,
          67829,
          61567.67,
          138266.26,
          108595.84,
          147183.2,
          246578.68,
          21483.59,
          19478.76,
          8896.11,
          24053.81,
          0,
          0,
          0,
          0,
          0,
          0,
          0,
          0,
          0,
          0,
          0,
          0,
          0,
          0,
          0,
          0,
          0,
          0,
          0,
          0,
          0,
          0
         ],
         "yaxis": "y"
        }
       ],
       "layout": {
        "hovermode": "x unified",
        "legend": {
         "title": {
          "text": "variable"
         },
         "tracegroupgap": 0
        },
        "margin": {
         "t": 60
        },
        "template": {
         "data": {
          "bar": [
           {
            "error_x": {
             "color": "#2a3f5f"
            },
            "error_y": {
             "color": "#2a3f5f"
            },
            "marker": {
             "line": {
              "color": "#E5ECF6",
              "width": 0.5
             },
             "pattern": {
              "fillmode": "overlay",
              "size": 10,
              "solidity": 0.2
             }
            },
            "type": "bar"
           }
          ],
          "barpolar": [
           {
            "marker": {
             "line": {
              "color": "#E5ECF6",
              "width": 0.5
             },
             "pattern": {
              "fillmode": "overlay",
              "size": 10,
              "solidity": 0.2
             }
            },
            "type": "barpolar"
           }
          ],
          "carpet": [
           {
            "aaxis": {
             "endlinecolor": "#2a3f5f",
             "gridcolor": "white",
             "linecolor": "white",
             "minorgridcolor": "white",
             "startlinecolor": "#2a3f5f"
            },
            "baxis": {
             "endlinecolor": "#2a3f5f",
             "gridcolor": "white",
             "linecolor": "white",
             "minorgridcolor": "white",
             "startlinecolor": "#2a3f5f"
            },
            "type": "carpet"
           }
          ],
          "choropleth": [
           {
            "colorbar": {
             "outlinewidth": 0,
             "ticks": ""
            },
            "type": "choropleth"
           }
          ],
          "contour": [
           {
            "colorbar": {
             "outlinewidth": 0,
             "ticks": ""
            },
            "colorscale": [
             [
              0,
              "#0d0887"
             ],
             [
              0.1111111111111111,
              "#46039f"
             ],
             [
              0.2222222222222222,
              "#7201a8"
             ],
             [
              0.3333333333333333,
              "#9c179e"
             ],
             [
              0.4444444444444444,
              "#bd3786"
             ],
             [
              0.5555555555555556,
              "#d8576b"
             ],
             [
              0.6666666666666666,
              "#ed7953"
             ],
             [
              0.7777777777777778,
              "#fb9f3a"
             ],
             [
              0.8888888888888888,
              "#fdca26"
             ],
             [
              1,
              "#f0f921"
             ]
            ],
            "type": "contour"
           }
          ],
          "contourcarpet": [
           {
            "colorbar": {
             "outlinewidth": 0,
             "ticks": ""
            },
            "type": "contourcarpet"
           }
          ],
          "heatmap": [
           {
            "colorbar": {
             "outlinewidth": 0,
             "ticks": ""
            },
            "colorscale": [
             [
              0,
              "#0d0887"
             ],
             [
              0.1111111111111111,
              "#46039f"
             ],
             [
              0.2222222222222222,
              "#7201a8"
             ],
             [
              0.3333333333333333,
              "#9c179e"
             ],
             [
              0.4444444444444444,
              "#bd3786"
             ],
             [
              0.5555555555555556,
              "#d8576b"
             ],
             [
              0.6666666666666666,
              "#ed7953"
             ],
             [
              0.7777777777777778,
              "#fb9f3a"
             ],
             [
              0.8888888888888888,
              "#fdca26"
             ],
             [
              1,
              "#f0f921"
             ]
            ],
            "type": "heatmap"
           }
          ],
          "heatmapgl": [
           {
            "colorbar": {
             "outlinewidth": 0,
             "ticks": ""
            },
            "colorscale": [
             [
              0,
              "#0d0887"
             ],
             [
              0.1111111111111111,
              "#46039f"
             ],
             [
              0.2222222222222222,
              "#7201a8"
             ],
             [
              0.3333333333333333,
              "#9c179e"
             ],
             [
              0.4444444444444444,
              "#bd3786"
             ],
             [
              0.5555555555555556,
              "#d8576b"
             ],
             [
              0.6666666666666666,
              "#ed7953"
             ],
             [
              0.7777777777777778,
              "#fb9f3a"
             ],
             [
              0.8888888888888888,
              "#fdca26"
             ],
             [
              1,
              "#f0f921"
             ]
            ],
            "type": "heatmapgl"
           }
          ],
          "histogram": [
           {
            "marker": {
             "pattern": {
              "fillmode": "overlay",
              "size": 10,
              "solidity": 0.2
             }
            },
            "type": "histogram"
           }
          ],
          "histogram2d": [
           {
            "colorbar": {
             "outlinewidth": 0,
             "ticks": ""
            },
            "colorscale": [
             [
              0,
              "#0d0887"
             ],
             [
              0.1111111111111111,
              "#46039f"
             ],
             [
              0.2222222222222222,
              "#7201a8"
             ],
             [
              0.3333333333333333,
              "#9c179e"
             ],
             [
              0.4444444444444444,
              "#bd3786"
             ],
             [
              0.5555555555555556,
              "#d8576b"
             ],
             [
              0.6666666666666666,
              "#ed7953"
             ],
             [
              0.7777777777777778,
              "#fb9f3a"
             ],
             [
              0.8888888888888888,
              "#fdca26"
             ],
             [
              1,
              "#f0f921"
             ]
            ],
            "type": "histogram2d"
           }
          ],
          "histogram2dcontour": [
           {
            "colorbar": {
             "outlinewidth": 0,
             "ticks": ""
            },
            "colorscale": [
             [
              0,
              "#0d0887"
             ],
             [
              0.1111111111111111,
              "#46039f"
             ],
             [
              0.2222222222222222,
              "#7201a8"
             ],
             [
              0.3333333333333333,
              "#9c179e"
             ],
             [
              0.4444444444444444,
              "#bd3786"
             ],
             [
              0.5555555555555556,
              "#d8576b"
             ],
             [
              0.6666666666666666,
              "#ed7953"
             ],
             [
              0.7777777777777778,
              "#fb9f3a"
             ],
             [
              0.8888888888888888,
              "#fdca26"
             ],
             [
              1,
              "#f0f921"
             ]
            ],
            "type": "histogram2dcontour"
           }
          ],
          "mesh3d": [
           {
            "colorbar": {
             "outlinewidth": 0,
             "ticks": ""
            },
            "type": "mesh3d"
           }
          ],
          "parcoords": [
           {
            "line": {
             "colorbar": {
              "outlinewidth": 0,
              "ticks": ""
             }
            },
            "type": "parcoords"
           }
          ],
          "pie": [
           {
            "automargin": true,
            "type": "pie"
           }
          ],
          "scatter": [
           {
            "fillpattern": {
             "fillmode": "overlay",
             "size": 10,
             "solidity": 0.2
            },
            "type": "scatter"
           }
          ],
          "scatter3d": [
           {
            "line": {
             "colorbar": {
              "outlinewidth": 0,
              "ticks": ""
             }
            },
            "marker": {
             "colorbar": {
              "outlinewidth": 0,
              "ticks": ""
             }
            },
            "type": "scatter3d"
           }
          ],
          "scattercarpet": [
           {
            "marker": {
             "colorbar": {
              "outlinewidth": 0,
              "ticks": ""
             }
            },
            "type": "scattercarpet"
           }
          ],
          "scattergeo": [
           {
            "marker": {
             "colorbar": {
              "outlinewidth": 0,
              "ticks": ""
             }
            },
            "type": "scattergeo"
           }
          ],
          "scattergl": [
           {
            "marker": {
             "colorbar": {
              "outlinewidth": 0,
              "ticks": ""
             }
            },
            "type": "scattergl"
           }
          ],
          "scattermapbox": [
           {
            "marker": {
             "colorbar": {
              "outlinewidth": 0,
              "ticks": ""
             }
            },
            "type": "scattermapbox"
           }
          ],
          "scatterpolar": [
           {
            "marker": {
             "colorbar": {
              "outlinewidth": 0,
              "ticks": ""
             }
            },
            "type": "scatterpolar"
           }
          ],
          "scatterpolargl": [
           {
            "marker": {
             "colorbar": {
              "outlinewidth": 0,
              "ticks": ""
             }
            },
            "type": "scatterpolargl"
           }
          ],
          "scatterternary": [
           {
            "marker": {
             "colorbar": {
              "outlinewidth": 0,
              "ticks": ""
             }
            },
            "type": "scatterternary"
           }
          ],
          "surface": [
           {
            "colorbar": {
             "outlinewidth": 0,
             "ticks": ""
            },
            "colorscale": [
             [
              0,
              "#0d0887"
             ],
             [
              0.1111111111111111,
              "#46039f"
             ],
             [
              0.2222222222222222,
              "#7201a8"
             ],
             [
              0.3333333333333333,
              "#9c179e"
             ],
             [
              0.4444444444444444,
              "#bd3786"
             ],
             [
              0.5555555555555556,
              "#d8576b"
             ],
             [
              0.6666666666666666,
              "#ed7953"
             ],
             [
              0.7777777777777778,
              "#fb9f3a"
             ],
             [
              0.8888888888888888,
              "#fdca26"
             ],
             [
              1,
              "#f0f921"
             ]
            ],
            "type": "surface"
           }
          ],
          "table": [
           {
            "cells": {
             "fill": {
              "color": "#EBF0F8"
             },
             "line": {
              "color": "white"
             }
            },
            "header": {
             "fill": {
              "color": "#C8D4E3"
             },
             "line": {
              "color": "white"
             }
            },
            "type": "table"
           }
          ]
         },
         "layout": {
          "annotationdefaults": {
           "arrowcolor": "#2a3f5f",
           "arrowhead": 0,
           "arrowwidth": 1
          },
          "autotypenumbers": "strict",
          "coloraxis": {
           "colorbar": {
            "outlinewidth": 0,
            "ticks": ""
           }
          },
          "colorscale": {
           "diverging": [
            [
             0,
             "#8e0152"
            ],
            [
             0.1,
             "#c51b7d"
            ],
            [
             0.2,
             "#de77ae"
            ],
            [
             0.3,
             "#f1b6da"
            ],
            [
             0.4,
             "#fde0ef"
            ],
            [
             0.5,
             "#f7f7f7"
            ],
            [
             0.6,
             "#e6f5d0"
            ],
            [
             0.7,
             "#b8e186"
            ],
            [
             0.8,
             "#7fbc41"
            ],
            [
             0.9,
             "#4d9221"
            ],
            [
             1,
             "#276419"
            ]
           ],
           "sequential": [
            [
             0,
             "#0d0887"
            ],
            [
             0.1111111111111111,
             "#46039f"
            ],
            [
             0.2222222222222222,
             "#7201a8"
            ],
            [
             0.3333333333333333,
             "#9c179e"
            ],
            [
             0.4444444444444444,
             "#bd3786"
            ],
            [
             0.5555555555555556,
             "#d8576b"
            ],
            [
             0.6666666666666666,
             "#ed7953"
            ],
            [
             0.7777777777777778,
             "#fb9f3a"
            ],
            [
             0.8888888888888888,
             "#fdca26"
            ],
            [
             1,
             "#f0f921"
            ]
           ],
           "sequentialminus": [
            [
             0,
             "#0d0887"
            ],
            [
             0.1111111111111111,
             "#46039f"
            ],
            [
             0.2222222222222222,
             "#7201a8"
            ],
            [
             0.3333333333333333,
             "#9c179e"
            ],
            [
             0.4444444444444444,
             "#bd3786"
            ],
            [
             0.5555555555555556,
             "#d8576b"
            ],
            [
             0.6666666666666666,
             "#ed7953"
            ],
            [
             0.7777777777777778,
             "#fb9f3a"
            ],
            [
             0.8888888888888888,
             "#fdca26"
            ],
            [
             1,
             "#f0f921"
            ]
           ]
          },
          "colorway": [
           "#636efa",
           "#EF553B",
           "#00cc96",
           "#ab63fa",
           "#FFA15A",
           "#19d3f3",
           "#FF6692",
           "#B6E880",
           "#FF97FF",
           "#FECB52"
          ],
          "font": {
           "color": "#2a3f5f"
          },
          "geo": {
           "bgcolor": "white",
           "lakecolor": "white",
           "landcolor": "#E5ECF6",
           "showlakes": true,
           "showland": true,
           "subunitcolor": "white"
          },
          "hoverlabel": {
           "align": "left"
          },
          "hovermode": "closest",
          "mapbox": {
           "style": "light"
          },
          "paper_bgcolor": "white",
          "plot_bgcolor": "#E5ECF6",
          "polar": {
           "angularaxis": {
            "gridcolor": "white",
            "linecolor": "white",
            "ticks": ""
           },
           "bgcolor": "#E5ECF6",
           "radialaxis": {
            "gridcolor": "white",
            "linecolor": "white",
            "ticks": ""
           }
          },
          "scene": {
           "xaxis": {
            "backgroundcolor": "#E5ECF6",
            "gridcolor": "white",
            "gridwidth": 2,
            "linecolor": "white",
            "showbackground": true,
            "ticks": "",
            "zerolinecolor": "white"
           },
           "yaxis": {
            "backgroundcolor": "#E5ECF6",
            "gridcolor": "white",
            "gridwidth": 2,
            "linecolor": "white",
            "showbackground": true,
            "ticks": "",
            "zerolinecolor": "white"
           },
           "zaxis": {
            "backgroundcolor": "#E5ECF6",
            "gridcolor": "white",
            "gridwidth": 2,
            "linecolor": "white",
            "showbackground": true,
            "ticks": "",
            "zerolinecolor": "white"
           }
          },
          "shapedefaults": {
           "line": {
            "color": "#2a3f5f"
           }
          },
          "ternary": {
           "aaxis": {
            "gridcolor": "white",
            "linecolor": "white",
            "ticks": ""
           },
           "baxis": {
            "gridcolor": "white",
            "linecolor": "white",
            "ticks": ""
           },
           "bgcolor": "#E5ECF6",
           "caxis": {
            "gridcolor": "white",
            "linecolor": "white",
            "ticks": ""
           }
          },
          "title": {
           "x": 0.05
          },
          "xaxis": {
           "automargin": true,
           "gridcolor": "white",
           "linecolor": "white",
           "ticks": "",
           "title": {
            "standoff": 15
           },
           "zerolinecolor": "white",
           "zerolinewidth": 2
          },
          "yaxis": {
           "automargin": true,
           "gridcolor": "white",
           "linecolor": "white",
           "ticks": "",
           "title": {
            "standoff": 15
           },
           "zerolinecolor": "white",
           "zerolinewidth": 2
          }
         }
        },
        "xaxis": {
         "anchor": "y",
         "domain": [
          0,
          1
         ],
         "title": {
          "text": "Date"
         }
        },
        "yaxis": {
         "anchor": "x",
         "domain": [
          0,
          1
         ],
         "title": {
          "text": "Amount in USD"
         }
        }
       }
      },
      "text/html": [
       "<div>                            <div id=\"2f2f52f1-c336-45ae-a149-e619c20c791f\" class=\"plotly-graph-div\" style=\"height:525px; width:100%;\"></div>            <script type=\"text/javascript\">                require([\"plotly\"], function(Plotly) {                    window.PLOTLYENV=window.PLOTLYENV || {};                                    if (document.getElementById(\"2f2f52f1-c336-45ae-a149-e619c20c791f\")) {                    Plotly.newPlot(                        \"2f2f52f1-c336-45ae-a149-e619c20c791f\",                        [{\"hovertemplate\":\"variable=cost<br>date=%{x}<br>value=%{y}<extra></extra>\",\"legendgroup\":\"cost\",\"line\":{\"color\":\"#636efa\",\"dash\":\"solid\"},\"marker\":{\"symbol\":\"circle\"},\"mode\":\"lines\",\"name\":\"cost\",\"orientation\":\"v\",\"showlegend\":true,\"x\":[\"2010-01-01T00:00:00\",\"2010-01-02T00:00:00\",\"2010-01-03T00:00:00\",\"2010-01-04T00:00:00\",\"2010-01-05T00:00:00\",\"2010-01-06T00:00:00\",\"2010-01-07T00:00:00\",\"2010-01-08T00:00:00\",\"2010-01-09T00:00:00\",\"2010-01-10T00:00:00\",\"2010-01-11T00:00:00\",\"2010-01-12T00:00:00\",\"2010-01-13T00:00:00\",\"2010-01-14T00:00:00\",\"2010-01-15T00:00:00\",\"2010-01-16T00:00:00\",\"2010-01-17T00:00:00\",\"2010-01-18T00:00:00\",\"2010-01-19T00:00:00\",\"2010-01-20T00:00:00\",\"2010-01-21T00:00:00\",\"2010-01-22T00:00:00\",\"2010-01-23T00:00:00\",\"2010-01-24T00:00:00\",\"2010-01-25T00:00:00\",\"2010-01-26T00:00:00\",\"2010-01-27T00:00:00\",\"2010-01-28T00:00:00\",\"2010-01-28T00:00:00\",\"2010-01-29T00:00:00\",\"2010-01-30T00:00:00\",\"2010-01-31T00:00:00\",\"2010-02-01T00:00:00\",\"2010-02-02T00:00:00\",\"2010-02-03T00:00:00\",\"2010-02-04T00:00:00\",\"2010-02-05T00:00:00\",\"2010-02-06T00:00:00\",\"2010-02-07T00:00:00\",\"2010-02-08T00:00:00\",\"2010-02-09T00:00:00\",\"2010-02-10T00:00:00\",\"2010-02-11T00:00:00\",\"2010-02-11T00:00:00\",\"2010-02-12T00:00:00\",\"2010-02-13T00:00:00\",\"2010-02-14T00:00:00\",\"2010-02-15T00:00:00\",\"2010-02-16T00:00:00\",\"2010-02-17T00:00:00\",\"2010-02-18T00:00:00\",\"2010-02-19T00:00:00\",\"2010-02-19T00:00:00\",\"2010-02-19T00:00:00\",\"2010-02-20T00:00:00\",\"2010-02-21T00:00:00\",\"2010-02-22T00:00:00\",\"2010-02-23T00:00:00\",\"2010-02-24T00:00:00\",\"2010-02-25T00:00:00\",\"2010-02-26T00:00:00\",\"2010-02-27T00:00:00\",\"2010-02-28T00:00:00\",\"2010-03-01T00:00:00\",\"2010-03-02T00:00:00\",\"2010-03-03T00:00:00\",\"2010-03-03T00:00:00\",\"2010-03-04T00:00:00\",\"2010-03-05T00:00:00\",\"2010-03-06T00:00:00\",\"2010-03-07T00:00:00\",\"2010-03-08T00:00:00\",\"2010-03-09T00:00:00\",\"2010-03-10T00:00:00\",\"2010-03-11T00:00:00\",\"2010-03-12T00:00:00\",\"2010-03-13T00:00:00\",\"2010-03-14T00:00:00\",\"2010-03-15T00:00:00\",\"2010-03-16T00:00:00\",\"2010-03-16T00:00:00\",\"2010-03-17T00:00:00\",\"2010-03-18T00:00:00\",\"2010-03-19T00:00:00\",\"2010-03-20T00:00:00\",\"2010-03-21T00:00:00\",\"2010-03-22T00:00:00\",\"2010-03-22T00:00:00\",\"2010-03-22T00:00:00\",\"2010-03-23T00:00:00\",\"2010-03-24T00:00:00\",\"2010-03-25T00:00:00\",\"2010-03-26T00:00:00\",\"2010-03-27T00:00:00\",\"2010-03-28T00:00:00\",\"2010-03-29T00:00:00\",\"2010-03-30T00:00:00\",\"2010-03-31T00:00:00\",\"2010-04-01T00:00:00\",\"2010-04-02T00:00:00\",\"2010-04-03T00:00:00\",\"2010-04-04T00:00:00\",\"2010-04-05T00:00:00\",\"2010-04-06T00:00:00\",\"2010-04-07T00:00:00\",\"2010-04-08T00:00:00\",\"2010-04-08T00:00:00\",\"2010-04-09T00:00:00\",\"2010-04-10T00:00:00\",\"2010-04-11T00:00:00\",\"2010-04-12T00:00:00\",\"2010-04-13T00:00:00\",\"2010-04-14T00:00:00\",\"2010-04-15T00:00:00\",\"2010-04-16T00:00:00\",\"2010-04-17T00:00:00\",\"2010-04-18T00:00:00\",\"2010-04-19T00:00:00\",\"2010-04-20T00:00:00\",\"2010-04-21T00:00:00\",\"2010-04-22T00:00:00\",\"2010-04-23T00:00:00\",\"2010-04-24T00:00:00\",\"2010-04-25T00:00:00\",\"2010-04-26T00:00:00\",\"2010-04-27T00:00:00\",\"2010-04-28T00:00:00\",\"2010-04-29T00:00:00\",\"2010-04-30T00:00:00\",\"2010-04-30T00:00:00\",\"2010-04-30T00:00:00\",\"2010-04-30T00:00:00\",\"2010-04-30T00:00:00\",\"2010-04-30T00:00:00\",\"2010-05-01T00:00:00\",\"2010-05-02T00:00:00\",\"2010-05-03T00:00:00\",\"2010-05-04T00:00:00\",\"2010-05-05T00:00:00\",\"2010-05-06T00:00:00\",\"2010-05-06T00:00:00\",\"2010-05-07T00:00:00\",\"2010-05-08T00:00:00\",\"2010-05-09T00:00:00\",\"2010-05-10T00:00:00\",\"2010-05-11T00:00:00\",\"2010-05-12T00:00:00\",\"2010-05-13T00:00:00\",\"2010-05-14T00:00:00\",\"2010-05-15T00:00:00\",\"2010-05-16T00:00:00\",\"2010-05-17T00:00:00\",\"2010-05-18T00:00:00\",\"2010-05-19T00:00:00\",\"2010-05-20T00:00:00\",\"2010-05-20T00:00:00\",\"2010-05-21T00:00:00\",\"2010-05-22T00:00:00\",\"2010-05-23T00:00:00\",\"2010-05-24T00:00:00\",\"2010-05-25T00:00:00\",\"2010-05-26T00:00:00\",\"2010-05-27T00:00:00\",\"2010-05-28T00:00:00\",\"2010-05-29T00:00:00\",\"2010-05-30T00:00:00\",\"2010-05-31T00:00:00\",\"2010-06-01T00:00:00\",\"2010-06-02T00:00:00\",\"2010-06-03T00:00:00\",\"2010-06-03T00:00:00\",\"2010-06-04T00:00:00\",\"2010-06-05T00:00:00\",\"2010-06-06T00:00:00\",\"2010-06-07T00:00:00\",\"2010-06-08T00:00:00\",\"2010-06-09T00:00:00\",\"2010-06-10T00:00:00\",\"2010-06-11T00:00:00\",\"2010-06-12T00:00:00\",\"2010-06-13T00:00:00\",\"2010-06-14T00:00:00\",\"2010-06-15T00:00:00\",\"2010-06-15T00:00:00\",\"2010-06-15T00:00:00\",\"2010-06-16T00:00:00\",\"2010-06-17T00:00:00\",\"2010-06-18T00:00:00\",\"2010-06-19T00:00:00\",\"2010-06-20T00:00:00\",\"2010-06-21T00:00:00\",\"2010-06-22T00:00:00\",\"2010-06-23T00:00:00\",\"2010-06-23T00:00:00\",\"2010-06-24T00:00:00\",\"2010-06-25T00:00:00\",\"2010-06-26T00:00:00\",\"2010-06-27T00:00:00\",\"2010-06-28T00:00:00\",\"2010-06-29T00:00:00\",\"2010-06-30T00:00:00\",\"2010-06-30T00:00:00\",\"2010-07-01T00:00:00\",\"2010-07-02T00:00:00\",\"2010-07-03T00:00:00\",\"2010-07-04T00:00:00\",\"2010-07-05T00:00:00\",\"2010-07-06T00:00:00\",\"2010-07-07T00:00:00\",\"2010-07-08T00:00:00\",\"2010-07-09T00:00:00\",\"2010-07-10T00:00:00\",\"2010-07-11T00:00:00\",\"2010-07-12T00:00:00\",\"2010-07-13T00:00:00\",\"2010-07-14T00:00:00\",\"2010-07-15T00:00:00\",\"2010-07-16T00:00:00\",\"2010-07-17T00:00:00\",\"2010-07-18T00:00:00\",\"2010-07-19T00:00:00\",\"2010-07-20T00:00:00\",\"2010-07-21T00:00:00\",\"2010-07-22T00:00:00\",\"2010-07-22T00:00:00\",\"2010-07-23T00:00:00\",\"2010-07-24T00:00:00\",\"2010-07-25T00:00:00\",\"2010-07-26T00:00:00\",\"2010-07-27T00:00:00\",\"2010-07-28T00:00:00\",\"2010-07-29T00:00:00\",\"2010-07-30T00:00:00\",\"2010-07-31T00:00:00\",\"2010-08-01T00:00:00\",\"2010-08-02T00:00:00\",\"2010-08-03T00:00:00\",\"2010-08-04T00:00:00\",\"2010-08-05T00:00:00\",\"2010-08-06T00:00:00\",\"2010-08-07T00:00:00\",\"2010-08-08T00:00:00\",\"2010-08-09T00:00:00\",\"2010-08-10T00:00:00\",\"2010-08-11T00:00:00\",\"2010-08-11T00:00:00\",\"2010-08-12T00:00:00\",\"2010-08-13T00:00:00\",\"2010-08-14T00:00:00\",\"2010-08-15T00:00:00\",\"2010-08-16T00:00:00\",\"2010-08-17T00:00:00\",\"2010-08-18T00:00:00\",\"2010-08-19T00:00:00\",\"2010-08-19T00:00:00\",\"2010-08-20T00:00:00\",\"2010-08-21T00:00:00\",\"2010-08-22T00:00:00\",\"2010-08-23T00:00:00\",\"2010-08-23T00:00:00\",\"2010-08-24T00:00:00\",\"2010-08-25T00:00:00\",\"2010-08-26T00:00:00\",\"2010-08-27T00:00:00\",\"2010-08-28T00:00:00\",\"2010-08-29T00:00:00\",\"2010-08-30T00:00:00\",\"2010-08-31T00:00:00\",\"2010-09-01T00:00:00\",\"2010-09-02T00:00:00\",\"2010-09-02T00:00:00\",\"2010-09-02T00:00:00\",\"2010-09-03T00:00:00\",\"2010-09-04T00:00:00\",\"2010-09-05T00:00:00\",\"2010-09-06T00:00:00\",\"2010-09-07T00:00:00\",\"2010-09-08T00:00:00\",\"2010-09-09T00:00:00\",\"2010-09-10T00:00:00\",\"2010-09-11T00:00:00\",\"2010-09-12T00:00:00\",\"2010-09-13T00:00:00\",\"2010-09-14T00:00:00\",\"2010-09-15T00:00:00\",\"2010-09-16T00:00:00\",\"2010-09-17T00:00:00\",\"2010-09-18T00:00:00\",\"2010-09-19T00:00:00\",\"2010-09-20T00:00:00\",\"2010-09-21T00:00:00\",\"2010-09-22T00:00:00\",\"2010-09-22T00:00:00\",\"2010-09-23T00:00:00\",\"2010-09-24T00:00:00\",\"2010-09-24T00:00:00\",\"2010-09-24T00:00:00\",\"2010-09-25T00:00:00\",\"2010-09-26T00:00:00\",\"2010-09-27T00:00:00\",\"2010-09-28T00:00:00\",\"2010-09-29T00:00:00\",\"2010-09-30T00:00:00\",\"2010-09-30T00:00:00\",\"2010-10-01T00:00:00\",\"2010-10-02T00:00:00\",\"2010-10-03T00:00:00\",\"2010-10-04T00:00:00\",\"2010-10-05T00:00:00\",\"2010-10-06T00:00:00\",\"2010-10-07T00:00:00\",\"2010-10-08T00:00:00\",\"2010-10-09T00:00:00\",\"2010-10-10T00:00:00\",\"2010-10-11T00:00:00\",\"2010-10-12T00:00:00\",\"2010-10-13T00:00:00\",\"2010-10-13T00:00:00\",\"2010-10-13T00:00:00\",\"2010-10-13T00:00:00\",\"2010-10-13T00:00:00\",\"2010-10-14T00:00:00\",\"2010-10-15T00:00:00\",\"2010-10-16T00:00:00\",\"2010-10-17T00:00:00\",\"2010-10-18T00:00:00\",\"2010-10-19T00:00:00\",\"2010-10-20T00:00:00\",\"2010-10-21T00:00:00\",\"2010-10-22T00:00:00\",\"2010-10-23T00:00:00\",\"2010-10-24T00:00:00\",\"2010-10-24T00:00:00\",\"2010-10-25T00:00:00\",\"2010-10-26T00:00:00\",\"2010-10-27T00:00:00\",\"2010-10-28T00:00:00\",\"2010-10-29T00:00:00\",\"2010-10-30T00:00:00\",\"2010-10-31T00:00:00\",\"2010-10-31T00:00:00\",\"2010-10-31T00:00:00\",\"2010-11-01T00:00:00\",\"2010-11-02T00:00:00\",\"2010-11-03T00:00:00\",\"2010-11-04T00:00:00\",\"2010-11-04T00:00:00\",\"2010-11-05T00:00:00\",\"2010-11-06T00:00:00\",\"2010-11-07T00:00:00\",\"2010-11-08T00:00:00\",\"2010-11-09T00:00:00\",\"2010-11-10T00:00:00\",\"2010-11-11T00:00:00\",\"2010-11-12T00:00:00\",\"2010-11-13T00:00:00\",\"2010-11-14T00:00:00\",\"2010-11-15T00:00:00\",\"2010-11-16T00:00:00\",\"2010-11-17T00:00:00\",\"2010-11-18T00:00:00\",\"2010-11-18T00:00:00\",\"2010-11-19T00:00:00\",\"2010-11-20T00:00:00\",\"2010-11-21T00:00:00\",\"2010-11-22T00:00:00\",\"2010-11-23T00:00:00\",\"2010-11-24T00:00:00\",\"2010-11-25T00:00:00\",\"2010-11-26T00:00:00\",\"2010-11-27T00:00:00\",\"2010-11-28T00:00:00\",\"2010-11-29T00:00:00\",\"2010-11-30T00:00:00\",\"2010-11-30T00:00:00\",\"2010-12-01T00:00:00\",\"2010-12-02T00:00:00\",\"2010-12-03T00:00:00\",\"2010-12-04T00:00:00\",\"2010-12-05T00:00:00\",\"2010-12-06T00:00:00\",\"2010-12-07T00:00:00\",\"2010-12-08T00:00:00\",\"2010-12-09T00:00:00\",\"2010-12-10T00:00:00\",\"2010-12-11T00:00:00\",\"2010-12-12T00:00:00\",\"2010-12-13T00:00:00\",\"2010-12-14T00:00:00\",\"2010-12-15T00:00:00\",\"2010-12-16T00:00:00\",\"2010-12-17T00:00:00\",\"2010-12-18T00:00:00\",\"2010-12-19T00:00:00\",\"2010-12-20T00:00:00\",\"2010-12-21T00:00:00\",\"2010-12-22T00:00:00\",\"2010-12-23T00:00:00\",\"2010-12-23T00:00:00\",\"2010-12-24T00:00:00\",\"2010-12-25T00:00:00\"],\"xaxis\":\"x\",\"y\":[311.84,0.0,0.0,0.0,0.0,0.0,0.0,0.0,72.76,0.0,0.0,0.0,0.0,0.0,0.0,0.0,0.0,0.0,0.0,0.0,0.0,0.0,0.0,0.0,0.0,0.0,0.0,15592.05,6236.82,0.0,0.0,0.0,0.0,0.0,0.0,0.0,4959.93,0.0,428.65,0.0,0.0,0.0,128.59,300.05,0.0,0.0,0.0,0.0,0.0,0.0,0.0,490.42,20789.4,14828.23,0.0,106.61,0.0,0.0,0.0,20789.4,0.0,0.0,0.0,0.0,831.58,533.06,1871.05,20082.56,0.0,0.0,0.0,1024.8,1247.36,15592.05,0.0,0.0,0.0,41795.24,0.0,1197.47,1871.05,0.0,0.0,0.0,0.0,0.0,93552.28,7138.52,20789.4,0.0,2078.94,0.0,0.0,0.0,0.0,0.0,155.92,0.0,1322.87,0.0,0.0,0.0,0.0,0.0,0.0,103.95,10690.96,0.0,0.0,0.0,0.0,0.0,0.0,0.0,43078.46,0.0,0.0,575.71,0.0,0.0,22847.55,0.0,0.0,0.0,0.0,1871.05,5332.48,0.0,410.4,410.4,20789.4,20789.4,1279.35,1279.35,0.0,0.0,3072.85,0.0,0.0,93552.28,43657.73,0.0,0.0,0.0,415.79,0.0,0.0,2443.38,0.0,0.0,0.0,0.0,0.0,0.0,4157.88,44315.63,0.0,0.0,0.0,0.0,0.0,0.0,1871.05,0.0,0.0,0.0,0.0,0.0,21828.87,2909.31,3742.09,0.0,0.0,0.0,0.0,0.0,0.0,0.0,0.0,0.0,0.0,0.0,38838.02,583.14,43386.52,0.0,0.0,0.0,0.0,0.0,0.0,0.0,1217.71,32743.3,0.0,0.0,0.0,0.0,0.0,0.0,21793.0,21793.0,21793.0,0.0,0.0,0.0,0.0,0.0,0.0,0.0,0.0,0.0,0.0,36163.15,0.0,0.0,0.0,0.0,0.0,0.0,0.0,0.0,0.0,21793.0,43486.81,0.0,0.0,0.0,1767.1,0.0,0.0,19625.19,0.0,0.0,0.0,0.0,0.0,100342.72,0.0,0.0,0.0,0.0,0.0,0.0,38917.75,1871.05,0.0,0.0,0.0,0.0,4789.67,1299.34,0.0,277.63,1871.05,0.0,0.0,0.0,259.87,2078.94,0.0,249.47,124.74,0.0,0.0,0.0,1808.68,0.0,0.0,17183.78,3118.41,38460.38,51973.49,0.0,0.0,0.0,0.0,0.0,2307.62,0.0,0.0,0.0,0.0,0.0,35783.45,0.0,0.0,0.0,0.0,0.0,0.0,122.87,42704.8,0.0,41578.79,1767.1,36381.44,0.0,0.0,0.0,0.0,0.0,1715.13,1715.13,0.0,0.0,0.0,0.0,0.0,353.42,0.0,0.0,0.0,0.0,0.0,10394.7,386.09,664.07,207.89,8359.42,40680.74,7421.81,0.0,0.0,0.0,0.0,481.97,0.0,0.0,0.0,0.0,16637.75,38460.38,0.0,0.0,0.0,0.0,0.0,0.0,113027.44,8658.78,16631.52,0.0,9022.6,0.0,3035.25,1205.78,0.0,0.0,16631.52,0.0,0.0,0.0,0.0,0.0,0.0,0.0,0.0,1767.1,0.0,18710.46,308.29,0.0,0.0,0.0,0.0,5515.55,0.0,0.0,0.0,0.0,0.0,0.0,0.0,0.0,0.0,0.0,0.0,31184.09,0.0,0.0,0.0,0.0,0.0,0.0,9355.23,0.0,0.0,59927.51,0.0,0.0,0.0,9355.23,0.0,0.0,0.0,0.0,3462.5,117.56,0.0,9355.23],\"yaxis\":\"y\",\"type\":\"scatter\"},{\"hovertemplate\":\"variable=revenue<br>date=%{x}<br>value=%{y}<extra></extra>\",\"legendgroup\":\"revenue\",\"line\":{\"color\":\"#EF553B\",\"dash\":\"solid\"},\"marker\":{\"symbol\":\"circle\"},\"mode\":\"lines\",\"name\":\"revenue\",\"orientation\":\"v\",\"showlegend\":true,\"x\":[\"2010-01-01T00:00:00\",\"2010-01-02T00:00:00\",\"2010-01-03T00:00:00\",\"2010-01-04T00:00:00\",\"2010-01-05T00:00:00\",\"2010-01-06T00:00:00\",\"2010-01-07T00:00:00\",\"2010-01-08T00:00:00\",\"2010-01-09T00:00:00\",\"2010-01-10T00:00:00\",\"2010-01-11T00:00:00\",\"2010-01-12T00:00:00\",\"2010-01-13T00:00:00\",\"2010-01-14T00:00:00\",\"2010-01-15T00:00:00\",\"2010-01-16T00:00:00\",\"2010-01-17T00:00:00\",\"2010-01-18T00:00:00\",\"2010-01-19T00:00:00\",\"2010-01-20T00:00:00\",\"2010-01-21T00:00:00\",\"2010-01-22T00:00:00\",\"2010-01-23T00:00:00\",\"2010-01-24T00:00:00\",\"2010-01-25T00:00:00\",\"2010-01-26T00:00:00\",\"2010-01-27T00:00:00\",\"2010-01-28T00:00:00\",\"2010-01-28T00:00:00\",\"2010-01-29T00:00:00\",\"2010-01-30T00:00:00\",\"2010-01-31T00:00:00\",\"2010-02-01T00:00:00\",\"2010-02-02T00:00:00\",\"2010-02-03T00:00:00\",\"2010-02-04T00:00:00\",\"2010-02-05T00:00:00\",\"2010-02-06T00:00:00\",\"2010-02-07T00:00:00\",\"2010-02-08T00:00:00\",\"2010-02-09T00:00:00\",\"2010-02-10T00:00:00\",\"2010-02-11T00:00:00\",\"2010-02-11T00:00:00\",\"2010-02-12T00:00:00\",\"2010-02-13T00:00:00\",\"2010-02-14T00:00:00\",\"2010-02-15T00:00:00\",\"2010-02-16T00:00:00\",\"2010-02-17T00:00:00\",\"2010-02-18T00:00:00\",\"2010-02-19T00:00:00\",\"2010-02-19T00:00:00\",\"2010-02-19T00:00:00\",\"2010-02-20T00:00:00\",\"2010-02-21T00:00:00\",\"2010-02-22T00:00:00\",\"2010-02-23T00:00:00\",\"2010-02-24T00:00:00\",\"2010-02-25T00:00:00\",\"2010-02-26T00:00:00\",\"2010-02-27T00:00:00\",\"2010-02-28T00:00:00\",\"2010-03-01T00:00:00\",\"2010-03-02T00:00:00\",\"2010-03-03T00:00:00\",\"2010-03-03T00:00:00\",\"2010-03-04T00:00:00\",\"2010-03-05T00:00:00\",\"2010-03-06T00:00:00\",\"2010-03-07T00:00:00\",\"2010-03-08T00:00:00\",\"2010-03-09T00:00:00\",\"2010-03-10T00:00:00\",\"2010-03-11T00:00:00\",\"2010-03-12T00:00:00\",\"2010-03-13T00:00:00\",\"2010-03-14T00:00:00\",\"2010-03-15T00:00:00\",\"2010-03-16T00:00:00\",\"2010-03-16T00:00:00\",\"2010-03-17T00:00:00\",\"2010-03-18T00:00:00\",\"2010-03-19T00:00:00\",\"2010-03-20T00:00:00\",\"2010-03-21T00:00:00\",\"2010-03-22T00:00:00\",\"2010-03-22T00:00:00\",\"2010-03-22T00:00:00\",\"2010-03-23T00:00:00\",\"2010-03-24T00:00:00\",\"2010-03-25T00:00:00\",\"2010-03-26T00:00:00\",\"2010-03-27T00:00:00\",\"2010-03-28T00:00:00\",\"2010-03-29T00:00:00\",\"2010-03-30T00:00:00\",\"2010-03-31T00:00:00\",\"2010-04-01T00:00:00\",\"2010-04-02T00:00:00\",\"2010-04-03T00:00:00\",\"2010-04-04T00:00:00\",\"2010-04-05T00:00:00\",\"2010-04-06T00:00:00\",\"2010-04-07T00:00:00\",\"2010-04-08T00:00:00\",\"2010-04-08T00:00:00\",\"2010-04-09T00:00:00\",\"2010-04-10T00:00:00\",\"2010-04-11T00:00:00\",\"2010-04-12T00:00:00\",\"2010-04-13T00:00:00\",\"2010-04-14T00:00:00\",\"2010-04-15T00:00:00\",\"2010-04-16T00:00:00\",\"2010-04-17T00:00:00\",\"2010-04-18T00:00:00\",\"2010-04-19T00:00:00\",\"2010-04-20T00:00:00\",\"2010-04-21T00:00:00\",\"2010-04-22T00:00:00\",\"2010-04-23T00:00:00\",\"2010-04-24T00:00:00\",\"2010-04-25T00:00:00\",\"2010-04-26T00:00:00\",\"2010-04-27T00:00:00\",\"2010-04-28T00:00:00\",\"2010-04-29T00:00:00\",\"2010-04-30T00:00:00\",\"2010-04-30T00:00:00\",\"2010-04-30T00:00:00\",\"2010-04-30T00:00:00\",\"2010-04-30T00:00:00\",\"2010-04-30T00:00:00\",\"2010-05-01T00:00:00\",\"2010-05-02T00:00:00\",\"2010-05-03T00:00:00\",\"2010-05-04T00:00:00\",\"2010-05-05T00:00:00\",\"2010-05-06T00:00:00\",\"2010-05-06T00:00:00\",\"2010-05-07T00:00:00\",\"2010-05-08T00:00:00\",\"2010-05-09T00:00:00\",\"2010-05-10T00:00:00\",\"2010-05-11T00:00:00\",\"2010-05-12T00:00:00\",\"2010-05-13T00:00:00\",\"2010-05-14T00:00:00\",\"2010-05-15T00:00:00\",\"2010-05-16T00:00:00\",\"2010-05-17T00:00:00\",\"2010-05-18T00:00:00\",\"2010-05-19T00:00:00\",\"2010-05-20T00:00:00\",\"2010-05-20T00:00:00\",\"2010-05-21T00:00:00\",\"2010-05-22T00:00:00\",\"2010-05-23T00:00:00\",\"2010-05-24T00:00:00\",\"2010-05-25T00:00:00\",\"2010-05-26T00:00:00\",\"2010-05-27T00:00:00\",\"2010-05-28T00:00:00\",\"2010-05-29T00:00:00\",\"2010-05-30T00:00:00\",\"2010-05-31T00:00:00\",\"2010-06-01T00:00:00\",\"2010-06-02T00:00:00\",\"2010-06-03T00:00:00\",\"2010-06-03T00:00:00\",\"2010-06-04T00:00:00\",\"2010-06-05T00:00:00\",\"2010-06-06T00:00:00\",\"2010-06-07T00:00:00\",\"2010-06-08T00:00:00\",\"2010-06-09T00:00:00\",\"2010-06-10T00:00:00\",\"2010-06-11T00:00:00\",\"2010-06-12T00:00:00\",\"2010-06-13T00:00:00\",\"2010-06-14T00:00:00\",\"2010-06-15T00:00:00\",\"2010-06-15T00:00:00\",\"2010-06-15T00:00:00\",\"2010-06-16T00:00:00\",\"2010-06-17T00:00:00\",\"2010-06-18T00:00:00\",\"2010-06-19T00:00:00\",\"2010-06-20T00:00:00\",\"2010-06-21T00:00:00\",\"2010-06-22T00:00:00\",\"2010-06-23T00:00:00\",\"2010-06-23T00:00:00\",\"2010-06-24T00:00:00\",\"2010-06-25T00:00:00\",\"2010-06-26T00:00:00\",\"2010-06-27T00:00:00\",\"2010-06-28T00:00:00\",\"2010-06-29T00:00:00\",\"2010-06-30T00:00:00\",\"2010-06-30T00:00:00\",\"2010-07-01T00:00:00\",\"2010-07-02T00:00:00\",\"2010-07-03T00:00:00\",\"2010-07-04T00:00:00\",\"2010-07-05T00:00:00\",\"2010-07-06T00:00:00\",\"2010-07-07T00:00:00\",\"2010-07-08T00:00:00\",\"2010-07-09T00:00:00\",\"2010-07-10T00:00:00\",\"2010-07-11T00:00:00\",\"2010-07-12T00:00:00\",\"2010-07-13T00:00:00\",\"2010-07-14T00:00:00\",\"2010-07-15T00:00:00\",\"2010-07-16T00:00:00\",\"2010-07-17T00:00:00\",\"2010-07-18T00:00:00\",\"2010-07-19T00:00:00\",\"2010-07-20T00:00:00\",\"2010-07-21T00:00:00\",\"2010-07-22T00:00:00\",\"2010-07-22T00:00:00\",\"2010-07-23T00:00:00\",\"2010-07-24T00:00:00\",\"2010-07-25T00:00:00\",\"2010-07-26T00:00:00\",\"2010-07-27T00:00:00\",\"2010-07-28T00:00:00\",\"2010-07-29T00:00:00\",\"2010-07-30T00:00:00\",\"2010-07-31T00:00:00\",\"2010-08-01T00:00:00\",\"2010-08-02T00:00:00\",\"2010-08-03T00:00:00\",\"2010-08-04T00:00:00\",\"2010-08-05T00:00:00\",\"2010-08-06T00:00:00\",\"2010-08-07T00:00:00\",\"2010-08-08T00:00:00\",\"2010-08-09T00:00:00\",\"2010-08-10T00:00:00\",\"2010-08-11T00:00:00\",\"2010-08-11T00:00:00\",\"2010-08-12T00:00:00\",\"2010-08-13T00:00:00\",\"2010-08-14T00:00:00\",\"2010-08-15T00:00:00\",\"2010-08-16T00:00:00\",\"2010-08-17T00:00:00\",\"2010-08-18T00:00:00\",\"2010-08-19T00:00:00\",\"2010-08-19T00:00:00\",\"2010-08-20T00:00:00\",\"2010-08-21T00:00:00\",\"2010-08-22T00:00:00\",\"2010-08-23T00:00:00\",\"2010-08-23T00:00:00\",\"2010-08-24T00:00:00\",\"2010-08-25T00:00:00\",\"2010-08-26T00:00:00\",\"2010-08-27T00:00:00\",\"2010-08-28T00:00:00\",\"2010-08-29T00:00:00\",\"2010-08-30T00:00:00\",\"2010-08-31T00:00:00\",\"2010-09-01T00:00:00\",\"2010-09-02T00:00:00\",\"2010-09-02T00:00:00\",\"2010-09-02T00:00:00\",\"2010-09-03T00:00:00\",\"2010-09-04T00:00:00\",\"2010-09-05T00:00:00\",\"2010-09-06T00:00:00\",\"2010-09-07T00:00:00\",\"2010-09-08T00:00:00\",\"2010-09-09T00:00:00\",\"2010-09-10T00:00:00\",\"2010-09-11T00:00:00\",\"2010-09-12T00:00:00\",\"2010-09-13T00:00:00\",\"2010-09-14T00:00:00\",\"2010-09-15T00:00:00\",\"2010-09-16T00:00:00\",\"2010-09-17T00:00:00\",\"2010-09-18T00:00:00\",\"2010-09-19T00:00:00\",\"2010-09-20T00:00:00\",\"2010-09-21T00:00:00\",\"2010-09-22T00:00:00\",\"2010-09-22T00:00:00\",\"2010-09-23T00:00:00\",\"2010-09-24T00:00:00\",\"2010-09-24T00:00:00\",\"2010-09-24T00:00:00\",\"2010-09-25T00:00:00\",\"2010-09-26T00:00:00\",\"2010-09-27T00:00:00\",\"2010-09-28T00:00:00\",\"2010-09-29T00:00:00\",\"2010-09-30T00:00:00\",\"2010-09-30T00:00:00\",\"2010-10-01T00:00:00\",\"2010-10-02T00:00:00\",\"2010-10-03T00:00:00\",\"2010-10-04T00:00:00\",\"2010-10-05T00:00:00\",\"2010-10-06T00:00:00\",\"2010-10-07T00:00:00\",\"2010-10-08T00:00:00\",\"2010-10-09T00:00:00\",\"2010-10-10T00:00:00\",\"2010-10-11T00:00:00\",\"2010-10-12T00:00:00\",\"2010-10-13T00:00:00\",\"2010-10-13T00:00:00\",\"2010-10-13T00:00:00\",\"2010-10-13T00:00:00\",\"2010-10-13T00:00:00\",\"2010-10-14T00:00:00\",\"2010-10-15T00:00:00\",\"2010-10-16T00:00:00\",\"2010-10-17T00:00:00\",\"2010-10-18T00:00:00\",\"2010-10-19T00:00:00\",\"2010-10-20T00:00:00\",\"2010-10-21T00:00:00\",\"2010-10-22T00:00:00\",\"2010-10-23T00:00:00\",\"2010-10-24T00:00:00\",\"2010-10-24T00:00:00\",\"2010-10-25T00:00:00\",\"2010-10-26T00:00:00\",\"2010-10-27T00:00:00\",\"2010-10-28T00:00:00\",\"2010-10-29T00:00:00\",\"2010-10-30T00:00:00\",\"2010-10-31T00:00:00\",\"2010-10-31T00:00:00\",\"2010-10-31T00:00:00\",\"2010-11-01T00:00:00\",\"2010-11-02T00:00:00\",\"2010-11-03T00:00:00\",\"2010-11-04T00:00:00\",\"2010-11-04T00:00:00\",\"2010-11-05T00:00:00\",\"2010-11-06T00:00:00\",\"2010-11-07T00:00:00\",\"2010-11-08T00:00:00\",\"2010-11-09T00:00:00\",\"2010-11-10T00:00:00\",\"2010-11-11T00:00:00\",\"2010-11-12T00:00:00\",\"2010-11-13T00:00:00\",\"2010-11-14T00:00:00\",\"2010-11-15T00:00:00\",\"2010-11-16T00:00:00\",\"2010-11-17T00:00:00\",\"2010-11-18T00:00:00\",\"2010-11-18T00:00:00\",\"2010-11-19T00:00:00\",\"2010-11-20T00:00:00\",\"2010-11-21T00:00:00\",\"2010-11-22T00:00:00\",\"2010-11-23T00:00:00\",\"2010-11-24T00:00:00\",\"2010-11-25T00:00:00\",\"2010-11-26T00:00:00\",\"2010-11-27T00:00:00\",\"2010-11-28T00:00:00\",\"2010-11-29T00:00:00\",\"2010-11-30T00:00:00\",\"2010-11-30T00:00:00\",\"2010-12-01T00:00:00\",\"2010-12-02T00:00:00\",\"2010-12-03T00:00:00\",\"2010-12-04T00:00:00\",\"2010-12-05T00:00:00\",\"2010-12-06T00:00:00\",\"2010-12-07T00:00:00\",\"2010-12-08T00:00:00\",\"2010-12-09T00:00:00\",\"2010-12-10T00:00:00\",\"2010-12-11T00:00:00\",\"2010-12-12T00:00:00\",\"2010-12-13T00:00:00\",\"2010-12-14T00:00:00\",\"2010-12-15T00:00:00\",\"2010-12-16T00:00:00\",\"2010-12-17T00:00:00\",\"2010-12-18T00:00:00\",\"2010-12-19T00:00:00\",\"2010-12-20T00:00:00\",\"2010-12-21T00:00:00\",\"2010-12-22T00:00:00\",\"2010-12-23T00:00:00\",\"2010-12-23T00:00:00\",\"2010-12-24T00:00:00\",\"2010-12-25T00:00:00\"],\"xaxis\":\"x\",\"y\":[0.0,0.0,0.0,0.0,0.0,0.0,0.0,0.0,0.0,0.0,0.0,0.0,0.0,0.0,0.0,0.0,0.0,0.0,0.0,0.0,0.0,0.0,0.0,0.0,0.0,0.0,0.0,0.0,0.0,0.0,0.0,0.0,0.0,0.0,0.0,0.0,0.0,0.0,0.0,0.0,0.0,0.0,0.0,0.0,0.0,0.0,0.0,0.0,0.0,0.0,0.0,0.0,0.0,0.0,0.0,0.0,0.0,0.0,0.0,0.0,0.0,0.0,0.0,0.0,0.0,0.0,0.0,0.0,0.0,0.0,0.0,0.0,0.0,0.0,0.0,0.0,0.0,0.0,0.0,0.0,0.0,0.0,0.0,0.0,0.0,0.0,2725.6,2725.6,2725.6,8042.22,4912.82,11474.46,9880.32,23519.48,37751.31,40033.21,43048.58,28971.33,16352.79,35293.69,43843.17,32553.82,29768.96,23795.71,17968.16,15347.34,15347.34,21978.67,13493.23,13579.57,27202.11,21094.1,6524.39,4369.95,17062.62,10964.03,10982.17,23881.78,22624.78,5893.33,7013.49,13443.05,8964.97,16911.84,14330.93,17918.56,14578.25,5431.91,13839.65,18571.95,13839.65,18571.95,13839.65,18571.95,14130.73,19165.28,13590.66,9595.3,9370.38,16718.43,16718.43,14444.5,12988.68,16526.97,20332.58,11069.04,6513.29,20920.41,8310.06,7074.62,5718.66,7189.41,3262.42,5381.02,214726.09,214726.09,123472.85,74765.45,54568.63,48044.4,27649.79,30592.6,72146.51,72304.28,45484.84,64384.51,0.0,43672.67,26799.37,26899.92,26899.92,44451.57,37365.35,25937.34,25819.13,26253.03,18138.64,22564.17,39523.63,26380.93,18955.15,11036.66,22947.24,22947.24,22947.24,5621.49,6031.8,13405.22,10555.45,7923.42,12591.05,13335.26,3256.45,3256.45,5638.23,20428.93,16756.73,14936.45,24726.17,38056.69,7157.08,8572.61,14270.48,11122.72,11424.98,10691.66,6857.27,2735.43,5222.47,12077.69,12636.5,13903.56,21013.45,8981.32,2806.79,5102.59,16017.47,13064.98,8535.82,6017.73,5183.35,5108.49,3662.21,13644.03,13644.03,7180.09,7233.81,10595.94,17042.25,18126.87,23475.51,42938.02,15958.63,0.0,15216.13,18170.7,20517.45,6342.49,5968.22,26827.4,15774.77,10300.58,15499.92,14482.26,12539.21,12539.21,6841.4,23580.4,13947.88,17449.46,13641.69,11885.84,4918.95,6407.61,6407.61,11562.75,16451.18,9614.44,10168.32,10168.32,7890.33,4814.44,10613.82,26959.55,34452.8,32913.19,20066.15,12027.18,4578.94,17259.92,17259.92,17259.92,28754.79,23665.37,21778.06,21520.5,26138.35,13873.36,15680.56,41601.2,25049.11,21873.94,13004.08,15089.14,7411.38,11024.78,15911.76,14014.45,23142.65,14556.33,13014.73,5222.61,5222.61,6899.57,17989.35,17989.35,17989.35,22739.78,18660.24,25011.43,40833.9,13045.83,8217.8,29324.93,15611.18,22616.41,25702.93,16921.72,5354.2,11724.1,17774.04,10076.73,8417.69,20350.95,27348.67,12054.23,4949.87,4949.87,4949.87,4949.87,4949.87,25964.27,37810.36,16739.76,23163.93,15118.33,9238.2,13002.42,14258.33,15102.5,22190.97,12760.05,12760.05,22799.5,21965.84,18161.91,35205.45,0.0,0.0,0.0,0.0,0.0,34733.47,24720.61,13639.96,26832.49,26832.49,9129.23,7678.68,32395.74,13329.4,13705.89,32209.12,25634.99,37318.24,70641.97,56330.64,50377.07,72923.04,55851.44,44080.28,44080.28,24173.42,23261.46,76548.51,41996.8,36425.82,40982.8,94402.74,67829.0,61567.67,138266.26,108595.84,147183.2,246578.68,21483.59,19478.76,8896.11,24053.81,0.0,0.0,0.0,0.0,0.0,0.0,0.0,0.0,0.0,0.0,0.0,0.0,0.0,0.0,0.0,0.0,0.0,0.0,0.0,0.0,0.0,0.0],\"yaxis\":\"y\",\"type\":\"scatter\"}],                        {\"template\":{\"data\":{\"histogram2dcontour\":[{\"type\":\"histogram2dcontour\",\"colorbar\":{\"outlinewidth\":0,\"ticks\":\"\"},\"colorscale\":[[0.0,\"#0d0887\"],[0.1111111111111111,\"#46039f\"],[0.2222222222222222,\"#7201a8\"],[0.3333333333333333,\"#9c179e\"],[0.4444444444444444,\"#bd3786\"],[0.5555555555555556,\"#d8576b\"],[0.6666666666666666,\"#ed7953\"],[0.7777777777777778,\"#fb9f3a\"],[0.8888888888888888,\"#fdca26\"],[1.0,\"#f0f921\"]]}],\"choropleth\":[{\"type\":\"choropleth\",\"colorbar\":{\"outlinewidth\":0,\"ticks\":\"\"}}],\"histogram2d\":[{\"type\":\"histogram2d\",\"colorbar\":{\"outlinewidth\":0,\"ticks\":\"\"},\"colorscale\":[[0.0,\"#0d0887\"],[0.1111111111111111,\"#46039f\"],[0.2222222222222222,\"#7201a8\"],[0.3333333333333333,\"#9c179e\"],[0.4444444444444444,\"#bd3786\"],[0.5555555555555556,\"#d8576b\"],[0.6666666666666666,\"#ed7953\"],[0.7777777777777778,\"#fb9f3a\"],[0.8888888888888888,\"#fdca26\"],[1.0,\"#f0f921\"]]}],\"heatmap\":[{\"type\":\"heatmap\",\"colorbar\":{\"outlinewidth\":0,\"ticks\":\"\"},\"colorscale\":[[0.0,\"#0d0887\"],[0.1111111111111111,\"#46039f\"],[0.2222222222222222,\"#7201a8\"],[0.3333333333333333,\"#9c179e\"],[0.4444444444444444,\"#bd3786\"],[0.5555555555555556,\"#d8576b\"],[0.6666666666666666,\"#ed7953\"],[0.7777777777777778,\"#fb9f3a\"],[0.8888888888888888,\"#fdca26\"],[1.0,\"#f0f921\"]]}],\"heatmapgl\":[{\"type\":\"heatmapgl\",\"colorbar\":{\"outlinewidth\":0,\"ticks\":\"\"},\"colorscale\":[[0.0,\"#0d0887\"],[0.1111111111111111,\"#46039f\"],[0.2222222222222222,\"#7201a8\"],[0.3333333333333333,\"#9c179e\"],[0.4444444444444444,\"#bd3786\"],[0.5555555555555556,\"#d8576b\"],[0.6666666666666666,\"#ed7953\"],[0.7777777777777778,\"#fb9f3a\"],[0.8888888888888888,\"#fdca26\"],[1.0,\"#f0f921\"]]}],\"contourcarpet\":[{\"type\":\"contourcarpet\",\"colorbar\":{\"outlinewidth\":0,\"ticks\":\"\"}}],\"contour\":[{\"type\":\"contour\",\"colorbar\":{\"outlinewidth\":0,\"ticks\":\"\"},\"colorscale\":[[0.0,\"#0d0887\"],[0.1111111111111111,\"#46039f\"],[0.2222222222222222,\"#7201a8\"],[0.3333333333333333,\"#9c179e\"],[0.4444444444444444,\"#bd3786\"],[0.5555555555555556,\"#d8576b\"],[0.6666666666666666,\"#ed7953\"],[0.7777777777777778,\"#fb9f3a\"],[0.8888888888888888,\"#fdca26\"],[1.0,\"#f0f921\"]]}],\"surface\":[{\"type\":\"surface\",\"colorbar\":{\"outlinewidth\":0,\"ticks\":\"\"},\"colorscale\":[[0.0,\"#0d0887\"],[0.1111111111111111,\"#46039f\"],[0.2222222222222222,\"#7201a8\"],[0.3333333333333333,\"#9c179e\"],[0.4444444444444444,\"#bd3786\"],[0.5555555555555556,\"#d8576b\"],[0.6666666666666666,\"#ed7953\"],[0.7777777777777778,\"#fb9f3a\"],[0.8888888888888888,\"#fdca26\"],[1.0,\"#f0f921\"]]}],\"mesh3d\":[{\"type\":\"mesh3d\",\"colorbar\":{\"outlinewidth\":0,\"ticks\":\"\"}}],\"scatter\":[{\"fillpattern\":{\"fillmode\":\"overlay\",\"size\":10,\"solidity\":0.2},\"type\":\"scatter\"}],\"parcoords\":[{\"type\":\"parcoords\",\"line\":{\"colorbar\":{\"outlinewidth\":0,\"ticks\":\"\"}}}],\"scatterpolargl\":[{\"type\":\"scatterpolargl\",\"marker\":{\"colorbar\":{\"outlinewidth\":0,\"ticks\":\"\"}}}],\"bar\":[{\"error_x\":{\"color\":\"#2a3f5f\"},\"error_y\":{\"color\":\"#2a3f5f\"},\"marker\":{\"line\":{\"color\":\"#E5ECF6\",\"width\":0.5},\"pattern\":{\"fillmode\":\"overlay\",\"size\":10,\"solidity\":0.2}},\"type\":\"bar\"}],\"scattergeo\":[{\"type\":\"scattergeo\",\"marker\":{\"colorbar\":{\"outlinewidth\":0,\"ticks\":\"\"}}}],\"scatterpolar\":[{\"type\":\"scatterpolar\",\"marker\":{\"colorbar\":{\"outlinewidth\":0,\"ticks\":\"\"}}}],\"histogram\":[{\"marker\":{\"pattern\":{\"fillmode\":\"overlay\",\"size\":10,\"solidity\":0.2}},\"type\":\"histogram\"}],\"scattergl\":[{\"type\":\"scattergl\",\"marker\":{\"colorbar\":{\"outlinewidth\":0,\"ticks\":\"\"}}}],\"scatter3d\":[{\"type\":\"scatter3d\",\"line\":{\"colorbar\":{\"outlinewidth\":0,\"ticks\":\"\"}},\"marker\":{\"colorbar\":{\"outlinewidth\":0,\"ticks\":\"\"}}}],\"scattermapbox\":[{\"type\":\"scattermapbox\",\"marker\":{\"colorbar\":{\"outlinewidth\":0,\"ticks\":\"\"}}}],\"scatterternary\":[{\"type\":\"scatterternary\",\"marker\":{\"colorbar\":{\"outlinewidth\":0,\"ticks\":\"\"}}}],\"scattercarpet\":[{\"type\":\"scattercarpet\",\"marker\":{\"colorbar\":{\"outlinewidth\":0,\"ticks\":\"\"}}}],\"carpet\":[{\"aaxis\":{\"endlinecolor\":\"#2a3f5f\",\"gridcolor\":\"white\",\"linecolor\":\"white\",\"minorgridcolor\":\"white\",\"startlinecolor\":\"#2a3f5f\"},\"baxis\":{\"endlinecolor\":\"#2a3f5f\",\"gridcolor\":\"white\",\"linecolor\":\"white\",\"minorgridcolor\":\"white\",\"startlinecolor\":\"#2a3f5f\"},\"type\":\"carpet\"}],\"table\":[{\"cells\":{\"fill\":{\"color\":\"#EBF0F8\"},\"line\":{\"color\":\"white\"}},\"header\":{\"fill\":{\"color\":\"#C8D4E3\"},\"line\":{\"color\":\"white\"}},\"type\":\"table\"}],\"barpolar\":[{\"marker\":{\"line\":{\"color\":\"#E5ECF6\",\"width\":0.5},\"pattern\":{\"fillmode\":\"overlay\",\"size\":10,\"solidity\":0.2}},\"type\":\"barpolar\"}],\"pie\":[{\"automargin\":true,\"type\":\"pie\"}]},\"layout\":{\"autotypenumbers\":\"strict\",\"colorway\":[\"#636efa\",\"#EF553B\",\"#00cc96\",\"#ab63fa\",\"#FFA15A\",\"#19d3f3\",\"#FF6692\",\"#B6E880\",\"#FF97FF\",\"#FECB52\"],\"font\":{\"color\":\"#2a3f5f\"},\"hovermode\":\"closest\",\"hoverlabel\":{\"align\":\"left\"},\"paper_bgcolor\":\"white\",\"plot_bgcolor\":\"#E5ECF6\",\"polar\":{\"bgcolor\":\"#E5ECF6\",\"angularaxis\":{\"gridcolor\":\"white\",\"linecolor\":\"white\",\"ticks\":\"\"},\"radialaxis\":{\"gridcolor\":\"white\",\"linecolor\":\"white\",\"ticks\":\"\"}},\"ternary\":{\"bgcolor\":\"#E5ECF6\",\"aaxis\":{\"gridcolor\":\"white\",\"linecolor\":\"white\",\"ticks\":\"\"},\"baxis\":{\"gridcolor\":\"white\",\"linecolor\":\"white\",\"ticks\":\"\"},\"caxis\":{\"gridcolor\":\"white\",\"linecolor\":\"white\",\"ticks\":\"\"}},\"coloraxis\":{\"colorbar\":{\"outlinewidth\":0,\"ticks\":\"\"}},\"colorscale\":{\"sequential\":[[0.0,\"#0d0887\"],[0.1111111111111111,\"#46039f\"],[0.2222222222222222,\"#7201a8\"],[0.3333333333333333,\"#9c179e\"],[0.4444444444444444,\"#bd3786\"],[0.5555555555555556,\"#d8576b\"],[0.6666666666666666,\"#ed7953\"],[0.7777777777777778,\"#fb9f3a\"],[0.8888888888888888,\"#fdca26\"],[1.0,\"#f0f921\"]],\"sequentialminus\":[[0.0,\"#0d0887\"],[0.1111111111111111,\"#46039f\"],[0.2222222222222222,\"#7201a8\"],[0.3333333333333333,\"#9c179e\"],[0.4444444444444444,\"#bd3786\"],[0.5555555555555556,\"#d8576b\"],[0.6666666666666666,\"#ed7953\"],[0.7777777777777778,\"#fb9f3a\"],[0.8888888888888888,\"#fdca26\"],[1.0,\"#f0f921\"]],\"diverging\":[[0,\"#8e0152\"],[0.1,\"#c51b7d\"],[0.2,\"#de77ae\"],[0.3,\"#f1b6da\"],[0.4,\"#fde0ef\"],[0.5,\"#f7f7f7\"],[0.6,\"#e6f5d0\"],[0.7,\"#b8e186\"],[0.8,\"#7fbc41\"],[0.9,\"#4d9221\"],[1,\"#276419\"]]},\"xaxis\":{\"gridcolor\":\"white\",\"linecolor\":\"white\",\"ticks\":\"\",\"title\":{\"standoff\":15},\"zerolinecolor\":\"white\",\"automargin\":true,\"zerolinewidth\":2},\"yaxis\":{\"gridcolor\":\"white\",\"linecolor\":\"white\",\"ticks\":\"\",\"title\":{\"standoff\":15},\"zerolinecolor\":\"white\",\"automargin\":true,\"zerolinewidth\":2},\"scene\":{\"xaxis\":{\"backgroundcolor\":\"#E5ECF6\",\"gridcolor\":\"white\",\"linecolor\":\"white\",\"showbackground\":true,\"ticks\":\"\",\"zerolinecolor\":\"white\",\"gridwidth\":2},\"yaxis\":{\"backgroundcolor\":\"#E5ECF6\",\"gridcolor\":\"white\",\"linecolor\":\"white\",\"showbackground\":true,\"ticks\":\"\",\"zerolinecolor\":\"white\",\"gridwidth\":2},\"zaxis\":{\"backgroundcolor\":\"#E5ECF6\",\"gridcolor\":\"white\",\"linecolor\":\"white\",\"showbackground\":true,\"ticks\":\"\",\"zerolinecolor\":\"white\",\"gridwidth\":2}},\"shapedefaults\":{\"line\":{\"color\":\"#2a3f5f\"}},\"annotationdefaults\":{\"arrowcolor\":\"#2a3f5f\",\"arrowhead\":0,\"arrowwidth\":1},\"geo\":{\"bgcolor\":\"white\",\"landcolor\":\"#E5ECF6\",\"subunitcolor\":\"white\",\"showland\":true,\"showlakes\":true,\"lakecolor\":\"white\"},\"title\":{\"x\":0.05},\"mapbox\":{\"style\":\"light\"}}},\"xaxis\":{\"anchor\":\"y\",\"domain\":[0.0,1.0],\"title\":{\"text\":\"Date\"}},\"yaxis\":{\"anchor\":\"x\",\"domain\":[0.0,1.0],\"title\":{\"text\":\"Amount in USD\"}},\"legend\":{\"title\":{\"text\":\"variable\"},\"tracegroupgap\":0},\"margin\":{\"t\":60},\"hovermode\":\"x unified\"},                        {\"responsive\": true}                    ).then(function(){\n",
       "                            \n",
       "var gd = document.getElementById('2f2f52f1-c336-45ae-a149-e619c20c791f');\n",
       "var x = new MutationObserver(function (mutations, observer) {{\n",
       "        var display = window.getComputedStyle(gd).display;\n",
       "        if (!display || display === 'none') {{\n",
       "            console.log([gd, 'removed!']);\n",
       "            Plotly.purge(gd);\n",
       "            observer.disconnect();\n",
       "        }}\n",
       "}});\n",
       "\n",
       "// Listen for the removal of the full notebook cells\n",
       "var notebookContainer = gd.closest('#notebook-container');\n",
       "if (notebookContainer) {{\n",
       "    x.observe(notebookContainer, {childList: true});\n",
       "}}\n",
       "\n",
       "// Listen for the clearing of the current output cell\n",
       "var outputEl = gd.closest('.output');\n",
       "if (outputEl) {{\n",
       "    x.observe(outputEl, {childList: true});\n",
       "}}\n",
       "\n",
       "                        })                };                });            </script>        </div>"
      ]
     },
     "metadata": {},
     "output_type": "display_data"
    }
   ],
   "source": [
    "import plotly.express as px\n",
    "\n",
    "fig = px.line(data_frame = df_main, \n",
    "              x = 'date', \n",
    "              y = ['cost', 'revenue'])\n",
    "\n",
    "fig.update_layout(xaxis_title_text = 'Date', \n",
    "                  yaxis_title_text = 'Amount in USD', \n",
    "                  hovermode = 'x unified')\n",
    "\n",
    "# fig.update_traces(hovertemplate='Type: %{y} <br>Cost: $%{x}')\n",
    "\n",
    "fig.show()"
   ]
  },
  {
   "cell_type": "markdown",
   "id": "8c8ddb21",
   "metadata": {},
   "source": [
    "### Visualize with `go`"
   ]
  },
  {
   "cell_type": "code",
   "execution_count": 179,
   "id": "084682e4",
   "metadata": {},
   "outputs": [
    {
     "data": {
      "application/vnd.plotly.v1+json": {
       "config": {
        "plotlyServerURL": "https://plotly.com"
       },
       "data": [
        {
         "hovertemplate": "$%{y}",
         "marker": {
          "color": "rgb(245, 81, 94)"
         },
         "name": "Cost",
         "type": "scatter",
         "x": [
          "2010-01-01T00:00:00",
          "2010-01-02T00:00:00",
          "2010-01-03T00:00:00",
          "2010-01-04T00:00:00",
          "2010-01-05T00:00:00",
          "2010-01-06T00:00:00",
          "2010-01-07T00:00:00",
          "2010-01-08T00:00:00",
          "2010-01-09T00:00:00",
          "2010-01-10T00:00:00",
          "2010-01-11T00:00:00",
          "2010-01-12T00:00:00",
          "2010-01-13T00:00:00",
          "2010-01-14T00:00:00",
          "2010-01-15T00:00:00",
          "2010-01-16T00:00:00",
          "2010-01-17T00:00:00",
          "2010-01-18T00:00:00",
          "2010-01-19T00:00:00",
          "2010-01-20T00:00:00",
          "2010-01-21T00:00:00",
          "2010-01-22T00:00:00",
          "2010-01-23T00:00:00",
          "2010-01-24T00:00:00",
          "2010-01-25T00:00:00",
          "2010-01-26T00:00:00",
          "2010-01-27T00:00:00",
          "2010-01-28T00:00:00",
          "2010-01-28T00:00:00",
          "2010-01-29T00:00:00",
          "2010-01-30T00:00:00",
          "2010-01-31T00:00:00",
          "2010-02-01T00:00:00",
          "2010-02-02T00:00:00",
          "2010-02-03T00:00:00",
          "2010-02-04T00:00:00",
          "2010-02-05T00:00:00",
          "2010-02-06T00:00:00",
          "2010-02-07T00:00:00",
          "2010-02-08T00:00:00",
          "2010-02-09T00:00:00",
          "2010-02-10T00:00:00",
          "2010-02-11T00:00:00",
          "2010-02-11T00:00:00",
          "2010-02-12T00:00:00",
          "2010-02-13T00:00:00",
          "2010-02-14T00:00:00",
          "2010-02-15T00:00:00",
          "2010-02-16T00:00:00",
          "2010-02-17T00:00:00",
          "2010-02-18T00:00:00",
          "2010-02-19T00:00:00",
          "2010-02-19T00:00:00",
          "2010-02-19T00:00:00",
          "2010-02-20T00:00:00",
          "2010-02-21T00:00:00",
          "2010-02-22T00:00:00",
          "2010-02-23T00:00:00",
          "2010-02-24T00:00:00",
          "2010-02-25T00:00:00",
          "2010-02-26T00:00:00",
          "2010-02-27T00:00:00",
          "2010-02-28T00:00:00",
          "2010-03-01T00:00:00",
          "2010-03-02T00:00:00",
          "2010-03-03T00:00:00",
          "2010-03-03T00:00:00",
          "2010-03-04T00:00:00",
          "2010-03-05T00:00:00",
          "2010-03-06T00:00:00",
          "2010-03-07T00:00:00",
          "2010-03-08T00:00:00",
          "2010-03-09T00:00:00",
          "2010-03-10T00:00:00",
          "2010-03-11T00:00:00",
          "2010-03-12T00:00:00",
          "2010-03-13T00:00:00",
          "2010-03-14T00:00:00",
          "2010-03-15T00:00:00",
          "2010-03-16T00:00:00",
          "2010-03-16T00:00:00",
          "2010-03-17T00:00:00",
          "2010-03-18T00:00:00",
          "2010-03-19T00:00:00",
          "2010-03-20T00:00:00",
          "2010-03-21T00:00:00",
          "2010-03-22T00:00:00",
          "2010-03-22T00:00:00",
          "2010-03-22T00:00:00",
          "2010-03-23T00:00:00",
          "2010-03-24T00:00:00",
          "2010-03-25T00:00:00",
          "2010-03-26T00:00:00",
          "2010-03-27T00:00:00",
          "2010-03-28T00:00:00",
          "2010-03-29T00:00:00",
          "2010-03-30T00:00:00",
          "2010-03-31T00:00:00",
          "2010-04-01T00:00:00",
          "2010-04-02T00:00:00",
          "2010-04-03T00:00:00",
          "2010-04-04T00:00:00",
          "2010-04-05T00:00:00",
          "2010-04-06T00:00:00",
          "2010-04-07T00:00:00",
          "2010-04-08T00:00:00",
          "2010-04-08T00:00:00",
          "2010-04-09T00:00:00",
          "2010-04-10T00:00:00",
          "2010-04-11T00:00:00",
          "2010-04-12T00:00:00",
          "2010-04-13T00:00:00",
          "2010-04-14T00:00:00",
          "2010-04-15T00:00:00",
          "2010-04-16T00:00:00",
          "2010-04-17T00:00:00",
          "2010-04-18T00:00:00",
          "2010-04-19T00:00:00",
          "2010-04-20T00:00:00",
          "2010-04-21T00:00:00",
          "2010-04-22T00:00:00",
          "2010-04-23T00:00:00",
          "2010-04-24T00:00:00",
          "2010-04-25T00:00:00",
          "2010-04-26T00:00:00",
          "2010-04-27T00:00:00",
          "2010-04-28T00:00:00",
          "2010-04-29T00:00:00",
          "2010-04-30T00:00:00",
          "2010-04-30T00:00:00",
          "2010-04-30T00:00:00",
          "2010-04-30T00:00:00",
          "2010-04-30T00:00:00",
          "2010-04-30T00:00:00",
          "2010-05-01T00:00:00",
          "2010-05-02T00:00:00",
          "2010-05-03T00:00:00",
          "2010-05-04T00:00:00",
          "2010-05-05T00:00:00",
          "2010-05-06T00:00:00",
          "2010-05-06T00:00:00",
          "2010-05-07T00:00:00",
          "2010-05-08T00:00:00",
          "2010-05-09T00:00:00",
          "2010-05-10T00:00:00",
          "2010-05-11T00:00:00",
          "2010-05-12T00:00:00",
          "2010-05-13T00:00:00",
          "2010-05-14T00:00:00",
          "2010-05-15T00:00:00",
          "2010-05-16T00:00:00",
          "2010-05-17T00:00:00",
          "2010-05-18T00:00:00",
          "2010-05-19T00:00:00",
          "2010-05-20T00:00:00",
          "2010-05-20T00:00:00",
          "2010-05-21T00:00:00",
          "2010-05-22T00:00:00",
          "2010-05-23T00:00:00",
          "2010-05-24T00:00:00",
          "2010-05-25T00:00:00",
          "2010-05-26T00:00:00",
          "2010-05-27T00:00:00",
          "2010-05-28T00:00:00",
          "2010-05-29T00:00:00",
          "2010-05-30T00:00:00",
          "2010-05-31T00:00:00",
          "2010-06-01T00:00:00",
          "2010-06-02T00:00:00",
          "2010-06-03T00:00:00",
          "2010-06-03T00:00:00",
          "2010-06-04T00:00:00",
          "2010-06-05T00:00:00",
          "2010-06-06T00:00:00",
          "2010-06-07T00:00:00",
          "2010-06-08T00:00:00",
          "2010-06-09T00:00:00",
          "2010-06-10T00:00:00",
          "2010-06-11T00:00:00",
          "2010-06-12T00:00:00",
          "2010-06-13T00:00:00",
          "2010-06-14T00:00:00",
          "2010-06-15T00:00:00",
          "2010-06-15T00:00:00",
          "2010-06-15T00:00:00",
          "2010-06-16T00:00:00",
          "2010-06-17T00:00:00",
          "2010-06-18T00:00:00",
          "2010-06-19T00:00:00",
          "2010-06-20T00:00:00",
          "2010-06-21T00:00:00",
          "2010-06-22T00:00:00",
          "2010-06-23T00:00:00",
          "2010-06-23T00:00:00",
          "2010-06-24T00:00:00",
          "2010-06-25T00:00:00",
          "2010-06-26T00:00:00",
          "2010-06-27T00:00:00",
          "2010-06-28T00:00:00",
          "2010-06-29T00:00:00",
          "2010-06-30T00:00:00",
          "2010-06-30T00:00:00",
          "2010-07-01T00:00:00",
          "2010-07-02T00:00:00",
          "2010-07-03T00:00:00",
          "2010-07-04T00:00:00",
          "2010-07-05T00:00:00",
          "2010-07-06T00:00:00",
          "2010-07-07T00:00:00",
          "2010-07-08T00:00:00",
          "2010-07-09T00:00:00",
          "2010-07-10T00:00:00",
          "2010-07-11T00:00:00",
          "2010-07-12T00:00:00",
          "2010-07-13T00:00:00",
          "2010-07-14T00:00:00",
          "2010-07-15T00:00:00",
          "2010-07-16T00:00:00",
          "2010-07-17T00:00:00",
          "2010-07-18T00:00:00",
          "2010-07-19T00:00:00",
          "2010-07-20T00:00:00",
          "2010-07-21T00:00:00",
          "2010-07-22T00:00:00",
          "2010-07-22T00:00:00",
          "2010-07-23T00:00:00",
          "2010-07-24T00:00:00",
          "2010-07-25T00:00:00",
          "2010-07-26T00:00:00",
          "2010-07-27T00:00:00",
          "2010-07-28T00:00:00",
          "2010-07-29T00:00:00",
          "2010-07-30T00:00:00",
          "2010-07-31T00:00:00",
          "2010-08-01T00:00:00",
          "2010-08-02T00:00:00",
          "2010-08-03T00:00:00",
          "2010-08-04T00:00:00",
          "2010-08-05T00:00:00",
          "2010-08-06T00:00:00",
          "2010-08-07T00:00:00",
          "2010-08-08T00:00:00",
          "2010-08-09T00:00:00",
          "2010-08-10T00:00:00",
          "2010-08-11T00:00:00",
          "2010-08-11T00:00:00",
          "2010-08-12T00:00:00",
          "2010-08-13T00:00:00",
          "2010-08-14T00:00:00",
          "2010-08-15T00:00:00",
          "2010-08-16T00:00:00",
          "2010-08-17T00:00:00",
          "2010-08-18T00:00:00",
          "2010-08-19T00:00:00",
          "2010-08-19T00:00:00",
          "2010-08-20T00:00:00",
          "2010-08-21T00:00:00",
          "2010-08-22T00:00:00",
          "2010-08-23T00:00:00",
          "2010-08-23T00:00:00",
          "2010-08-24T00:00:00",
          "2010-08-25T00:00:00",
          "2010-08-26T00:00:00",
          "2010-08-27T00:00:00",
          "2010-08-28T00:00:00",
          "2010-08-29T00:00:00",
          "2010-08-30T00:00:00",
          "2010-08-31T00:00:00",
          "2010-09-01T00:00:00",
          "2010-09-02T00:00:00",
          "2010-09-02T00:00:00",
          "2010-09-02T00:00:00",
          "2010-09-03T00:00:00",
          "2010-09-04T00:00:00",
          "2010-09-05T00:00:00",
          "2010-09-06T00:00:00",
          "2010-09-07T00:00:00",
          "2010-09-08T00:00:00",
          "2010-09-09T00:00:00",
          "2010-09-10T00:00:00",
          "2010-09-11T00:00:00",
          "2010-09-12T00:00:00",
          "2010-09-13T00:00:00",
          "2010-09-14T00:00:00",
          "2010-09-15T00:00:00",
          "2010-09-16T00:00:00",
          "2010-09-17T00:00:00",
          "2010-09-18T00:00:00",
          "2010-09-19T00:00:00",
          "2010-09-20T00:00:00",
          "2010-09-21T00:00:00",
          "2010-09-22T00:00:00",
          "2010-09-22T00:00:00",
          "2010-09-23T00:00:00",
          "2010-09-24T00:00:00",
          "2010-09-24T00:00:00",
          "2010-09-24T00:00:00",
          "2010-09-25T00:00:00",
          "2010-09-26T00:00:00",
          "2010-09-27T00:00:00",
          "2010-09-28T00:00:00",
          "2010-09-29T00:00:00",
          "2010-09-30T00:00:00",
          "2010-09-30T00:00:00",
          "2010-10-01T00:00:00",
          "2010-10-02T00:00:00",
          "2010-10-03T00:00:00",
          "2010-10-04T00:00:00",
          "2010-10-05T00:00:00",
          "2010-10-06T00:00:00",
          "2010-10-07T00:00:00",
          "2010-10-08T00:00:00",
          "2010-10-09T00:00:00",
          "2010-10-10T00:00:00",
          "2010-10-11T00:00:00",
          "2010-10-12T00:00:00",
          "2010-10-13T00:00:00",
          "2010-10-13T00:00:00",
          "2010-10-13T00:00:00",
          "2010-10-13T00:00:00",
          "2010-10-13T00:00:00",
          "2010-10-14T00:00:00",
          "2010-10-15T00:00:00",
          "2010-10-16T00:00:00",
          "2010-10-17T00:00:00",
          "2010-10-18T00:00:00",
          "2010-10-19T00:00:00",
          "2010-10-20T00:00:00",
          "2010-10-21T00:00:00",
          "2010-10-22T00:00:00",
          "2010-10-23T00:00:00",
          "2010-10-24T00:00:00",
          "2010-10-24T00:00:00",
          "2010-10-25T00:00:00",
          "2010-10-26T00:00:00",
          "2010-10-27T00:00:00",
          "2010-10-28T00:00:00",
          "2010-10-29T00:00:00",
          "2010-10-30T00:00:00",
          "2010-10-31T00:00:00",
          "2010-10-31T00:00:00",
          "2010-10-31T00:00:00",
          "2010-11-01T00:00:00",
          "2010-11-02T00:00:00",
          "2010-11-03T00:00:00",
          "2010-11-04T00:00:00",
          "2010-11-04T00:00:00",
          "2010-11-05T00:00:00",
          "2010-11-06T00:00:00",
          "2010-11-07T00:00:00",
          "2010-11-08T00:00:00",
          "2010-11-09T00:00:00",
          "2010-11-10T00:00:00",
          "2010-11-11T00:00:00",
          "2010-11-12T00:00:00",
          "2010-11-13T00:00:00",
          "2010-11-14T00:00:00",
          "2010-11-15T00:00:00",
          "2010-11-16T00:00:00",
          "2010-11-17T00:00:00",
          "2010-11-18T00:00:00",
          "2010-11-18T00:00:00",
          "2010-11-19T00:00:00",
          "2010-11-20T00:00:00",
          "2010-11-21T00:00:00",
          "2010-11-22T00:00:00",
          "2010-11-23T00:00:00",
          "2010-11-24T00:00:00",
          "2010-11-25T00:00:00",
          "2010-11-26T00:00:00",
          "2010-11-27T00:00:00",
          "2010-11-28T00:00:00",
          "2010-11-29T00:00:00",
          "2010-11-30T00:00:00",
          "2010-11-30T00:00:00",
          "2010-12-01T00:00:00",
          "2010-12-02T00:00:00",
          "2010-12-03T00:00:00",
          "2010-12-04T00:00:00",
          "2010-12-05T00:00:00",
          "2010-12-06T00:00:00",
          "2010-12-07T00:00:00",
          "2010-12-08T00:00:00",
          "2010-12-09T00:00:00",
          "2010-12-10T00:00:00",
          "2010-12-11T00:00:00",
          "2010-12-12T00:00:00",
          "2010-12-13T00:00:00",
          "2010-12-14T00:00:00",
          "2010-12-15T00:00:00",
          "2010-12-16T00:00:00",
          "2010-12-17T00:00:00",
          "2010-12-18T00:00:00",
          "2010-12-19T00:00:00",
          "2010-12-20T00:00:00",
          "2010-12-21T00:00:00",
          "2010-12-22T00:00:00",
          "2010-12-23T00:00:00",
          "2010-12-23T00:00:00",
          "2010-12-24T00:00:00",
          "2010-12-25T00:00:00"
         ],
         "y": [
          311.84,
          0,
          0,
          0,
          0,
          0,
          0,
          0,
          72.76,
          0,
          0,
          0,
          0,
          0,
          0,
          0,
          0,
          0,
          0,
          0,
          0,
          0,
          0,
          0,
          0,
          0,
          0,
          15592.05,
          6236.82,
          0,
          0,
          0,
          0,
          0,
          0,
          0,
          4959.93,
          0,
          428.65,
          0,
          0,
          0,
          128.59,
          300.05,
          0,
          0,
          0,
          0,
          0,
          0,
          0,
          490.42,
          20789.4,
          14828.23,
          0,
          106.61,
          0,
          0,
          0,
          20789.4,
          0,
          0,
          0,
          0,
          831.58,
          533.06,
          1871.05,
          20082.56,
          0,
          0,
          0,
          1024.8,
          1247.36,
          15592.05,
          0,
          0,
          0,
          41795.24,
          0,
          1197.47,
          1871.05,
          0,
          0,
          0,
          0,
          0,
          93552.28,
          7138.52,
          20789.4,
          0,
          2078.94,
          0,
          0,
          0,
          0,
          0,
          155.92,
          0,
          1322.87,
          0,
          0,
          0,
          0,
          0,
          0,
          103.95,
          10690.96,
          0,
          0,
          0,
          0,
          0,
          0,
          0,
          43078.46,
          0,
          0,
          575.71,
          0,
          0,
          22847.55,
          0,
          0,
          0,
          0,
          1871.05,
          5332.48,
          0,
          410.4,
          410.4,
          20789.4,
          20789.4,
          1279.35,
          1279.35,
          0,
          0,
          3072.85,
          0,
          0,
          93552.28,
          43657.73,
          0,
          0,
          0,
          415.79,
          0,
          0,
          2443.38,
          0,
          0,
          0,
          0,
          0,
          0,
          4157.88,
          44315.63,
          0,
          0,
          0,
          0,
          0,
          0,
          1871.05,
          0,
          0,
          0,
          0,
          0,
          21828.87,
          2909.31,
          3742.09,
          0,
          0,
          0,
          0,
          0,
          0,
          0,
          0,
          0,
          0,
          0,
          38838.02,
          583.14,
          43386.52,
          0,
          0,
          0,
          0,
          0,
          0,
          0,
          1217.71,
          32743.3,
          0,
          0,
          0,
          0,
          0,
          0,
          21793,
          21793,
          21793,
          0,
          0,
          0,
          0,
          0,
          0,
          0,
          0,
          0,
          0,
          36163.15,
          0,
          0,
          0,
          0,
          0,
          0,
          0,
          0,
          0,
          21793,
          43486.81,
          0,
          0,
          0,
          1767.1,
          0,
          0,
          19625.19,
          0,
          0,
          0,
          0,
          0,
          100342.72,
          0,
          0,
          0,
          0,
          0,
          0,
          38917.75,
          1871.05,
          0,
          0,
          0,
          0,
          4789.67,
          1299.34,
          0,
          277.63,
          1871.05,
          0,
          0,
          0,
          259.87,
          2078.94,
          0,
          249.47,
          124.74,
          0,
          0,
          0,
          1808.68,
          0,
          0,
          17183.78,
          3118.41,
          38460.38,
          51973.49,
          0,
          0,
          0,
          0,
          0,
          2307.62,
          0,
          0,
          0,
          0,
          0,
          35783.45,
          0,
          0,
          0,
          0,
          0,
          0,
          122.87,
          42704.8,
          0,
          41578.79,
          1767.1,
          36381.44,
          0,
          0,
          0,
          0,
          0,
          1715.13,
          1715.13,
          0,
          0,
          0,
          0,
          0,
          353.42,
          0,
          0,
          0,
          0,
          0,
          10394.7,
          386.09,
          664.07,
          207.89,
          8359.42,
          40680.74,
          7421.81,
          0,
          0,
          0,
          0,
          481.97,
          0,
          0,
          0,
          0,
          16637.75,
          38460.38,
          0,
          0,
          0,
          0,
          0,
          0,
          113027.44,
          8658.78,
          16631.52,
          0,
          9022.6,
          0,
          3035.25,
          1205.78,
          0,
          0,
          16631.52,
          0,
          0,
          0,
          0,
          0,
          0,
          0,
          0,
          1767.1,
          0,
          18710.46,
          308.29,
          0,
          0,
          0,
          0,
          5515.55,
          0,
          0,
          0,
          0,
          0,
          0,
          0,
          0,
          0,
          0,
          0,
          31184.09,
          0,
          0,
          0,
          0,
          0,
          0,
          9355.23,
          0,
          0,
          59927.51,
          0,
          0,
          0,
          9355.23,
          0,
          0,
          0,
          0,
          3462.5,
          117.56,
          0,
          9355.23
         ]
        },
        {
         "hovertemplate": "$%{y}",
         "marker": {
          "color": "green"
         },
         "name": "Revenue",
         "type": "scatter",
         "x": [
          "2010-01-01T00:00:00",
          "2010-01-02T00:00:00",
          "2010-01-03T00:00:00",
          "2010-01-04T00:00:00",
          "2010-01-05T00:00:00",
          "2010-01-06T00:00:00",
          "2010-01-07T00:00:00",
          "2010-01-08T00:00:00",
          "2010-01-09T00:00:00",
          "2010-01-10T00:00:00",
          "2010-01-11T00:00:00",
          "2010-01-12T00:00:00",
          "2010-01-13T00:00:00",
          "2010-01-14T00:00:00",
          "2010-01-15T00:00:00",
          "2010-01-16T00:00:00",
          "2010-01-17T00:00:00",
          "2010-01-18T00:00:00",
          "2010-01-19T00:00:00",
          "2010-01-20T00:00:00",
          "2010-01-21T00:00:00",
          "2010-01-22T00:00:00",
          "2010-01-23T00:00:00",
          "2010-01-24T00:00:00",
          "2010-01-25T00:00:00",
          "2010-01-26T00:00:00",
          "2010-01-27T00:00:00",
          "2010-01-28T00:00:00",
          "2010-01-28T00:00:00",
          "2010-01-29T00:00:00",
          "2010-01-30T00:00:00",
          "2010-01-31T00:00:00",
          "2010-02-01T00:00:00",
          "2010-02-02T00:00:00",
          "2010-02-03T00:00:00",
          "2010-02-04T00:00:00",
          "2010-02-05T00:00:00",
          "2010-02-06T00:00:00",
          "2010-02-07T00:00:00",
          "2010-02-08T00:00:00",
          "2010-02-09T00:00:00",
          "2010-02-10T00:00:00",
          "2010-02-11T00:00:00",
          "2010-02-11T00:00:00",
          "2010-02-12T00:00:00",
          "2010-02-13T00:00:00",
          "2010-02-14T00:00:00",
          "2010-02-15T00:00:00",
          "2010-02-16T00:00:00",
          "2010-02-17T00:00:00",
          "2010-02-18T00:00:00",
          "2010-02-19T00:00:00",
          "2010-02-19T00:00:00",
          "2010-02-19T00:00:00",
          "2010-02-20T00:00:00",
          "2010-02-21T00:00:00",
          "2010-02-22T00:00:00",
          "2010-02-23T00:00:00",
          "2010-02-24T00:00:00",
          "2010-02-25T00:00:00",
          "2010-02-26T00:00:00",
          "2010-02-27T00:00:00",
          "2010-02-28T00:00:00",
          "2010-03-01T00:00:00",
          "2010-03-02T00:00:00",
          "2010-03-03T00:00:00",
          "2010-03-03T00:00:00",
          "2010-03-04T00:00:00",
          "2010-03-05T00:00:00",
          "2010-03-06T00:00:00",
          "2010-03-07T00:00:00",
          "2010-03-08T00:00:00",
          "2010-03-09T00:00:00",
          "2010-03-10T00:00:00",
          "2010-03-11T00:00:00",
          "2010-03-12T00:00:00",
          "2010-03-13T00:00:00",
          "2010-03-14T00:00:00",
          "2010-03-15T00:00:00",
          "2010-03-16T00:00:00",
          "2010-03-16T00:00:00",
          "2010-03-17T00:00:00",
          "2010-03-18T00:00:00",
          "2010-03-19T00:00:00",
          "2010-03-20T00:00:00",
          "2010-03-21T00:00:00",
          "2010-03-22T00:00:00",
          "2010-03-22T00:00:00",
          "2010-03-22T00:00:00",
          "2010-03-23T00:00:00",
          "2010-03-24T00:00:00",
          "2010-03-25T00:00:00",
          "2010-03-26T00:00:00",
          "2010-03-27T00:00:00",
          "2010-03-28T00:00:00",
          "2010-03-29T00:00:00",
          "2010-03-30T00:00:00",
          "2010-03-31T00:00:00",
          "2010-04-01T00:00:00",
          "2010-04-02T00:00:00",
          "2010-04-03T00:00:00",
          "2010-04-04T00:00:00",
          "2010-04-05T00:00:00",
          "2010-04-06T00:00:00",
          "2010-04-07T00:00:00",
          "2010-04-08T00:00:00",
          "2010-04-08T00:00:00",
          "2010-04-09T00:00:00",
          "2010-04-10T00:00:00",
          "2010-04-11T00:00:00",
          "2010-04-12T00:00:00",
          "2010-04-13T00:00:00",
          "2010-04-14T00:00:00",
          "2010-04-15T00:00:00",
          "2010-04-16T00:00:00",
          "2010-04-17T00:00:00",
          "2010-04-18T00:00:00",
          "2010-04-19T00:00:00",
          "2010-04-20T00:00:00",
          "2010-04-21T00:00:00",
          "2010-04-22T00:00:00",
          "2010-04-23T00:00:00",
          "2010-04-24T00:00:00",
          "2010-04-25T00:00:00",
          "2010-04-26T00:00:00",
          "2010-04-27T00:00:00",
          "2010-04-28T00:00:00",
          "2010-04-29T00:00:00",
          "2010-04-30T00:00:00",
          "2010-04-30T00:00:00",
          "2010-04-30T00:00:00",
          "2010-04-30T00:00:00",
          "2010-04-30T00:00:00",
          "2010-04-30T00:00:00",
          "2010-05-01T00:00:00",
          "2010-05-02T00:00:00",
          "2010-05-03T00:00:00",
          "2010-05-04T00:00:00",
          "2010-05-05T00:00:00",
          "2010-05-06T00:00:00",
          "2010-05-06T00:00:00",
          "2010-05-07T00:00:00",
          "2010-05-08T00:00:00",
          "2010-05-09T00:00:00",
          "2010-05-10T00:00:00",
          "2010-05-11T00:00:00",
          "2010-05-12T00:00:00",
          "2010-05-13T00:00:00",
          "2010-05-14T00:00:00",
          "2010-05-15T00:00:00",
          "2010-05-16T00:00:00",
          "2010-05-17T00:00:00",
          "2010-05-18T00:00:00",
          "2010-05-19T00:00:00",
          "2010-05-20T00:00:00",
          "2010-05-20T00:00:00",
          "2010-05-21T00:00:00",
          "2010-05-22T00:00:00",
          "2010-05-23T00:00:00",
          "2010-05-24T00:00:00",
          "2010-05-25T00:00:00",
          "2010-05-26T00:00:00",
          "2010-05-27T00:00:00",
          "2010-05-28T00:00:00",
          "2010-05-29T00:00:00",
          "2010-05-30T00:00:00",
          "2010-05-31T00:00:00",
          "2010-06-01T00:00:00",
          "2010-06-02T00:00:00",
          "2010-06-03T00:00:00",
          "2010-06-03T00:00:00",
          "2010-06-04T00:00:00",
          "2010-06-05T00:00:00",
          "2010-06-06T00:00:00",
          "2010-06-07T00:00:00",
          "2010-06-08T00:00:00",
          "2010-06-09T00:00:00",
          "2010-06-10T00:00:00",
          "2010-06-11T00:00:00",
          "2010-06-12T00:00:00",
          "2010-06-13T00:00:00",
          "2010-06-14T00:00:00",
          "2010-06-15T00:00:00",
          "2010-06-15T00:00:00",
          "2010-06-15T00:00:00",
          "2010-06-16T00:00:00",
          "2010-06-17T00:00:00",
          "2010-06-18T00:00:00",
          "2010-06-19T00:00:00",
          "2010-06-20T00:00:00",
          "2010-06-21T00:00:00",
          "2010-06-22T00:00:00",
          "2010-06-23T00:00:00",
          "2010-06-23T00:00:00",
          "2010-06-24T00:00:00",
          "2010-06-25T00:00:00",
          "2010-06-26T00:00:00",
          "2010-06-27T00:00:00",
          "2010-06-28T00:00:00",
          "2010-06-29T00:00:00",
          "2010-06-30T00:00:00",
          "2010-06-30T00:00:00",
          "2010-07-01T00:00:00",
          "2010-07-02T00:00:00",
          "2010-07-03T00:00:00",
          "2010-07-04T00:00:00",
          "2010-07-05T00:00:00",
          "2010-07-06T00:00:00",
          "2010-07-07T00:00:00",
          "2010-07-08T00:00:00",
          "2010-07-09T00:00:00",
          "2010-07-10T00:00:00",
          "2010-07-11T00:00:00",
          "2010-07-12T00:00:00",
          "2010-07-13T00:00:00",
          "2010-07-14T00:00:00",
          "2010-07-15T00:00:00",
          "2010-07-16T00:00:00",
          "2010-07-17T00:00:00",
          "2010-07-18T00:00:00",
          "2010-07-19T00:00:00",
          "2010-07-20T00:00:00",
          "2010-07-21T00:00:00",
          "2010-07-22T00:00:00",
          "2010-07-22T00:00:00",
          "2010-07-23T00:00:00",
          "2010-07-24T00:00:00",
          "2010-07-25T00:00:00",
          "2010-07-26T00:00:00",
          "2010-07-27T00:00:00",
          "2010-07-28T00:00:00",
          "2010-07-29T00:00:00",
          "2010-07-30T00:00:00",
          "2010-07-31T00:00:00",
          "2010-08-01T00:00:00",
          "2010-08-02T00:00:00",
          "2010-08-03T00:00:00",
          "2010-08-04T00:00:00",
          "2010-08-05T00:00:00",
          "2010-08-06T00:00:00",
          "2010-08-07T00:00:00",
          "2010-08-08T00:00:00",
          "2010-08-09T00:00:00",
          "2010-08-10T00:00:00",
          "2010-08-11T00:00:00",
          "2010-08-11T00:00:00",
          "2010-08-12T00:00:00",
          "2010-08-13T00:00:00",
          "2010-08-14T00:00:00",
          "2010-08-15T00:00:00",
          "2010-08-16T00:00:00",
          "2010-08-17T00:00:00",
          "2010-08-18T00:00:00",
          "2010-08-19T00:00:00",
          "2010-08-19T00:00:00",
          "2010-08-20T00:00:00",
          "2010-08-21T00:00:00",
          "2010-08-22T00:00:00",
          "2010-08-23T00:00:00",
          "2010-08-23T00:00:00",
          "2010-08-24T00:00:00",
          "2010-08-25T00:00:00",
          "2010-08-26T00:00:00",
          "2010-08-27T00:00:00",
          "2010-08-28T00:00:00",
          "2010-08-29T00:00:00",
          "2010-08-30T00:00:00",
          "2010-08-31T00:00:00",
          "2010-09-01T00:00:00",
          "2010-09-02T00:00:00",
          "2010-09-02T00:00:00",
          "2010-09-02T00:00:00",
          "2010-09-03T00:00:00",
          "2010-09-04T00:00:00",
          "2010-09-05T00:00:00",
          "2010-09-06T00:00:00",
          "2010-09-07T00:00:00",
          "2010-09-08T00:00:00",
          "2010-09-09T00:00:00",
          "2010-09-10T00:00:00",
          "2010-09-11T00:00:00",
          "2010-09-12T00:00:00",
          "2010-09-13T00:00:00",
          "2010-09-14T00:00:00",
          "2010-09-15T00:00:00",
          "2010-09-16T00:00:00",
          "2010-09-17T00:00:00",
          "2010-09-18T00:00:00",
          "2010-09-19T00:00:00",
          "2010-09-20T00:00:00",
          "2010-09-21T00:00:00",
          "2010-09-22T00:00:00",
          "2010-09-22T00:00:00",
          "2010-09-23T00:00:00",
          "2010-09-24T00:00:00",
          "2010-09-24T00:00:00",
          "2010-09-24T00:00:00",
          "2010-09-25T00:00:00",
          "2010-09-26T00:00:00",
          "2010-09-27T00:00:00",
          "2010-09-28T00:00:00",
          "2010-09-29T00:00:00",
          "2010-09-30T00:00:00",
          "2010-09-30T00:00:00",
          "2010-10-01T00:00:00",
          "2010-10-02T00:00:00",
          "2010-10-03T00:00:00",
          "2010-10-04T00:00:00",
          "2010-10-05T00:00:00",
          "2010-10-06T00:00:00",
          "2010-10-07T00:00:00",
          "2010-10-08T00:00:00",
          "2010-10-09T00:00:00",
          "2010-10-10T00:00:00",
          "2010-10-11T00:00:00",
          "2010-10-12T00:00:00",
          "2010-10-13T00:00:00",
          "2010-10-13T00:00:00",
          "2010-10-13T00:00:00",
          "2010-10-13T00:00:00",
          "2010-10-13T00:00:00",
          "2010-10-14T00:00:00",
          "2010-10-15T00:00:00",
          "2010-10-16T00:00:00",
          "2010-10-17T00:00:00",
          "2010-10-18T00:00:00",
          "2010-10-19T00:00:00",
          "2010-10-20T00:00:00",
          "2010-10-21T00:00:00",
          "2010-10-22T00:00:00",
          "2010-10-23T00:00:00",
          "2010-10-24T00:00:00",
          "2010-10-24T00:00:00",
          "2010-10-25T00:00:00",
          "2010-10-26T00:00:00",
          "2010-10-27T00:00:00",
          "2010-10-28T00:00:00",
          "2010-10-29T00:00:00",
          "2010-10-30T00:00:00",
          "2010-10-31T00:00:00",
          "2010-10-31T00:00:00",
          "2010-10-31T00:00:00",
          "2010-11-01T00:00:00",
          "2010-11-02T00:00:00",
          "2010-11-03T00:00:00",
          "2010-11-04T00:00:00",
          "2010-11-04T00:00:00",
          "2010-11-05T00:00:00",
          "2010-11-06T00:00:00",
          "2010-11-07T00:00:00",
          "2010-11-08T00:00:00",
          "2010-11-09T00:00:00",
          "2010-11-10T00:00:00",
          "2010-11-11T00:00:00",
          "2010-11-12T00:00:00",
          "2010-11-13T00:00:00",
          "2010-11-14T00:00:00",
          "2010-11-15T00:00:00",
          "2010-11-16T00:00:00",
          "2010-11-17T00:00:00",
          "2010-11-18T00:00:00",
          "2010-11-18T00:00:00",
          "2010-11-19T00:00:00",
          "2010-11-20T00:00:00",
          "2010-11-21T00:00:00",
          "2010-11-22T00:00:00",
          "2010-11-23T00:00:00",
          "2010-11-24T00:00:00",
          "2010-11-25T00:00:00",
          "2010-11-26T00:00:00",
          "2010-11-27T00:00:00",
          "2010-11-28T00:00:00",
          "2010-11-29T00:00:00",
          "2010-11-30T00:00:00",
          "2010-11-30T00:00:00",
          "2010-12-01T00:00:00",
          "2010-12-02T00:00:00",
          "2010-12-03T00:00:00",
          "2010-12-04T00:00:00",
          "2010-12-05T00:00:00",
          "2010-12-06T00:00:00",
          "2010-12-07T00:00:00",
          "2010-12-08T00:00:00",
          "2010-12-09T00:00:00",
          "2010-12-10T00:00:00",
          "2010-12-11T00:00:00",
          "2010-12-12T00:00:00",
          "2010-12-13T00:00:00",
          "2010-12-14T00:00:00",
          "2010-12-15T00:00:00",
          "2010-12-16T00:00:00",
          "2010-12-17T00:00:00",
          "2010-12-18T00:00:00",
          "2010-12-19T00:00:00",
          "2010-12-20T00:00:00",
          "2010-12-21T00:00:00",
          "2010-12-22T00:00:00",
          "2010-12-23T00:00:00",
          "2010-12-23T00:00:00",
          "2010-12-24T00:00:00",
          "2010-12-25T00:00:00"
         ],
         "y": [
          0,
          0,
          0,
          0,
          0,
          0,
          0,
          0,
          0,
          0,
          0,
          0,
          0,
          0,
          0,
          0,
          0,
          0,
          0,
          0,
          0,
          0,
          0,
          0,
          0,
          0,
          0,
          0,
          0,
          0,
          0,
          0,
          0,
          0,
          0,
          0,
          0,
          0,
          0,
          0,
          0,
          0,
          0,
          0,
          0,
          0,
          0,
          0,
          0,
          0,
          0,
          0,
          0,
          0,
          0,
          0,
          0,
          0,
          0,
          0,
          0,
          0,
          0,
          0,
          0,
          0,
          0,
          0,
          0,
          0,
          0,
          0,
          0,
          0,
          0,
          0,
          0,
          0,
          0,
          0,
          0,
          0,
          0,
          0,
          0,
          0,
          2725.6,
          2725.6,
          2725.6,
          8042.22,
          4912.82,
          11474.46,
          9880.32,
          23519.48,
          37751.31,
          40033.21,
          43048.58,
          28971.33,
          16352.79,
          35293.69,
          43843.17,
          32553.82,
          29768.96,
          23795.71,
          17968.16,
          15347.34,
          15347.34,
          21978.67,
          13493.23,
          13579.57,
          27202.11,
          21094.1,
          6524.39,
          4369.95,
          17062.62,
          10964.03,
          10982.17,
          23881.78,
          22624.78,
          5893.33,
          7013.49,
          13443.05,
          8964.97,
          16911.84,
          14330.93,
          17918.56,
          14578.25,
          5431.91,
          13839.65,
          18571.95,
          13839.65,
          18571.95,
          13839.65,
          18571.95,
          14130.73,
          19165.28,
          13590.66,
          9595.3,
          9370.38,
          16718.43,
          16718.43,
          14444.5,
          12988.68,
          16526.97,
          20332.58,
          11069.04,
          6513.29,
          20920.41,
          8310.06,
          7074.62,
          5718.66,
          7189.41,
          3262.42,
          5381.02,
          214726.09,
          214726.09,
          123472.85,
          74765.45,
          54568.63,
          48044.4,
          27649.79,
          30592.6,
          72146.51,
          72304.28,
          45484.84,
          64384.51,
          0,
          43672.67,
          26799.37,
          26899.92,
          26899.92,
          44451.57,
          37365.35,
          25937.34,
          25819.13,
          26253.03,
          18138.64,
          22564.17,
          39523.63,
          26380.93,
          18955.15,
          11036.66,
          22947.24,
          22947.24,
          22947.24,
          5621.49,
          6031.8,
          13405.22,
          10555.45,
          7923.42,
          12591.05,
          13335.26,
          3256.45,
          3256.45,
          5638.23,
          20428.93,
          16756.73,
          14936.45,
          24726.17,
          38056.69,
          7157.08,
          8572.61,
          14270.48,
          11122.72,
          11424.98,
          10691.66,
          6857.27,
          2735.43,
          5222.47,
          12077.69,
          12636.5,
          13903.56,
          21013.45,
          8981.32,
          2806.79,
          5102.59,
          16017.47,
          13064.98,
          8535.82,
          6017.73,
          5183.35,
          5108.49,
          3662.21,
          13644.03,
          13644.03,
          7180.09,
          7233.81,
          10595.94,
          17042.25,
          18126.87,
          23475.51,
          42938.02,
          15958.63,
          0,
          15216.13,
          18170.7,
          20517.45,
          6342.49,
          5968.22,
          26827.4,
          15774.77,
          10300.58,
          15499.92,
          14482.26,
          12539.21,
          12539.21,
          6841.4,
          23580.4,
          13947.88,
          17449.46,
          13641.69,
          11885.84,
          4918.95,
          6407.61,
          6407.61,
          11562.75,
          16451.18,
          9614.44,
          10168.32,
          10168.32,
          7890.33,
          4814.44,
          10613.82,
          26959.55,
          34452.8,
          32913.19,
          20066.15,
          12027.18,
          4578.94,
          17259.92,
          17259.92,
          17259.92,
          28754.79,
          23665.37,
          21778.06,
          21520.5,
          26138.35,
          13873.36,
          15680.56,
          41601.2,
          25049.11,
          21873.94,
          13004.08,
          15089.14,
          7411.38,
          11024.78,
          15911.76,
          14014.45,
          23142.65,
          14556.33,
          13014.73,
          5222.61,
          5222.61,
          6899.57,
          17989.35,
          17989.35,
          17989.35,
          22739.78,
          18660.24,
          25011.43,
          40833.9,
          13045.83,
          8217.8,
          29324.93,
          15611.18,
          22616.41,
          25702.93,
          16921.72,
          5354.2,
          11724.1,
          17774.04,
          10076.73,
          8417.69,
          20350.95,
          27348.67,
          12054.23,
          4949.87,
          4949.87,
          4949.87,
          4949.87,
          4949.87,
          25964.27,
          37810.36,
          16739.76,
          23163.93,
          15118.33,
          9238.2,
          13002.42,
          14258.33,
          15102.5,
          22190.97,
          12760.05,
          12760.05,
          22799.5,
          21965.84,
          18161.91,
          35205.45,
          0,
          0,
          0,
          0,
          0,
          34733.47,
          24720.61,
          13639.96,
          26832.49,
          26832.49,
          9129.23,
          7678.68,
          32395.74,
          13329.4,
          13705.89,
          32209.12,
          25634.99,
          37318.24,
          70641.97,
          56330.64,
          50377.07,
          72923.04,
          55851.44,
          44080.28,
          44080.28,
          24173.42,
          23261.46,
          76548.51,
          41996.8,
          36425.82,
          40982.8,
          94402.74,
          67829,
          61567.67,
          138266.26,
          108595.84,
          147183.2,
          246578.68,
          21483.59,
          19478.76,
          8896.11,
          24053.81,
          0,
          0,
          0,
          0,
          0,
          0,
          0,
          0,
          0,
          0,
          0,
          0,
          0,
          0,
          0,
          0,
          0,
          0,
          0,
          0,
          0,
          0
         ]
        }
       ],
       "layout": {
        "hovermode": "x unified",
        "legend": {
         "title": {
          "text": "Legend"
         }
        },
        "margin": {
         "b": 0,
         "l": 0,
         "r": 0,
         "t": 50
        },
        "template": {
         "data": {
          "bar": [
           {
            "error_x": {
             "color": "#2a3f5f"
            },
            "error_y": {
             "color": "#2a3f5f"
            },
            "marker": {
             "line": {
              "color": "#E5ECF6",
              "width": 0.5
             },
             "pattern": {
              "fillmode": "overlay",
              "size": 10,
              "solidity": 0.2
             }
            },
            "type": "bar"
           }
          ],
          "barpolar": [
           {
            "marker": {
             "line": {
              "color": "#E5ECF6",
              "width": 0.5
             },
             "pattern": {
              "fillmode": "overlay",
              "size": 10,
              "solidity": 0.2
             }
            },
            "type": "barpolar"
           }
          ],
          "carpet": [
           {
            "aaxis": {
             "endlinecolor": "#2a3f5f",
             "gridcolor": "white",
             "linecolor": "white",
             "minorgridcolor": "white",
             "startlinecolor": "#2a3f5f"
            },
            "baxis": {
             "endlinecolor": "#2a3f5f",
             "gridcolor": "white",
             "linecolor": "white",
             "minorgridcolor": "white",
             "startlinecolor": "#2a3f5f"
            },
            "type": "carpet"
           }
          ],
          "choropleth": [
           {
            "colorbar": {
             "outlinewidth": 0,
             "ticks": ""
            },
            "type": "choropleth"
           }
          ],
          "contour": [
           {
            "colorbar": {
             "outlinewidth": 0,
             "ticks": ""
            },
            "colorscale": [
             [
              0,
              "#0d0887"
             ],
             [
              0.1111111111111111,
              "#46039f"
             ],
             [
              0.2222222222222222,
              "#7201a8"
             ],
             [
              0.3333333333333333,
              "#9c179e"
             ],
             [
              0.4444444444444444,
              "#bd3786"
             ],
             [
              0.5555555555555556,
              "#d8576b"
             ],
             [
              0.6666666666666666,
              "#ed7953"
             ],
             [
              0.7777777777777778,
              "#fb9f3a"
             ],
             [
              0.8888888888888888,
              "#fdca26"
             ],
             [
              1,
              "#f0f921"
             ]
            ],
            "type": "contour"
           }
          ],
          "contourcarpet": [
           {
            "colorbar": {
             "outlinewidth": 0,
             "ticks": ""
            },
            "type": "contourcarpet"
           }
          ],
          "heatmap": [
           {
            "colorbar": {
             "outlinewidth": 0,
             "ticks": ""
            },
            "colorscale": [
             [
              0,
              "#0d0887"
             ],
             [
              0.1111111111111111,
              "#46039f"
             ],
             [
              0.2222222222222222,
              "#7201a8"
             ],
             [
              0.3333333333333333,
              "#9c179e"
             ],
             [
              0.4444444444444444,
              "#bd3786"
             ],
             [
              0.5555555555555556,
              "#d8576b"
             ],
             [
              0.6666666666666666,
              "#ed7953"
             ],
             [
              0.7777777777777778,
              "#fb9f3a"
             ],
             [
              0.8888888888888888,
              "#fdca26"
             ],
             [
              1,
              "#f0f921"
             ]
            ],
            "type": "heatmap"
           }
          ],
          "heatmapgl": [
           {
            "colorbar": {
             "outlinewidth": 0,
             "ticks": ""
            },
            "colorscale": [
             [
              0,
              "#0d0887"
             ],
             [
              0.1111111111111111,
              "#46039f"
             ],
             [
              0.2222222222222222,
              "#7201a8"
             ],
             [
              0.3333333333333333,
              "#9c179e"
             ],
             [
              0.4444444444444444,
              "#bd3786"
             ],
             [
              0.5555555555555556,
              "#d8576b"
             ],
             [
              0.6666666666666666,
              "#ed7953"
             ],
             [
              0.7777777777777778,
              "#fb9f3a"
             ],
             [
              0.8888888888888888,
              "#fdca26"
             ],
             [
              1,
              "#f0f921"
             ]
            ],
            "type": "heatmapgl"
           }
          ],
          "histogram": [
           {
            "marker": {
             "pattern": {
              "fillmode": "overlay",
              "size": 10,
              "solidity": 0.2
             }
            },
            "type": "histogram"
           }
          ],
          "histogram2d": [
           {
            "colorbar": {
             "outlinewidth": 0,
             "ticks": ""
            },
            "colorscale": [
             [
              0,
              "#0d0887"
             ],
             [
              0.1111111111111111,
              "#46039f"
             ],
             [
              0.2222222222222222,
              "#7201a8"
             ],
             [
              0.3333333333333333,
              "#9c179e"
             ],
             [
              0.4444444444444444,
              "#bd3786"
             ],
             [
              0.5555555555555556,
              "#d8576b"
             ],
             [
              0.6666666666666666,
              "#ed7953"
             ],
             [
              0.7777777777777778,
              "#fb9f3a"
             ],
             [
              0.8888888888888888,
              "#fdca26"
             ],
             [
              1,
              "#f0f921"
             ]
            ],
            "type": "histogram2d"
           }
          ],
          "histogram2dcontour": [
           {
            "colorbar": {
             "outlinewidth": 0,
             "ticks": ""
            },
            "colorscale": [
             [
              0,
              "#0d0887"
             ],
             [
              0.1111111111111111,
              "#46039f"
             ],
             [
              0.2222222222222222,
              "#7201a8"
             ],
             [
              0.3333333333333333,
              "#9c179e"
             ],
             [
              0.4444444444444444,
              "#bd3786"
             ],
             [
              0.5555555555555556,
              "#d8576b"
             ],
             [
              0.6666666666666666,
              "#ed7953"
             ],
             [
              0.7777777777777778,
              "#fb9f3a"
             ],
             [
              0.8888888888888888,
              "#fdca26"
             ],
             [
              1,
              "#f0f921"
             ]
            ],
            "type": "histogram2dcontour"
           }
          ],
          "mesh3d": [
           {
            "colorbar": {
             "outlinewidth": 0,
             "ticks": ""
            },
            "type": "mesh3d"
           }
          ],
          "parcoords": [
           {
            "line": {
             "colorbar": {
              "outlinewidth": 0,
              "ticks": ""
             }
            },
            "type": "parcoords"
           }
          ],
          "pie": [
           {
            "automargin": true,
            "type": "pie"
           }
          ],
          "scatter": [
           {
            "fillpattern": {
             "fillmode": "overlay",
             "size": 10,
             "solidity": 0.2
            },
            "type": "scatter"
           }
          ],
          "scatter3d": [
           {
            "line": {
             "colorbar": {
              "outlinewidth": 0,
              "ticks": ""
             }
            },
            "marker": {
             "colorbar": {
              "outlinewidth": 0,
              "ticks": ""
             }
            },
            "type": "scatter3d"
           }
          ],
          "scattercarpet": [
           {
            "marker": {
             "colorbar": {
              "outlinewidth": 0,
              "ticks": ""
             }
            },
            "type": "scattercarpet"
           }
          ],
          "scattergeo": [
           {
            "marker": {
             "colorbar": {
              "outlinewidth": 0,
              "ticks": ""
             }
            },
            "type": "scattergeo"
           }
          ],
          "scattergl": [
           {
            "marker": {
             "colorbar": {
              "outlinewidth": 0,
              "ticks": ""
             }
            },
            "type": "scattergl"
           }
          ],
          "scattermapbox": [
           {
            "marker": {
             "colorbar": {
              "outlinewidth": 0,
              "ticks": ""
             }
            },
            "type": "scattermapbox"
           }
          ],
          "scatterpolar": [
           {
            "marker": {
             "colorbar": {
              "outlinewidth": 0,
              "ticks": ""
             }
            },
            "type": "scatterpolar"
           }
          ],
          "scatterpolargl": [
           {
            "marker": {
             "colorbar": {
              "outlinewidth": 0,
              "ticks": ""
             }
            },
            "type": "scatterpolargl"
           }
          ],
          "scatterternary": [
           {
            "marker": {
             "colorbar": {
              "outlinewidth": 0,
              "ticks": ""
             }
            },
            "type": "scatterternary"
           }
          ],
          "surface": [
           {
            "colorbar": {
             "outlinewidth": 0,
             "ticks": ""
            },
            "colorscale": [
             [
              0,
              "#0d0887"
             ],
             [
              0.1111111111111111,
              "#46039f"
             ],
             [
              0.2222222222222222,
              "#7201a8"
             ],
             [
              0.3333333333333333,
              "#9c179e"
             ],
             [
              0.4444444444444444,
              "#bd3786"
             ],
             [
              0.5555555555555556,
              "#d8576b"
             ],
             [
              0.6666666666666666,
              "#ed7953"
             ],
             [
              0.7777777777777778,
              "#fb9f3a"
             ],
             [
              0.8888888888888888,
              "#fdca26"
             ],
             [
              1,
              "#f0f921"
             ]
            ],
            "type": "surface"
           }
          ],
          "table": [
           {
            "cells": {
             "fill": {
              "color": "#EBF0F8"
             },
             "line": {
              "color": "white"
             }
            },
            "header": {
             "fill": {
              "color": "#C8D4E3"
             },
             "line": {
              "color": "white"
             }
            },
            "type": "table"
           }
          ]
         },
         "layout": {
          "annotationdefaults": {
           "arrowcolor": "#2a3f5f",
           "arrowhead": 0,
           "arrowwidth": 1
          },
          "autotypenumbers": "strict",
          "coloraxis": {
           "colorbar": {
            "outlinewidth": 0,
            "ticks": ""
           }
          },
          "colorscale": {
           "diverging": [
            [
             0,
             "#8e0152"
            ],
            [
             0.1,
             "#c51b7d"
            ],
            [
             0.2,
             "#de77ae"
            ],
            [
             0.3,
             "#f1b6da"
            ],
            [
             0.4,
             "#fde0ef"
            ],
            [
             0.5,
             "#f7f7f7"
            ],
            [
             0.6,
             "#e6f5d0"
            ],
            [
             0.7,
             "#b8e186"
            ],
            [
             0.8,
             "#7fbc41"
            ],
            [
             0.9,
             "#4d9221"
            ],
            [
             1,
             "#276419"
            ]
           ],
           "sequential": [
            [
             0,
             "#0d0887"
            ],
            [
             0.1111111111111111,
             "#46039f"
            ],
            [
             0.2222222222222222,
             "#7201a8"
            ],
            [
             0.3333333333333333,
             "#9c179e"
            ],
            [
             0.4444444444444444,
             "#bd3786"
            ],
            [
             0.5555555555555556,
             "#d8576b"
            ],
            [
             0.6666666666666666,
             "#ed7953"
            ],
            [
             0.7777777777777778,
             "#fb9f3a"
            ],
            [
             0.8888888888888888,
             "#fdca26"
            ],
            [
             1,
             "#f0f921"
            ]
           ],
           "sequentialminus": [
            [
             0,
             "#0d0887"
            ],
            [
             0.1111111111111111,
             "#46039f"
            ],
            [
             0.2222222222222222,
             "#7201a8"
            ],
            [
             0.3333333333333333,
             "#9c179e"
            ],
            [
             0.4444444444444444,
             "#bd3786"
            ],
            [
             0.5555555555555556,
             "#d8576b"
            ],
            [
             0.6666666666666666,
             "#ed7953"
            ],
            [
             0.7777777777777778,
             "#fb9f3a"
            ],
            [
             0.8888888888888888,
             "#fdca26"
            ],
            [
             1,
             "#f0f921"
            ]
           ]
          },
          "colorway": [
           "#636efa",
           "#EF553B",
           "#00cc96",
           "#ab63fa",
           "#FFA15A",
           "#19d3f3",
           "#FF6692",
           "#B6E880",
           "#FF97FF",
           "#FECB52"
          ],
          "font": {
           "color": "#2a3f5f"
          },
          "geo": {
           "bgcolor": "white",
           "lakecolor": "white",
           "landcolor": "#E5ECF6",
           "showlakes": true,
           "showland": true,
           "subunitcolor": "white"
          },
          "hoverlabel": {
           "align": "left"
          },
          "hovermode": "closest",
          "mapbox": {
           "style": "light"
          },
          "paper_bgcolor": "white",
          "plot_bgcolor": "#E5ECF6",
          "polar": {
           "angularaxis": {
            "gridcolor": "white",
            "linecolor": "white",
            "ticks": ""
           },
           "bgcolor": "#E5ECF6",
           "radialaxis": {
            "gridcolor": "white",
            "linecolor": "white",
            "ticks": ""
           }
          },
          "scene": {
           "xaxis": {
            "backgroundcolor": "#E5ECF6",
            "gridcolor": "white",
            "gridwidth": 2,
            "linecolor": "white",
            "showbackground": true,
            "ticks": "",
            "zerolinecolor": "white"
           },
           "yaxis": {
            "backgroundcolor": "#E5ECF6",
            "gridcolor": "white",
            "gridwidth": 2,
            "linecolor": "white",
            "showbackground": true,
            "ticks": "",
            "zerolinecolor": "white"
           },
           "zaxis": {
            "backgroundcolor": "#E5ECF6",
            "gridcolor": "white",
            "gridwidth": 2,
            "linecolor": "white",
            "showbackground": true,
            "ticks": "",
            "zerolinecolor": "white"
           }
          },
          "shapedefaults": {
           "line": {
            "color": "#2a3f5f"
           }
          },
          "ternary": {
           "aaxis": {
            "gridcolor": "white",
            "linecolor": "white",
            "ticks": ""
           },
           "baxis": {
            "gridcolor": "white",
            "linecolor": "white",
            "ticks": ""
           },
           "bgcolor": "#E5ECF6",
           "caxis": {
            "gridcolor": "white",
            "linecolor": "white",
            "ticks": ""
           }
          },
          "title": {
           "x": 0.05
          },
          "xaxis": {
           "automargin": true,
           "gridcolor": "white",
           "linecolor": "white",
           "ticks": "",
           "title": {
            "standoff": 15
           },
           "zerolinecolor": "white",
           "zerolinewidth": 2
          },
          "yaxis": {
           "automargin": true,
           "gridcolor": "white",
           "linecolor": "white",
           "ticks": "",
           "title": {
            "standoff": 15
           },
           "zerolinecolor": "white",
           "zerolinewidth": 2
          }
         }
        },
        "yaxis": {
         "title": {
          "text": "Amount in USD"
         }
        }
       }
      },
      "text/html": [
       "<div>                            <div id=\"71b486fd-9c77-4d87-865c-7fbf3bc28fe7\" class=\"plotly-graph-div\" style=\"height:525px; width:100%;\"></div>            <script type=\"text/javascript\">                require([\"plotly\"], function(Plotly) {                    window.PLOTLYENV=window.PLOTLYENV || {};                                    if (document.getElementById(\"71b486fd-9c77-4d87-865c-7fbf3bc28fe7\")) {                    Plotly.newPlot(                        \"71b486fd-9c77-4d87-865c-7fbf3bc28fe7\",                        [{\"hovertemplate\":\"$%{y}\",\"name\":\"Cost\",\"x\":[\"2010-01-01T00:00:00\",\"2010-01-02T00:00:00\",\"2010-01-03T00:00:00\",\"2010-01-04T00:00:00\",\"2010-01-05T00:00:00\",\"2010-01-06T00:00:00\",\"2010-01-07T00:00:00\",\"2010-01-08T00:00:00\",\"2010-01-09T00:00:00\",\"2010-01-10T00:00:00\",\"2010-01-11T00:00:00\",\"2010-01-12T00:00:00\",\"2010-01-13T00:00:00\",\"2010-01-14T00:00:00\",\"2010-01-15T00:00:00\",\"2010-01-16T00:00:00\",\"2010-01-17T00:00:00\",\"2010-01-18T00:00:00\",\"2010-01-19T00:00:00\",\"2010-01-20T00:00:00\",\"2010-01-21T00:00:00\",\"2010-01-22T00:00:00\",\"2010-01-23T00:00:00\",\"2010-01-24T00:00:00\",\"2010-01-25T00:00:00\",\"2010-01-26T00:00:00\",\"2010-01-27T00:00:00\",\"2010-01-28T00:00:00\",\"2010-01-28T00:00:00\",\"2010-01-29T00:00:00\",\"2010-01-30T00:00:00\",\"2010-01-31T00:00:00\",\"2010-02-01T00:00:00\",\"2010-02-02T00:00:00\",\"2010-02-03T00:00:00\",\"2010-02-04T00:00:00\",\"2010-02-05T00:00:00\",\"2010-02-06T00:00:00\",\"2010-02-07T00:00:00\",\"2010-02-08T00:00:00\",\"2010-02-09T00:00:00\",\"2010-02-10T00:00:00\",\"2010-02-11T00:00:00\",\"2010-02-11T00:00:00\",\"2010-02-12T00:00:00\",\"2010-02-13T00:00:00\",\"2010-02-14T00:00:00\",\"2010-02-15T00:00:00\",\"2010-02-16T00:00:00\",\"2010-02-17T00:00:00\",\"2010-02-18T00:00:00\",\"2010-02-19T00:00:00\",\"2010-02-19T00:00:00\",\"2010-02-19T00:00:00\",\"2010-02-20T00:00:00\",\"2010-02-21T00:00:00\",\"2010-02-22T00:00:00\",\"2010-02-23T00:00:00\",\"2010-02-24T00:00:00\",\"2010-02-25T00:00:00\",\"2010-02-26T00:00:00\",\"2010-02-27T00:00:00\",\"2010-02-28T00:00:00\",\"2010-03-01T00:00:00\",\"2010-03-02T00:00:00\",\"2010-03-03T00:00:00\",\"2010-03-03T00:00:00\",\"2010-03-04T00:00:00\",\"2010-03-05T00:00:00\",\"2010-03-06T00:00:00\",\"2010-03-07T00:00:00\",\"2010-03-08T00:00:00\",\"2010-03-09T00:00:00\",\"2010-03-10T00:00:00\",\"2010-03-11T00:00:00\",\"2010-03-12T00:00:00\",\"2010-03-13T00:00:00\",\"2010-03-14T00:00:00\",\"2010-03-15T00:00:00\",\"2010-03-16T00:00:00\",\"2010-03-16T00:00:00\",\"2010-03-17T00:00:00\",\"2010-03-18T00:00:00\",\"2010-03-19T00:00:00\",\"2010-03-20T00:00:00\",\"2010-03-21T00:00:00\",\"2010-03-22T00:00:00\",\"2010-03-22T00:00:00\",\"2010-03-22T00:00:00\",\"2010-03-23T00:00:00\",\"2010-03-24T00:00:00\",\"2010-03-25T00:00:00\",\"2010-03-26T00:00:00\",\"2010-03-27T00:00:00\",\"2010-03-28T00:00:00\",\"2010-03-29T00:00:00\",\"2010-03-30T00:00:00\",\"2010-03-31T00:00:00\",\"2010-04-01T00:00:00\",\"2010-04-02T00:00:00\",\"2010-04-03T00:00:00\",\"2010-04-04T00:00:00\",\"2010-04-05T00:00:00\",\"2010-04-06T00:00:00\",\"2010-04-07T00:00:00\",\"2010-04-08T00:00:00\",\"2010-04-08T00:00:00\",\"2010-04-09T00:00:00\",\"2010-04-10T00:00:00\",\"2010-04-11T00:00:00\",\"2010-04-12T00:00:00\",\"2010-04-13T00:00:00\",\"2010-04-14T00:00:00\",\"2010-04-15T00:00:00\",\"2010-04-16T00:00:00\",\"2010-04-17T00:00:00\",\"2010-04-18T00:00:00\",\"2010-04-19T00:00:00\",\"2010-04-20T00:00:00\",\"2010-04-21T00:00:00\",\"2010-04-22T00:00:00\",\"2010-04-23T00:00:00\",\"2010-04-24T00:00:00\",\"2010-04-25T00:00:00\",\"2010-04-26T00:00:00\",\"2010-04-27T00:00:00\",\"2010-04-28T00:00:00\",\"2010-04-29T00:00:00\",\"2010-04-30T00:00:00\",\"2010-04-30T00:00:00\",\"2010-04-30T00:00:00\",\"2010-04-30T00:00:00\",\"2010-04-30T00:00:00\",\"2010-04-30T00:00:00\",\"2010-05-01T00:00:00\",\"2010-05-02T00:00:00\",\"2010-05-03T00:00:00\",\"2010-05-04T00:00:00\",\"2010-05-05T00:00:00\",\"2010-05-06T00:00:00\",\"2010-05-06T00:00:00\",\"2010-05-07T00:00:00\",\"2010-05-08T00:00:00\",\"2010-05-09T00:00:00\",\"2010-05-10T00:00:00\",\"2010-05-11T00:00:00\",\"2010-05-12T00:00:00\",\"2010-05-13T00:00:00\",\"2010-05-14T00:00:00\",\"2010-05-15T00:00:00\",\"2010-05-16T00:00:00\",\"2010-05-17T00:00:00\",\"2010-05-18T00:00:00\",\"2010-05-19T00:00:00\",\"2010-05-20T00:00:00\",\"2010-05-20T00:00:00\",\"2010-05-21T00:00:00\",\"2010-05-22T00:00:00\",\"2010-05-23T00:00:00\",\"2010-05-24T00:00:00\",\"2010-05-25T00:00:00\",\"2010-05-26T00:00:00\",\"2010-05-27T00:00:00\",\"2010-05-28T00:00:00\",\"2010-05-29T00:00:00\",\"2010-05-30T00:00:00\",\"2010-05-31T00:00:00\",\"2010-06-01T00:00:00\",\"2010-06-02T00:00:00\",\"2010-06-03T00:00:00\",\"2010-06-03T00:00:00\",\"2010-06-04T00:00:00\",\"2010-06-05T00:00:00\",\"2010-06-06T00:00:00\",\"2010-06-07T00:00:00\",\"2010-06-08T00:00:00\",\"2010-06-09T00:00:00\",\"2010-06-10T00:00:00\",\"2010-06-11T00:00:00\",\"2010-06-12T00:00:00\",\"2010-06-13T00:00:00\",\"2010-06-14T00:00:00\",\"2010-06-15T00:00:00\",\"2010-06-15T00:00:00\",\"2010-06-15T00:00:00\",\"2010-06-16T00:00:00\",\"2010-06-17T00:00:00\",\"2010-06-18T00:00:00\",\"2010-06-19T00:00:00\",\"2010-06-20T00:00:00\",\"2010-06-21T00:00:00\",\"2010-06-22T00:00:00\",\"2010-06-23T00:00:00\",\"2010-06-23T00:00:00\",\"2010-06-24T00:00:00\",\"2010-06-25T00:00:00\",\"2010-06-26T00:00:00\",\"2010-06-27T00:00:00\",\"2010-06-28T00:00:00\",\"2010-06-29T00:00:00\",\"2010-06-30T00:00:00\",\"2010-06-30T00:00:00\",\"2010-07-01T00:00:00\",\"2010-07-02T00:00:00\",\"2010-07-03T00:00:00\",\"2010-07-04T00:00:00\",\"2010-07-05T00:00:00\",\"2010-07-06T00:00:00\",\"2010-07-07T00:00:00\",\"2010-07-08T00:00:00\",\"2010-07-09T00:00:00\",\"2010-07-10T00:00:00\",\"2010-07-11T00:00:00\",\"2010-07-12T00:00:00\",\"2010-07-13T00:00:00\",\"2010-07-14T00:00:00\",\"2010-07-15T00:00:00\",\"2010-07-16T00:00:00\",\"2010-07-17T00:00:00\",\"2010-07-18T00:00:00\",\"2010-07-19T00:00:00\",\"2010-07-20T00:00:00\",\"2010-07-21T00:00:00\",\"2010-07-22T00:00:00\",\"2010-07-22T00:00:00\",\"2010-07-23T00:00:00\",\"2010-07-24T00:00:00\",\"2010-07-25T00:00:00\",\"2010-07-26T00:00:00\",\"2010-07-27T00:00:00\",\"2010-07-28T00:00:00\",\"2010-07-29T00:00:00\",\"2010-07-30T00:00:00\",\"2010-07-31T00:00:00\",\"2010-08-01T00:00:00\",\"2010-08-02T00:00:00\",\"2010-08-03T00:00:00\",\"2010-08-04T00:00:00\",\"2010-08-05T00:00:00\",\"2010-08-06T00:00:00\",\"2010-08-07T00:00:00\",\"2010-08-08T00:00:00\",\"2010-08-09T00:00:00\",\"2010-08-10T00:00:00\",\"2010-08-11T00:00:00\",\"2010-08-11T00:00:00\",\"2010-08-12T00:00:00\",\"2010-08-13T00:00:00\",\"2010-08-14T00:00:00\",\"2010-08-15T00:00:00\",\"2010-08-16T00:00:00\",\"2010-08-17T00:00:00\",\"2010-08-18T00:00:00\",\"2010-08-19T00:00:00\",\"2010-08-19T00:00:00\",\"2010-08-20T00:00:00\",\"2010-08-21T00:00:00\",\"2010-08-22T00:00:00\",\"2010-08-23T00:00:00\",\"2010-08-23T00:00:00\",\"2010-08-24T00:00:00\",\"2010-08-25T00:00:00\",\"2010-08-26T00:00:00\",\"2010-08-27T00:00:00\",\"2010-08-28T00:00:00\",\"2010-08-29T00:00:00\",\"2010-08-30T00:00:00\",\"2010-08-31T00:00:00\",\"2010-09-01T00:00:00\",\"2010-09-02T00:00:00\",\"2010-09-02T00:00:00\",\"2010-09-02T00:00:00\",\"2010-09-03T00:00:00\",\"2010-09-04T00:00:00\",\"2010-09-05T00:00:00\",\"2010-09-06T00:00:00\",\"2010-09-07T00:00:00\",\"2010-09-08T00:00:00\",\"2010-09-09T00:00:00\",\"2010-09-10T00:00:00\",\"2010-09-11T00:00:00\",\"2010-09-12T00:00:00\",\"2010-09-13T00:00:00\",\"2010-09-14T00:00:00\",\"2010-09-15T00:00:00\",\"2010-09-16T00:00:00\",\"2010-09-17T00:00:00\",\"2010-09-18T00:00:00\",\"2010-09-19T00:00:00\",\"2010-09-20T00:00:00\",\"2010-09-21T00:00:00\",\"2010-09-22T00:00:00\",\"2010-09-22T00:00:00\",\"2010-09-23T00:00:00\",\"2010-09-24T00:00:00\",\"2010-09-24T00:00:00\",\"2010-09-24T00:00:00\",\"2010-09-25T00:00:00\",\"2010-09-26T00:00:00\",\"2010-09-27T00:00:00\",\"2010-09-28T00:00:00\",\"2010-09-29T00:00:00\",\"2010-09-30T00:00:00\",\"2010-09-30T00:00:00\",\"2010-10-01T00:00:00\",\"2010-10-02T00:00:00\",\"2010-10-03T00:00:00\",\"2010-10-04T00:00:00\",\"2010-10-05T00:00:00\",\"2010-10-06T00:00:00\",\"2010-10-07T00:00:00\",\"2010-10-08T00:00:00\",\"2010-10-09T00:00:00\",\"2010-10-10T00:00:00\",\"2010-10-11T00:00:00\",\"2010-10-12T00:00:00\",\"2010-10-13T00:00:00\",\"2010-10-13T00:00:00\",\"2010-10-13T00:00:00\",\"2010-10-13T00:00:00\",\"2010-10-13T00:00:00\",\"2010-10-14T00:00:00\",\"2010-10-15T00:00:00\",\"2010-10-16T00:00:00\",\"2010-10-17T00:00:00\",\"2010-10-18T00:00:00\",\"2010-10-19T00:00:00\",\"2010-10-20T00:00:00\",\"2010-10-21T00:00:00\",\"2010-10-22T00:00:00\",\"2010-10-23T00:00:00\",\"2010-10-24T00:00:00\",\"2010-10-24T00:00:00\",\"2010-10-25T00:00:00\",\"2010-10-26T00:00:00\",\"2010-10-27T00:00:00\",\"2010-10-28T00:00:00\",\"2010-10-29T00:00:00\",\"2010-10-30T00:00:00\",\"2010-10-31T00:00:00\",\"2010-10-31T00:00:00\",\"2010-10-31T00:00:00\",\"2010-11-01T00:00:00\",\"2010-11-02T00:00:00\",\"2010-11-03T00:00:00\",\"2010-11-04T00:00:00\",\"2010-11-04T00:00:00\",\"2010-11-05T00:00:00\",\"2010-11-06T00:00:00\",\"2010-11-07T00:00:00\",\"2010-11-08T00:00:00\",\"2010-11-09T00:00:00\",\"2010-11-10T00:00:00\",\"2010-11-11T00:00:00\",\"2010-11-12T00:00:00\",\"2010-11-13T00:00:00\",\"2010-11-14T00:00:00\",\"2010-11-15T00:00:00\",\"2010-11-16T00:00:00\",\"2010-11-17T00:00:00\",\"2010-11-18T00:00:00\",\"2010-11-18T00:00:00\",\"2010-11-19T00:00:00\",\"2010-11-20T00:00:00\",\"2010-11-21T00:00:00\",\"2010-11-22T00:00:00\",\"2010-11-23T00:00:00\",\"2010-11-24T00:00:00\",\"2010-11-25T00:00:00\",\"2010-11-26T00:00:00\",\"2010-11-27T00:00:00\",\"2010-11-28T00:00:00\",\"2010-11-29T00:00:00\",\"2010-11-30T00:00:00\",\"2010-11-30T00:00:00\",\"2010-12-01T00:00:00\",\"2010-12-02T00:00:00\",\"2010-12-03T00:00:00\",\"2010-12-04T00:00:00\",\"2010-12-05T00:00:00\",\"2010-12-06T00:00:00\",\"2010-12-07T00:00:00\",\"2010-12-08T00:00:00\",\"2010-12-09T00:00:00\",\"2010-12-10T00:00:00\",\"2010-12-11T00:00:00\",\"2010-12-12T00:00:00\",\"2010-12-13T00:00:00\",\"2010-12-14T00:00:00\",\"2010-12-15T00:00:00\",\"2010-12-16T00:00:00\",\"2010-12-17T00:00:00\",\"2010-12-18T00:00:00\",\"2010-12-19T00:00:00\",\"2010-12-20T00:00:00\",\"2010-12-21T00:00:00\",\"2010-12-22T00:00:00\",\"2010-12-23T00:00:00\",\"2010-12-23T00:00:00\",\"2010-12-24T00:00:00\",\"2010-12-25T00:00:00\"],\"y\":[311.84,0.0,0.0,0.0,0.0,0.0,0.0,0.0,72.76,0.0,0.0,0.0,0.0,0.0,0.0,0.0,0.0,0.0,0.0,0.0,0.0,0.0,0.0,0.0,0.0,0.0,0.0,15592.05,6236.82,0.0,0.0,0.0,0.0,0.0,0.0,0.0,4959.93,0.0,428.65,0.0,0.0,0.0,128.59,300.05,0.0,0.0,0.0,0.0,0.0,0.0,0.0,490.42,20789.4,14828.23,0.0,106.61,0.0,0.0,0.0,20789.4,0.0,0.0,0.0,0.0,831.58,533.06,1871.05,20082.56,0.0,0.0,0.0,1024.8,1247.36,15592.05,0.0,0.0,0.0,41795.24,0.0,1197.47,1871.05,0.0,0.0,0.0,0.0,0.0,93552.28,7138.52,20789.4,0.0,2078.94,0.0,0.0,0.0,0.0,0.0,155.92,0.0,1322.87,0.0,0.0,0.0,0.0,0.0,0.0,103.95,10690.96,0.0,0.0,0.0,0.0,0.0,0.0,0.0,43078.46,0.0,0.0,575.71,0.0,0.0,22847.55,0.0,0.0,0.0,0.0,1871.05,5332.48,0.0,410.4,410.4,20789.4,20789.4,1279.35,1279.35,0.0,0.0,3072.85,0.0,0.0,93552.28,43657.73,0.0,0.0,0.0,415.79,0.0,0.0,2443.38,0.0,0.0,0.0,0.0,0.0,0.0,4157.88,44315.63,0.0,0.0,0.0,0.0,0.0,0.0,1871.05,0.0,0.0,0.0,0.0,0.0,21828.87,2909.31,3742.09,0.0,0.0,0.0,0.0,0.0,0.0,0.0,0.0,0.0,0.0,0.0,38838.02,583.14,43386.52,0.0,0.0,0.0,0.0,0.0,0.0,0.0,1217.71,32743.3,0.0,0.0,0.0,0.0,0.0,0.0,21793.0,21793.0,21793.0,0.0,0.0,0.0,0.0,0.0,0.0,0.0,0.0,0.0,0.0,36163.15,0.0,0.0,0.0,0.0,0.0,0.0,0.0,0.0,0.0,21793.0,43486.81,0.0,0.0,0.0,1767.1,0.0,0.0,19625.19,0.0,0.0,0.0,0.0,0.0,100342.72,0.0,0.0,0.0,0.0,0.0,0.0,38917.75,1871.05,0.0,0.0,0.0,0.0,4789.67,1299.34,0.0,277.63,1871.05,0.0,0.0,0.0,259.87,2078.94,0.0,249.47,124.74,0.0,0.0,0.0,1808.68,0.0,0.0,17183.78,3118.41,38460.38,51973.49,0.0,0.0,0.0,0.0,0.0,2307.62,0.0,0.0,0.0,0.0,0.0,35783.45,0.0,0.0,0.0,0.0,0.0,0.0,122.87,42704.8,0.0,41578.79,1767.1,36381.44,0.0,0.0,0.0,0.0,0.0,1715.13,1715.13,0.0,0.0,0.0,0.0,0.0,353.42,0.0,0.0,0.0,0.0,0.0,10394.7,386.09,664.07,207.89,8359.42,40680.74,7421.81,0.0,0.0,0.0,0.0,481.97,0.0,0.0,0.0,0.0,16637.75,38460.38,0.0,0.0,0.0,0.0,0.0,0.0,113027.44,8658.78,16631.52,0.0,9022.6,0.0,3035.25,1205.78,0.0,0.0,16631.52,0.0,0.0,0.0,0.0,0.0,0.0,0.0,0.0,1767.1,0.0,18710.46,308.29,0.0,0.0,0.0,0.0,5515.55,0.0,0.0,0.0,0.0,0.0,0.0,0.0,0.0,0.0,0.0,0.0,31184.09,0.0,0.0,0.0,0.0,0.0,0.0,9355.23,0.0,0.0,59927.51,0.0,0.0,0.0,9355.23,0.0,0.0,0.0,0.0,3462.5,117.56,0.0,9355.23],\"type\":\"scatter\",\"marker\":{\"color\":\"rgb(245, 81, 94)\"}},{\"hovertemplate\":\"$%{y}\",\"name\":\"Revenue\",\"x\":[\"2010-01-01T00:00:00\",\"2010-01-02T00:00:00\",\"2010-01-03T00:00:00\",\"2010-01-04T00:00:00\",\"2010-01-05T00:00:00\",\"2010-01-06T00:00:00\",\"2010-01-07T00:00:00\",\"2010-01-08T00:00:00\",\"2010-01-09T00:00:00\",\"2010-01-10T00:00:00\",\"2010-01-11T00:00:00\",\"2010-01-12T00:00:00\",\"2010-01-13T00:00:00\",\"2010-01-14T00:00:00\",\"2010-01-15T00:00:00\",\"2010-01-16T00:00:00\",\"2010-01-17T00:00:00\",\"2010-01-18T00:00:00\",\"2010-01-19T00:00:00\",\"2010-01-20T00:00:00\",\"2010-01-21T00:00:00\",\"2010-01-22T00:00:00\",\"2010-01-23T00:00:00\",\"2010-01-24T00:00:00\",\"2010-01-25T00:00:00\",\"2010-01-26T00:00:00\",\"2010-01-27T00:00:00\",\"2010-01-28T00:00:00\",\"2010-01-28T00:00:00\",\"2010-01-29T00:00:00\",\"2010-01-30T00:00:00\",\"2010-01-31T00:00:00\",\"2010-02-01T00:00:00\",\"2010-02-02T00:00:00\",\"2010-02-03T00:00:00\",\"2010-02-04T00:00:00\",\"2010-02-05T00:00:00\",\"2010-02-06T00:00:00\",\"2010-02-07T00:00:00\",\"2010-02-08T00:00:00\",\"2010-02-09T00:00:00\",\"2010-02-10T00:00:00\",\"2010-02-11T00:00:00\",\"2010-02-11T00:00:00\",\"2010-02-12T00:00:00\",\"2010-02-13T00:00:00\",\"2010-02-14T00:00:00\",\"2010-02-15T00:00:00\",\"2010-02-16T00:00:00\",\"2010-02-17T00:00:00\",\"2010-02-18T00:00:00\",\"2010-02-19T00:00:00\",\"2010-02-19T00:00:00\",\"2010-02-19T00:00:00\",\"2010-02-20T00:00:00\",\"2010-02-21T00:00:00\",\"2010-02-22T00:00:00\",\"2010-02-23T00:00:00\",\"2010-02-24T00:00:00\",\"2010-02-25T00:00:00\",\"2010-02-26T00:00:00\",\"2010-02-27T00:00:00\",\"2010-02-28T00:00:00\",\"2010-03-01T00:00:00\",\"2010-03-02T00:00:00\",\"2010-03-03T00:00:00\",\"2010-03-03T00:00:00\",\"2010-03-04T00:00:00\",\"2010-03-05T00:00:00\",\"2010-03-06T00:00:00\",\"2010-03-07T00:00:00\",\"2010-03-08T00:00:00\",\"2010-03-09T00:00:00\",\"2010-03-10T00:00:00\",\"2010-03-11T00:00:00\",\"2010-03-12T00:00:00\",\"2010-03-13T00:00:00\",\"2010-03-14T00:00:00\",\"2010-03-15T00:00:00\",\"2010-03-16T00:00:00\",\"2010-03-16T00:00:00\",\"2010-03-17T00:00:00\",\"2010-03-18T00:00:00\",\"2010-03-19T00:00:00\",\"2010-03-20T00:00:00\",\"2010-03-21T00:00:00\",\"2010-03-22T00:00:00\",\"2010-03-22T00:00:00\",\"2010-03-22T00:00:00\",\"2010-03-23T00:00:00\",\"2010-03-24T00:00:00\",\"2010-03-25T00:00:00\",\"2010-03-26T00:00:00\",\"2010-03-27T00:00:00\",\"2010-03-28T00:00:00\",\"2010-03-29T00:00:00\",\"2010-03-30T00:00:00\",\"2010-03-31T00:00:00\",\"2010-04-01T00:00:00\",\"2010-04-02T00:00:00\",\"2010-04-03T00:00:00\",\"2010-04-04T00:00:00\",\"2010-04-05T00:00:00\",\"2010-04-06T00:00:00\",\"2010-04-07T00:00:00\",\"2010-04-08T00:00:00\",\"2010-04-08T00:00:00\",\"2010-04-09T00:00:00\",\"2010-04-10T00:00:00\",\"2010-04-11T00:00:00\",\"2010-04-12T00:00:00\",\"2010-04-13T00:00:00\",\"2010-04-14T00:00:00\",\"2010-04-15T00:00:00\",\"2010-04-16T00:00:00\",\"2010-04-17T00:00:00\",\"2010-04-18T00:00:00\",\"2010-04-19T00:00:00\",\"2010-04-20T00:00:00\",\"2010-04-21T00:00:00\",\"2010-04-22T00:00:00\",\"2010-04-23T00:00:00\",\"2010-04-24T00:00:00\",\"2010-04-25T00:00:00\",\"2010-04-26T00:00:00\",\"2010-04-27T00:00:00\",\"2010-04-28T00:00:00\",\"2010-04-29T00:00:00\",\"2010-04-30T00:00:00\",\"2010-04-30T00:00:00\",\"2010-04-30T00:00:00\",\"2010-04-30T00:00:00\",\"2010-04-30T00:00:00\",\"2010-04-30T00:00:00\",\"2010-05-01T00:00:00\",\"2010-05-02T00:00:00\",\"2010-05-03T00:00:00\",\"2010-05-04T00:00:00\",\"2010-05-05T00:00:00\",\"2010-05-06T00:00:00\",\"2010-05-06T00:00:00\",\"2010-05-07T00:00:00\",\"2010-05-08T00:00:00\",\"2010-05-09T00:00:00\",\"2010-05-10T00:00:00\",\"2010-05-11T00:00:00\",\"2010-05-12T00:00:00\",\"2010-05-13T00:00:00\",\"2010-05-14T00:00:00\",\"2010-05-15T00:00:00\",\"2010-05-16T00:00:00\",\"2010-05-17T00:00:00\",\"2010-05-18T00:00:00\",\"2010-05-19T00:00:00\",\"2010-05-20T00:00:00\",\"2010-05-20T00:00:00\",\"2010-05-21T00:00:00\",\"2010-05-22T00:00:00\",\"2010-05-23T00:00:00\",\"2010-05-24T00:00:00\",\"2010-05-25T00:00:00\",\"2010-05-26T00:00:00\",\"2010-05-27T00:00:00\",\"2010-05-28T00:00:00\",\"2010-05-29T00:00:00\",\"2010-05-30T00:00:00\",\"2010-05-31T00:00:00\",\"2010-06-01T00:00:00\",\"2010-06-02T00:00:00\",\"2010-06-03T00:00:00\",\"2010-06-03T00:00:00\",\"2010-06-04T00:00:00\",\"2010-06-05T00:00:00\",\"2010-06-06T00:00:00\",\"2010-06-07T00:00:00\",\"2010-06-08T00:00:00\",\"2010-06-09T00:00:00\",\"2010-06-10T00:00:00\",\"2010-06-11T00:00:00\",\"2010-06-12T00:00:00\",\"2010-06-13T00:00:00\",\"2010-06-14T00:00:00\",\"2010-06-15T00:00:00\",\"2010-06-15T00:00:00\",\"2010-06-15T00:00:00\",\"2010-06-16T00:00:00\",\"2010-06-17T00:00:00\",\"2010-06-18T00:00:00\",\"2010-06-19T00:00:00\",\"2010-06-20T00:00:00\",\"2010-06-21T00:00:00\",\"2010-06-22T00:00:00\",\"2010-06-23T00:00:00\",\"2010-06-23T00:00:00\",\"2010-06-24T00:00:00\",\"2010-06-25T00:00:00\",\"2010-06-26T00:00:00\",\"2010-06-27T00:00:00\",\"2010-06-28T00:00:00\",\"2010-06-29T00:00:00\",\"2010-06-30T00:00:00\",\"2010-06-30T00:00:00\",\"2010-07-01T00:00:00\",\"2010-07-02T00:00:00\",\"2010-07-03T00:00:00\",\"2010-07-04T00:00:00\",\"2010-07-05T00:00:00\",\"2010-07-06T00:00:00\",\"2010-07-07T00:00:00\",\"2010-07-08T00:00:00\",\"2010-07-09T00:00:00\",\"2010-07-10T00:00:00\",\"2010-07-11T00:00:00\",\"2010-07-12T00:00:00\",\"2010-07-13T00:00:00\",\"2010-07-14T00:00:00\",\"2010-07-15T00:00:00\",\"2010-07-16T00:00:00\",\"2010-07-17T00:00:00\",\"2010-07-18T00:00:00\",\"2010-07-19T00:00:00\",\"2010-07-20T00:00:00\",\"2010-07-21T00:00:00\",\"2010-07-22T00:00:00\",\"2010-07-22T00:00:00\",\"2010-07-23T00:00:00\",\"2010-07-24T00:00:00\",\"2010-07-25T00:00:00\",\"2010-07-26T00:00:00\",\"2010-07-27T00:00:00\",\"2010-07-28T00:00:00\",\"2010-07-29T00:00:00\",\"2010-07-30T00:00:00\",\"2010-07-31T00:00:00\",\"2010-08-01T00:00:00\",\"2010-08-02T00:00:00\",\"2010-08-03T00:00:00\",\"2010-08-04T00:00:00\",\"2010-08-05T00:00:00\",\"2010-08-06T00:00:00\",\"2010-08-07T00:00:00\",\"2010-08-08T00:00:00\",\"2010-08-09T00:00:00\",\"2010-08-10T00:00:00\",\"2010-08-11T00:00:00\",\"2010-08-11T00:00:00\",\"2010-08-12T00:00:00\",\"2010-08-13T00:00:00\",\"2010-08-14T00:00:00\",\"2010-08-15T00:00:00\",\"2010-08-16T00:00:00\",\"2010-08-17T00:00:00\",\"2010-08-18T00:00:00\",\"2010-08-19T00:00:00\",\"2010-08-19T00:00:00\",\"2010-08-20T00:00:00\",\"2010-08-21T00:00:00\",\"2010-08-22T00:00:00\",\"2010-08-23T00:00:00\",\"2010-08-23T00:00:00\",\"2010-08-24T00:00:00\",\"2010-08-25T00:00:00\",\"2010-08-26T00:00:00\",\"2010-08-27T00:00:00\",\"2010-08-28T00:00:00\",\"2010-08-29T00:00:00\",\"2010-08-30T00:00:00\",\"2010-08-31T00:00:00\",\"2010-09-01T00:00:00\",\"2010-09-02T00:00:00\",\"2010-09-02T00:00:00\",\"2010-09-02T00:00:00\",\"2010-09-03T00:00:00\",\"2010-09-04T00:00:00\",\"2010-09-05T00:00:00\",\"2010-09-06T00:00:00\",\"2010-09-07T00:00:00\",\"2010-09-08T00:00:00\",\"2010-09-09T00:00:00\",\"2010-09-10T00:00:00\",\"2010-09-11T00:00:00\",\"2010-09-12T00:00:00\",\"2010-09-13T00:00:00\",\"2010-09-14T00:00:00\",\"2010-09-15T00:00:00\",\"2010-09-16T00:00:00\",\"2010-09-17T00:00:00\",\"2010-09-18T00:00:00\",\"2010-09-19T00:00:00\",\"2010-09-20T00:00:00\",\"2010-09-21T00:00:00\",\"2010-09-22T00:00:00\",\"2010-09-22T00:00:00\",\"2010-09-23T00:00:00\",\"2010-09-24T00:00:00\",\"2010-09-24T00:00:00\",\"2010-09-24T00:00:00\",\"2010-09-25T00:00:00\",\"2010-09-26T00:00:00\",\"2010-09-27T00:00:00\",\"2010-09-28T00:00:00\",\"2010-09-29T00:00:00\",\"2010-09-30T00:00:00\",\"2010-09-30T00:00:00\",\"2010-10-01T00:00:00\",\"2010-10-02T00:00:00\",\"2010-10-03T00:00:00\",\"2010-10-04T00:00:00\",\"2010-10-05T00:00:00\",\"2010-10-06T00:00:00\",\"2010-10-07T00:00:00\",\"2010-10-08T00:00:00\",\"2010-10-09T00:00:00\",\"2010-10-10T00:00:00\",\"2010-10-11T00:00:00\",\"2010-10-12T00:00:00\",\"2010-10-13T00:00:00\",\"2010-10-13T00:00:00\",\"2010-10-13T00:00:00\",\"2010-10-13T00:00:00\",\"2010-10-13T00:00:00\",\"2010-10-14T00:00:00\",\"2010-10-15T00:00:00\",\"2010-10-16T00:00:00\",\"2010-10-17T00:00:00\",\"2010-10-18T00:00:00\",\"2010-10-19T00:00:00\",\"2010-10-20T00:00:00\",\"2010-10-21T00:00:00\",\"2010-10-22T00:00:00\",\"2010-10-23T00:00:00\",\"2010-10-24T00:00:00\",\"2010-10-24T00:00:00\",\"2010-10-25T00:00:00\",\"2010-10-26T00:00:00\",\"2010-10-27T00:00:00\",\"2010-10-28T00:00:00\",\"2010-10-29T00:00:00\",\"2010-10-30T00:00:00\",\"2010-10-31T00:00:00\",\"2010-10-31T00:00:00\",\"2010-10-31T00:00:00\",\"2010-11-01T00:00:00\",\"2010-11-02T00:00:00\",\"2010-11-03T00:00:00\",\"2010-11-04T00:00:00\",\"2010-11-04T00:00:00\",\"2010-11-05T00:00:00\",\"2010-11-06T00:00:00\",\"2010-11-07T00:00:00\",\"2010-11-08T00:00:00\",\"2010-11-09T00:00:00\",\"2010-11-10T00:00:00\",\"2010-11-11T00:00:00\",\"2010-11-12T00:00:00\",\"2010-11-13T00:00:00\",\"2010-11-14T00:00:00\",\"2010-11-15T00:00:00\",\"2010-11-16T00:00:00\",\"2010-11-17T00:00:00\",\"2010-11-18T00:00:00\",\"2010-11-18T00:00:00\",\"2010-11-19T00:00:00\",\"2010-11-20T00:00:00\",\"2010-11-21T00:00:00\",\"2010-11-22T00:00:00\",\"2010-11-23T00:00:00\",\"2010-11-24T00:00:00\",\"2010-11-25T00:00:00\",\"2010-11-26T00:00:00\",\"2010-11-27T00:00:00\",\"2010-11-28T00:00:00\",\"2010-11-29T00:00:00\",\"2010-11-30T00:00:00\",\"2010-11-30T00:00:00\",\"2010-12-01T00:00:00\",\"2010-12-02T00:00:00\",\"2010-12-03T00:00:00\",\"2010-12-04T00:00:00\",\"2010-12-05T00:00:00\",\"2010-12-06T00:00:00\",\"2010-12-07T00:00:00\",\"2010-12-08T00:00:00\",\"2010-12-09T00:00:00\",\"2010-12-10T00:00:00\",\"2010-12-11T00:00:00\",\"2010-12-12T00:00:00\",\"2010-12-13T00:00:00\",\"2010-12-14T00:00:00\",\"2010-12-15T00:00:00\",\"2010-12-16T00:00:00\",\"2010-12-17T00:00:00\",\"2010-12-18T00:00:00\",\"2010-12-19T00:00:00\",\"2010-12-20T00:00:00\",\"2010-12-21T00:00:00\",\"2010-12-22T00:00:00\",\"2010-12-23T00:00:00\",\"2010-12-23T00:00:00\",\"2010-12-24T00:00:00\",\"2010-12-25T00:00:00\"],\"y\":[0.0,0.0,0.0,0.0,0.0,0.0,0.0,0.0,0.0,0.0,0.0,0.0,0.0,0.0,0.0,0.0,0.0,0.0,0.0,0.0,0.0,0.0,0.0,0.0,0.0,0.0,0.0,0.0,0.0,0.0,0.0,0.0,0.0,0.0,0.0,0.0,0.0,0.0,0.0,0.0,0.0,0.0,0.0,0.0,0.0,0.0,0.0,0.0,0.0,0.0,0.0,0.0,0.0,0.0,0.0,0.0,0.0,0.0,0.0,0.0,0.0,0.0,0.0,0.0,0.0,0.0,0.0,0.0,0.0,0.0,0.0,0.0,0.0,0.0,0.0,0.0,0.0,0.0,0.0,0.0,0.0,0.0,0.0,0.0,0.0,0.0,2725.6,2725.6,2725.6,8042.22,4912.82,11474.46,9880.32,23519.48,37751.31,40033.21,43048.58,28971.33,16352.79,35293.69,43843.17,32553.82,29768.96,23795.71,17968.16,15347.34,15347.34,21978.67,13493.23,13579.57,27202.11,21094.1,6524.39,4369.95,17062.62,10964.03,10982.17,23881.78,22624.78,5893.33,7013.49,13443.05,8964.97,16911.84,14330.93,17918.56,14578.25,5431.91,13839.65,18571.95,13839.65,18571.95,13839.65,18571.95,14130.73,19165.28,13590.66,9595.3,9370.38,16718.43,16718.43,14444.5,12988.68,16526.97,20332.58,11069.04,6513.29,20920.41,8310.06,7074.62,5718.66,7189.41,3262.42,5381.02,214726.09,214726.09,123472.85,74765.45,54568.63,48044.4,27649.79,30592.6,72146.51,72304.28,45484.84,64384.51,0.0,43672.67,26799.37,26899.92,26899.92,44451.57,37365.35,25937.34,25819.13,26253.03,18138.64,22564.17,39523.63,26380.93,18955.15,11036.66,22947.24,22947.24,22947.24,5621.49,6031.8,13405.22,10555.45,7923.42,12591.05,13335.26,3256.45,3256.45,5638.23,20428.93,16756.73,14936.45,24726.17,38056.69,7157.08,8572.61,14270.48,11122.72,11424.98,10691.66,6857.27,2735.43,5222.47,12077.69,12636.5,13903.56,21013.45,8981.32,2806.79,5102.59,16017.47,13064.98,8535.82,6017.73,5183.35,5108.49,3662.21,13644.03,13644.03,7180.09,7233.81,10595.94,17042.25,18126.87,23475.51,42938.02,15958.63,0.0,15216.13,18170.7,20517.45,6342.49,5968.22,26827.4,15774.77,10300.58,15499.92,14482.26,12539.21,12539.21,6841.4,23580.4,13947.88,17449.46,13641.69,11885.84,4918.95,6407.61,6407.61,11562.75,16451.18,9614.44,10168.32,10168.32,7890.33,4814.44,10613.82,26959.55,34452.8,32913.19,20066.15,12027.18,4578.94,17259.92,17259.92,17259.92,28754.79,23665.37,21778.06,21520.5,26138.35,13873.36,15680.56,41601.2,25049.11,21873.94,13004.08,15089.14,7411.38,11024.78,15911.76,14014.45,23142.65,14556.33,13014.73,5222.61,5222.61,6899.57,17989.35,17989.35,17989.35,22739.78,18660.24,25011.43,40833.9,13045.83,8217.8,29324.93,15611.18,22616.41,25702.93,16921.72,5354.2,11724.1,17774.04,10076.73,8417.69,20350.95,27348.67,12054.23,4949.87,4949.87,4949.87,4949.87,4949.87,25964.27,37810.36,16739.76,23163.93,15118.33,9238.2,13002.42,14258.33,15102.5,22190.97,12760.05,12760.05,22799.5,21965.84,18161.91,35205.45,0.0,0.0,0.0,0.0,0.0,34733.47,24720.61,13639.96,26832.49,26832.49,9129.23,7678.68,32395.74,13329.4,13705.89,32209.12,25634.99,37318.24,70641.97,56330.64,50377.07,72923.04,55851.44,44080.28,44080.28,24173.42,23261.46,76548.51,41996.8,36425.82,40982.8,94402.74,67829.0,61567.67,138266.26,108595.84,147183.2,246578.68,21483.59,19478.76,8896.11,24053.81,0.0,0.0,0.0,0.0,0.0,0.0,0.0,0.0,0.0,0.0,0.0,0.0,0.0,0.0,0.0,0.0,0.0,0.0,0.0,0.0,0.0,0.0],\"type\":\"scatter\",\"marker\":{\"color\":\"green\"}}],                        {\"template\":{\"data\":{\"histogram2dcontour\":[{\"type\":\"histogram2dcontour\",\"colorbar\":{\"outlinewidth\":0,\"ticks\":\"\"},\"colorscale\":[[0.0,\"#0d0887\"],[0.1111111111111111,\"#46039f\"],[0.2222222222222222,\"#7201a8\"],[0.3333333333333333,\"#9c179e\"],[0.4444444444444444,\"#bd3786\"],[0.5555555555555556,\"#d8576b\"],[0.6666666666666666,\"#ed7953\"],[0.7777777777777778,\"#fb9f3a\"],[0.8888888888888888,\"#fdca26\"],[1.0,\"#f0f921\"]]}],\"choropleth\":[{\"type\":\"choropleth\",\"colorbar\":{\"outlinewidth\":0,\"ticks\":\"\"}}],\"histogram2d\":[{\"type\":\"histogram2d\",\"colorbar\":{\"outlinewidth\":0,\"ticks\":\"\"},\"colorscale\":[[0.0,\"#0d0887\"],[0.1111111111111111,\"#46039f\"],[0.2222222222222222,\"#7201a8\"],[0.3333333333333333,\"#9c179e\"],[0.4444444444444444,\"#bd3786\"],[0.5555555555555556,\"#d8576b\"],[0.6666666666666666,\"#ed7953\"],[0.7777777777777778,\"#fb9f3a\"],[0.8888888888888888,\"#fdca26\"],[1.0,\"#f0f921\"]]}],\"heatmap\":[{\"type\":\"heatmap\",\"colorbar\":{\"outlinewidth\":0,\"ticks\":\"\"},\"colorscale\":[[0.0,\"#0d0887\"],[0.1111111111111111,\"#46039f\"],[0.2222222222222222,\"#7201a8\"],[0.3333333333333333,\"#9c179e\"],[0.4444444444444444,\"#bd3786\"],[0.5555555555555556,\"#d8576b\"],[0.6666666666666666,\"#ed7953\"],[0.7777777777777778,\"#fb9f3a\"],[0.8888888888888888,\"#fdca26\"],[1.0,\"#f0f921\"]]}],\"heatmapgl\":[{\"type\":\"heatmapgl\",\"colorbar\":{\"outlinewidth\":0,\"ticks\":\"\"},\"colorscale\":[[0.0,\"#0d0887\"],[0.1111111111111111,\"#46039f\"],[0.2222222222222222,\"#7201a8\"],[0.3333333333333333,\"#9c179e\"],[0.4444444444444444,\"#bd3786\"],[0.5555555555555556,\"#d8576b\"],[0.6666666666666666,\"#ed7953\"],[0.7777777777777778,\"#fb9f3a\"],[0.8888888888888888,\"#fdca26\"],[1.0,\"#f0f921\"]]}],\"contourcarpet\":[{\"type\":\"contourcarpet\",\"colorbar\":{\"outlinewidth\":0,\"ticks\":\"\"}}],\"contour\":[{\"type\":\"contour\",\"colorbar\":{\"outlinewidth\":0,\"ticks\":\"\"},\"colorscale\":[[0.0,\"#0d0887\"],[0.1111111111111111,\"#46039f\"],[0.2222222222222222,\"#7201a8\"],[0.3333333333333333,\"#9c179e\"],[0.4444444444444444,\"#bd3786\"],[0.5555555555555556,\"#d8576b\"],[0.6666666666666666,\"#ed7953\"],[0.7777777777777778,\"#fb9f3a\"],[0.8888888888888888,\"#fdca26\"],[1.0,\"#f0f921\"]]}],\"surface\":[{\"type\":\"surface\",\"colorbar\":{\"outlinewidth\":0,\"ticks\":\"\"},\"colorscale\":[[0.0,\"#0d0887\"],[0.1111111111111111,\"#46039f\"],[0.2222222222222222,\"#7201a8\"],[0.3333333333333333,\"#9c179e\"],[0.4444444444444444,\"#bd3786\"],[0.5555555555555556,\"#d8576b\"],[0.6666666666666666,\"#ed7953\"],[0.7777777777777778,\"#fb9f3a\"],[0.8888888888888888,\"#fdca26\"],[1.0,\"#f0f921\"]]}],\"mesh3d\":[{\"type\":\"mesh3d\",\"colorbar\":{\"outlinewidth\":0,\"ticks\":\"\"}}],\"scatter\":[{\"fillpattern\":{\"fillmode\":\"overlay\",\"size\":10,\"solidity\":0.2},\"type\":\"scatter\"}],\"parcoords\":[{\"type\":\"parcoords\",\"line\":{\"colorbar\":{\"outlinewidth\":0,\"ticks\":\"\"}}}],\"scatterpolargl\":[{\"type\":\"scatterpolargl\",\"marker\":{\"colorbar\":{\"outlinewidth\":0,\"ticks\":\"\"}}}],\"bar\":[{\"error_x\":{\"color\":\"#2a3f5f\"},\"error_y\":{\"color\":\"#2a3f5f\"},\"marker\":{\"line\":{\"color\":\"#E5ECF6\",\"width\":0.5},\"pattern\":{\"fillmode\":\"overlay\",\"size\":10,\"solidity\":0.2}},\"type\":\"bar\"}],\"scattergeo\":[{\"type\":\"scattergeo\",\"marker\":{\"colorbar\":{\"outlinewidth\":0,\"ticks\":\"\"}}}],\"scatterpolar\":[{\"type\":\"scatterpolar\",\"marker\":{\"colorbar\":{\"outlinewidth\":0,\"ticks\":\"\"}}}],\"histogram\":[{\"marker\":{\"pattern\":{\"fillmode\":\"overlay\",\"size\":10,\"solidity\":0.2}},\"type\":\"histogram\"}],\"scattergl\":[{\"type\":\"scattergl\",\"marker\":{\"colorbar\":{\"outlinewidth\":0,\"ticks\":\"\"}}}],\"scatter3d\":[{\"type\":\"scatter3d\",\"line\":{\"colorbar\":{\"outlinewidth\":0,\"ticks\":\"\"}},\"marker\":{\"colorbar\":{\"outlinewidth\":0,\"ticks\":\"\"}}}],\"scattermapbox\":[{\"type\":\"scattermapbox\",\"marker\":{\"colorbar\":{\"outlinewidth\":0,\"ticks\":\"\"}}}],\"scatterternary\":[{\"type\":\"scatterternary\",\"marker\":{\"colorbar\":{\"outlinewidth\":0,\"ticks\":\"\"}}}],\"scattercarpet\":[{\"type\":\"scattercarpet\",\"marker\":{\"colorbar\":{\"outlinewidth\":0,\"ticks\":\"\"}}}],\"carpet\":[{\"aaxis\":{\"endlinecolor\":\"#2a3f5f\",\"gridcolor\":\"white\",\"linecolor\":\"white\",\"minorgridcolor\":\"white\",\"startlinecolor\":\"#2a3f5f\"},\"baxis\":{\"endlinecolor\":\"#2a3f5f\",\"gridcolor\":\"white\",\"linecolor\":\"white\",\"minorgridcolor\":\"white\",\"startlinecolor\":\"#2a3f5f\"},\"type\":\"carpet\"}],\"table\":[{\"cells\":{\"fill\":{\"color\":\"#EBF0F8\"},\"line\":{\"color\":\"white\"}},\"header\":{\"fill\":{\"color\":\"#C8D4E3\"},\"line\":{\"color\":\"white\"}},\"type\":\"table\"}],\"barpolar\":[{\"marker\":{\"line\":{\"color\":\"#E5ECF6\",\"width\":0.5},\"pattern\":{\"fillmode\":\"overlay\",\"size\":10,\"solidity\":0.2}},\"type\":\"barpolar\"}],\"pie\":[{\"automargin\":true,\"type\":\"pie\"}]},\"layout\":{\"autotypenumbers\":\"strict\",\"colorway\":[\"#636efa\",\"#EF553B\",\"#00cc96\",\"#ab63fa\",\"#FFA15A\",\"#19d3f3\",\"#FF6692\",\"#B6E880\",\"#FF97FF\",\"#FECB52\"],\"font\":{\"color\":\"#2a3f5f\"},\"hovermode\":\"closest\",\"hoverlabel\":{\"align\":\"left\"},\"paper_bgcolor\":\"white\",\"plot_bgcolor\":\"#E5ECF6\",\"polar\":{\"bgcolor\":\"#E5ECF6\",\"angularaxis\":{\"gridcolor\":\"white\",\"linecolor\":\"white\",\"ticks\":\"\"},\"radialaxis\":{\"gridcolor\":\"white\",\"linecolor\":\"white\",\"ticks\":\"\"}},\"ternary\":{\"bgcolor\":\"#E5ECF6\",\"aaxis\":{\"gridcolor\":\"white\",\"linecolor\":\"white\",\"ticks\":\"\"},\"baxis\":{\"gridcolor\":\"white\",\"linecolor\":\"white\",\"ticks\":\"\"},\"caxis\":{\"gridcolor\":\"white\",\"linecolor\":\"white\",\"ticks\":\"\"}},\"coloraxis\":{\"colorbar\":{\"outlinewidth\":0,\"ticks\":\"\"}},\"colorscale\":{\"sequential\":[[0.0,\"#0d0887\"],[0.1111111111111111,\"#46039f\"],[0.2222222222222222,\"#7201a8\"],[0.3333333333333333,\"#9c179e\"],[0.4444444444444444,\"#bd3786\"],[0.5555555555555556,\"#d8576b\"],[0.6666666666666666,\"#ed7953\"],[0.7777777777777778,\"#fb9f3a\"],[0.8888888888888888,\"#fdca26\"],[1.0,\"#f0f921\"]],\"sequentialminus\":[[0.0,\"#0d0887\"],[0.1111111111111111,\"#46039f\"],[0.2222222222222222,\"#7201a8\"],[0.3333333333333333,\"#9c179e\"],[0.4444444444444444,\"#bd3786\"],[0.5555555555555556,\"#d8576b\"],[0.6666666666666666,\"#ed7953\"],[0.7777777777777778,\"#fb9f3a\"],[0.8888888888888888,\"#fdca26\"],[1.0,\"#f0f921\"]],\"diverging\":[[0,\"#8e0152\"],[0.1,\"#c51b7d\"],[0.2,\"#de77ae\"],[0.3,\"#f1b6da\"],[0.4,\"#fde0ef\"],[0.5,\"#f7f7f7\"],[0.6,\"#e6f5d0\"],[0.7,\"#b8e186\"],[0.8,\"#7fbc41\"],[0.9,\"#4d9221\"],[1,\"#276419\"]]},\"xaxis\":{\"gridcolor\":\"white\",\"linecolor\":\"white\",\"ticks\":\"\",\"title\":{\"standoff\":15},\"zerolinecolor\":\"white\",\"automargin\":true,\"zerolinewidth\":2},\"yaxis\":{\"gridcolor\":\"white\",\"linecolor\":\"white\",\"ticks\":\"\",\"title\":{\"standoff\":15},\"zerolinecolor\":\"white\",\"automargin\":true,\"zerolinewidth\":2},\"scene\":{\"xaxis\":{\"backgroundcolor\":\"#E5ECF6\",\"gridcolor\":\"white\",\"linecolor\":\"white\",\"showbackground\":true,\"ticks\":\"\",\"zerolinecolor\":\"white\",\"gridwidth\":2},\"yaxis\":{\"backgroundcolor\":\"#E5ECF6\",\"gridcolor\":\"white\",\"linecolor\":\"white\",\"showbackground\":true,\"ticks\":\"\",\"zerolinecolor\":\"white\",\"gridwidth\":2},\"zaxis\":{\"backgroundcolor\":\"#E5ECF6\",\"gridcolor\":\"white\",\"linecolor\":\"white\",\"showbackground\":true,\"ticks\":\"\",\"zerolinecolor\":\"white\",\"gridwidth\":2}},\"shapedefaults\":{\"line\":{\"color\":\"#2a3f5f\"}},\"annotationdefaults\":{\"arrowcolor\":\"#2a3f5f\",\"arrowhead\":0,\"arrowwidth\":1},\"geo\":{\"bgcolor\":\"white\",\"landcolor\":\"#E5ECF6\",\"subunitcolor\":\"white\",\"showland\":true,\"showlakes\":true,\"lakecolor\":\"white\"},\"title\":{\"x\":0.05},\"mapbox\":{\"style\":\"light\"}}},\"yaxis\":{\"title\":{\"text\":\"Amount in USD\"}},\"margin\":{\"l\":0,\"r\":0,\"t\":50,\"b\":0},\"legend\":{\"title\":{\"text\":\"Legend\"}},\"hovermode\":\"x unified\"},                        {\"responsive\": true}                    ).then(function(){\n",
       "                            \n",
       "var gd = document.getElementById('71b486fd-9c77-4d87-865c-7fbf3bc28fe7');\n",
       "var x = new MutationObserver(function (mutations, observer) {{\n",
       "        var display = window.getComputedStyle(gd).display;\n",
       "        if (!display || display === 'none') {{\n",
       "            console.log([gd, 'removed!']);\n",
       "            Plotly.purge(gd);\n",
       "            observer.disconnect();\n",
       "        }}\n",
       "}});\n",
       "\n",
       "// Listen for the removal of the full notebook cells\n",
       "var notebookContainer = gd.closest('#notebook-container');\n",
       "if (notebookContainer) {{\n",
       "    x.observe(notebookContainer, {childList: true});\n",
       "}}\n",
       "\n",
       "// Listen for the clearing of the current output cell\n",
       "var outputEl = gd.closest('.output');\n",
       "if (outputEl) {{\n",
       "    x.observe(outputEl, {childList: true});\n",
       "}}\n",
       "\n",
       "                        })                };                });            </script>        </div>"
      ]
     },
     "metadata": {},
     "output_type": "display_data"
    }
   ],
   "source": [
    "import plotly.graph_objects as go\n",
    "\n",
    "fig = go.Figure()\n",
    "\n",
    "fig.add_trace(go.Line(x = df_main['date'], \n",
    "                      y = df_main['cost'], \n",
    "                      name = 'Cost', \n",
    "                      hovertemplate=\"$%{y}\", \n",
    "                      marker_color='rgb(245, 81, 94)'))\n",
    "\n",
    "fig.add_trace(go.Line(x = df_main['date'], \n",
    "                      y = df_main['revenue'], \n",
    "                      name = 'Revenue', \n",
    "                      hovertemplate=\"$%{y}\", \n",
    "                      marker_color = 'green'))\n",
    "\n",
    "fig.update_layout(yaxis_title_text = 'Amount in USD', \n",
    "                  hovermode='x unified', \n",
    "                  margin = {\"l\": 0, \"r\": 0, \"t\": 50, \"b\": 0}, \n",
    "                  legend_title_text = 'Legend')\n",
    "\n",
    "fig.show()"
   ]
  }
 ],
 "metadata": {
  "kernelspec": {
   "display_name": "Python 3 (ipykernel)",
   "language": "python",
   "name": "python3"
  },
  "language_info": {
   "codemirror_mode": {
    "name": "ipython",
    "version": 3
   },
   "file_extension": ".py",
   "mimetype": "text/x-python",
   "name": "python",
   "nbconvert_exporter": "python",
   "pygments_lexer": "ipython3",
   "version": "3.9.7"
  }
 },
 "nbformat": 4,
 "nbformat_minor": 5
}
